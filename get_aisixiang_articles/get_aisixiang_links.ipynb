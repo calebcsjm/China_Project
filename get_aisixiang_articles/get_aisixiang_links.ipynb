{
 "cells": [
  {
   "cell_type": "code",
   "execution_count": 24,
   "metadata": {},
   "outputs": [],
   "source": [
    "import pandas as pd\n",
    "\n",
    "from bs4 import BeautifulSoup\n",
    "from urllib.request import urlopen\n",
    "import re\n"
   ]
  },
  {
   "cell_type": "code",
   "execution_count": 25,
   "metadata": {},
   "outputs": [
    {
     "data": {
      "text/plain": [
       "810"
      ]
     },
     "execution_count": 25,
     "metadata": {},
     "output_type": "execute_result"
    }
   ],
   "source": [
    "def create_full_urls(links):\n",
    "    for i in range(len(links)):\n",
    "        extension = links[i]\n",
    "        full_link = 'https://www.aisixiang.com' + extension\n",
    "        links[i] = full_link\n",
    "\n",
    "    return links\n",
    "\n",
    "def get_links_of_type(soup, link_substring):\n",
    "    \"\"\"Return list of links from the page that have the given substring\"\"\"\n",
    "\n",
    "    link_eles = soup.find_all('a')\n",
    "    all_links = [a['href'] for a in link_eles]\n",
    "\n",
    "    filtered_links = [link for link in all_links if link_substring in link]\n",
    "\n",
    "    links = create_full_urls(filtered_links)\n",
    "\n",
    "    return links\n",
    "\n",
    "\n",
    "root_page = urlopen('https://www.aisixiang.com/thinktank/')\n",
    "root_html = root_page.read().decode(\"utf-8\")\n",
    "root_soup = BeautifulSoup(root_html, \"html.parser\")\n",
    "\n",
    "author_links = get_links_of_type(root_soup, 'thinktank')\n",
    "author_links.pop(0)\n",
    "len(author_links)"
   ]
  },
  {
   "cell_type": "code",
   "execution_count": 30,
   "metadata": {},
   "outputs": [],
   "source": [
    "from tqdm import tqdm\n",
    "from urllib.error import URLError"
   ]
  },
  {
   "cell_type": "code",
   "execution_count": 31,
   "metadata": {},
   "outputs": [],
   "source": [
    "article_links = []\n",
    "failed_urls = []\n",
    "\n",
    "def get_article_links(timeout=10):\n",
    "    failed_urls = []\n",
    "\n",
    "    for link in tqdm(author_links):\n",
    "        try:\n",
    "            with urlopen(link, timeout=timeout) as author_page:\n",
    "                author_html = author_page.read().decode(\"utf-8\")\n",
    "                author_soup = BeautifulSoup(author_html, \"html.parser\")\n",
    "\n",
    "                author_article_links = get_links_of_type(author_soup, 'data')\n",
    "                article_links.extend(author_article_links)\n",
    "        except URLError as e:\n",
    "            print(f\"Error fetching links from {link}: {e}\")\n",
    "            failed_urls.append(link)\n",
    "        except Exception as e:\n",
    "            print(f\"Error processing {link}: {e}\")\n",
    "            failed_urls.append(link)\n",
    "\n",
    "    return failed_urls\n"
   ]
  },
  {
   "cell_type": "code",
   "execution_count": 32,
   "metadata": {},
   "outputs": [
    {
     "name": "stderr",
     "output_type": "stream",
     "text": [
      "100%|██████████| 810/810 [03:24<00:00,  3.97it/s]\n"
     ]
    }
   ],
   "source": [
    "failed_urls = get_article_links()"
   ]
  },
  {
   "cell_type": "code",
   "execution_count": 34,
   "metadata": {},
   "outputs": [
    {
     "data": {
      "text/plain": [
       "56341"
      ]
     },
     "execution_count": 34,
     "metadata": {},
     "output_type": "execute_result"
    }
   ],
   "source": [
    "len(article_links)"
   ]
  },
  {
   "cell_type": "code",
   "execution_count": 35,
   "metadata": {},
   "outputs": [],
   "source": [
    "article_links_df = pd.DataFrame({'links': article_links})"
   ]
  },
  {
   "cell_type": "code",
   "execution_count": 36,
   "metadata": {},
   "outputs": [
    {
     "data": {
      "text/html": [
       "<div>\n",
       "<style scoped>\n",
       "    .dataframe tbody tr th:only-of-type {\n",
       "        vertical-align: middle;\n",
       "    }\n",
       "\n",
       "    .dataframe tbody tr th {\n",
       "        vertical-align: top;\n",
       "    }\n",
       "\n",
       "    .dataframe thead th {\n",
       "        text-align: right;\n",
       "    }\n",
       "</style>\n",
       "<table border=\"1\" class=\"dataframe\">\n",
       "  <thead>\n",
       "    <tr style=\"text-align: right;\">\n",
       "      <th></th>\n",
       "      <th>links</th>\n",
       "    </tr>\n",
       "  </thead>\n",
       "  <tbody>\n",
       "    <tr>\n",
       "      <th>0</th>\n",
       "      <td>https://www.aisixiang.com/data/149906.html</td>\n",
       "    </tr>\n",
       "    <tr>\n",
       "      <th>1</th>\n",
       "      <td>https://www.aisixiang.com/data/149797.html</td>\n",
       "    </tr>\n",
       "    <tr>\n",
       "      <th>2</th>\n",
       "      <td>https://www.aisixiang.com/data/149796.html</td>\n",
       "    </tr>\n",
       "    <tr>\n",
       "      <th>3</th>\n",
       "      <td>https://www.aisixiang.com/data/149762.html</td>\n",
       "    </tr>\n",
       "    <tr>\n",
       "      <th>4</th>\n",
       "      <td>https://www.aisixiang.com/data/149760.html</td>\n",
       "    </tr>\n",
       "  </tbody>\n",
       "</table>\n",
       "</div>"
      ],
      "text/plain": [
       "                                        links\n",
       "0  https://www.aisixiang.com/data/149906.html\n",
       "1  https://www.aisixiang.com/data/149797.html\n",
       "2  https://www.aisixiang.com/data/149796.html\n",
       "3  https://www.aisixiang.com/data/149762.html\n",
       "4  https://www.aisixiang.com/data/149760.html"
      ]
     },
     "execution_count": 36,
     "metadata": {},
     "output_type": "execute_result"
    }
   ],
   "source": [
    "article_links_df.head(5)"
   ]
  },
  {
   "cell_type": "code",
   "execution_count": 37,
   "metadata": {},
   "outputs": [],
   "source": [
    "article_links_df.to_csv('asx_article_links.csv', index=False)"
   ]
  },
  {
   "cell_type": "code",
   "execution_count": null,
   "metadata": {},
   "outputs": [],
   "source": []
  }
 ],
 "metadata": {
  "kernelspec": {
   "display_name": "qiushi_venv",
   "language": "python",
   "name": "python3"
  },
  "language_info": {
   "codemirror_mode": {
    "name": "ipython",
    "version": 3
   },
   "file_extension": ".py",
   "mimetype": "text/x-python",
   "name": "python",
   "nbconvert_exporter": "python",
   "pygments_lexer": "ipython3",
   "version": "3.11.6"
  }
 },
 "nbformat": 4,
 "nbformat_minor": 2
}

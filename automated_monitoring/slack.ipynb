{
 "cells": [
  {
   "cell_type": "code",
   "execution_count": 7,
   "metadata": {},
   "outputs": [],
   "source": [
    "import logging\n",
    "import os\n",
    "# Import WebClient from Python SDK (github.com/slackapi/python-slack-sdk)\n",
    "from slack_sdk import WebClient\n",
    "from slack_sdk.errors import SlackApiError\n",
    "\n",
    "# WebClient instantiates a client that can call API methods\n",
    "# When using Bolt, you can use either `app.client` or the `client` passed to listeners.\n",
    "\n",
    "filehandle = open(\"slackbot_token.txt\", 'r')\n",
    "SLACK_BOT_TOKEN = filehandle.read() \n",
    "filehandle.close()\n",
    "\n",
    "client = WebClient(token=SLACK_BOT_TOKEN)\n",
    "logger = logging.getLogger(__name__)"
   ]
  },
  {
   "cell_type": "code",
   "execution_count": 8,
   "metadata": {},
   "outputs": [
    {
     "data": {
      "text/plain": [
       "<slack_sdk.web.slack_response.SlackResponse at 0x104b1d610>"
      ]
     },
     "execution_count": 8,
     "metadata": {},
     "output_type": "execute_result"
    }
   ],
   "source": [
    "client.chat_postMessage(\n",
    "    channel=\"general\", \n",
    "    text=\"test\"\n",
    ")"
   ]
  }
 ],
 "metadata": {
  "kernelspec": {
   "display_name": "qiushi_venv",
   "language": "python",
   "name": "python3"
  },
  "language_info": {
   "codemirror_mode": {
    "name": "ipython",
    "version": 3
   },
   "file_extension": ".py",
   "mimetype": "text/x-python",
   "name": "python",
   "nbconvert_exporter": "python",
   "pygments_lexer": "ipython3",
   "version": "3.11.6"
  }
 },
 "nbformat": 4,
 "nbformat_minor": 2
}

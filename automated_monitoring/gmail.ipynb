{
 "cells": [
  {
   "cell_type": "code",
   "execution_count": null,
   "metadata": {},
   "outputs": [],
   "source": [
    "import yagmail\n",
    "\n",
    "filehandle = open(\"gmail_password.txt\", 'r')\n",
    "SENDING_EMAIL_PASSWORD = filehandle.read() \n",
    "filehandle.close()\n",
    "\n",
    "SENDING_EMAIL_USERNAME = \"ch.coding.test\" # replace with the username of the gmail account you created (e.g. \"john.webmonitor\" if the email is \"john.webmonitor@gmail.com\")\n",
    "RECIPIENT_EMAIL_ADDRESS = \"ch.coding.test@gmail.com\" # replace with the email address that will receive the notification\n",
    "\n",
    "def send_email_alert(message):\n",
    "    \"\"\"Sends an email alert.\"\"\"\n",
    "    yagmail.SMTP(SENDING_EMAIL_USERNAME, SENDING_EMAIL_PASSWORD).send(\n",
    "        RECIPIENT_EMAIL_ADDRESS, subject=\"New article\", contents=message)\n"
   ]
  }
 ],
 "metadata": {
  "language_info": {
   "name": "python"
  }
 },
 "nbformat": 4,
 "nbformat_minor": 2
}

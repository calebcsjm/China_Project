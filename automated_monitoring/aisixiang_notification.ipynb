{
 "cells": [
  {
   "cell_type": "code",
   "execution_count": 1,
   "metadata": {},
   "outputs": [],
   "source": [
    "# tutorial\n",
    "# https://medium.com/swlh/tutorial-creating-a-webpage-monitor-using-python-and-running-it-on-a-raspberry-pi-df763c142dac \n",
    "\n",
    "# https://www.datacamp.com/tutorial/how-to-send-slack-messages-with-python \n"
   ]
  },
  {
   "cell_type": "code",
   "execution_count": 2,
   "metadata": {},
   "outputs": [],
   "source": [
    "from bs4 import BeautifulSoup\n",
    "from urllib.request import urlopen\n",
    "import re"
   ]
  },
  {
   "cell_type": "code",
   "execution_count": 3,
   "metadata": {},
   "outputs": [],
   "source": [
    "page = urlopen(\"https://www.aisixiang.com/rss?type=1\")\n",
    "xml = page.read().decode(\"utf-8\")\n",
    "rss_soup = BeautifulSoup(xml, features='xml')"
   ]
  },
  {
   "cell_type": "code",
   "execution_count": 4,
   "metadata": {},
   "outputs": [],
   "source": [
    "articles = rss_soup.find_all('item')\n",
    "# articles"
   ]
  },
  {
   "cell_type": "code",
   "execution_count": 6,
   "metadata": {},
   "outputs": [
    {
     "data": {
      "text/plain": [
       "'Saturday, 02 March 2024 09:54:05 +0800'"
      ]
     },
     "execution_count": 6,
     "metadata": {},
     "output_type": "execute_result"
    }
   ],
   "source": [
    "most_recent_time_string = articles[0].pubDate.text\n",
    "most_recent_time_string"
   ]
  },
  {
   "cell_type": "code",
   "execution_count": 8,
   "metadata": {},
   "outputs": [],
   "source": [
    "import logging\n",
    "import os\n",
    "# Import WebClient from Python SDK (github.com/slackapi/python-slack-sdk)\n",
    "from slack_sdk import WebClient\n",
    "from slack_sdk.errors import SlackApiError\n",
    "\n",
    "# WebClient instantiates a client that can call API methods\n",
    "# When using Bolt, you can use either `app.client` or the `client` passed to listeners.\n",
    "\n",
    "filehandle = open(\"slackbot_token.txt\", 'r')\n",
    "SLACK_BOT_TOKEN = filehandle.read() \n",
    "filehandle.close()\n",
    "\n",
    "client = WebClient(token=SLACK_BOT_TOKEN)\n",
    "logger = logging.getLogger(__name__)"
   ]
  },
  {
   "cell_type": "code",
   "execution_count": 9,
   "metadata": {},
   "outputs": [],
   "source": [
    "from datetime import datetime\n",
    "\n",
    "def notify(article):\n",
    "    print(f\"\\nNew article: {article.title.text}\")\n",
    "    message = article.title.text + \"\\n\" + article.link.text\n",
    "    # determine where you want to send the message to\n",
    "    client.chat_postMessage(\n",
    "    channel=\"general\", \n",
    "    text=message\n",
    "    )\n",
    "\n",
    "def identify_new_articles(previous_most_recent_timestamp, articles):\n",
    "    time_format = '%A, %d %B %Y %H:%M:%S %z'\n",
    "\n",
    "    # convert the timestamp string to a datetime object\n",
    "    reference_time = datetime.strptime(previous_most_recent_timestamp, time_format)\n",
    "    print(f\"\\nReference time: {reference_time}\")\n",
    "\n",
    "    for article in articles:\n",
    "        article_time = article.pubDate.text\n",
    "        article_time = datetime.strptime(article_time, time_format)\n",
    "\n",
    "        if article_time > reference_time:\n",
    "            notify(article)\n",
    "\n"
   ]
  },
  {
   "cell_type": "code",
   "execution_count": 10,
   "metadata": {},
   "outputs": [
    {
     "name": "stdout",
     "output_type": "stream",
     "text": [
      "Previous most recent timestamp: Saturday, 02 March 2024 08:59:01 +0800\n",
      "\n",
      "Reference time: 2024-03-02 08:59:01+08:00\n",
      "\n",
      "New article: 金冲及 邵建斌：从三大战役看中国共产党人的战略思维\n",
      "\n",
      "New article: 王文涛：经济全球化发展走向与扩大高水平对外开放\n",
      "True\n"
     ]
    }
   ],
   "source": [
    "import os\n",
    "\n",
    "if not os.path.exists(\"previous_most_recent_timestamp.txt\"):\n",
    "    open(\"previous_most_recent_timestamp.txt\", 'w+').close()\n",
    "\n",
    "filehandle = open(\"previous_most_recent_timestamp.txt\", 'r')\n",
    "previous_most_recent_timestamp = filehandle.read() \n",
    "filehandle.close()\n",
    "\n",
    "# in case this is the first run, set the timestamp to be the oldest in the rss file\n",
    "if previous_most_recent_timestamp == \"\":\n",
    "    previous_most_recent_timestamp = articles[-1].pubDate.text\n",
    "\n",
    "print(f\"Previous most recent timestamp: {previous_most_recent_timestamp}\")\n",
    "\n",
    "if most_recent_time_string == previous_most_recent_timestamp:\n",
    "    # matches, no new info\n",
    "    print(False)\n",
    "else:\n",
    "    # does not match, send notifications for new ones\n",
    "    filehandle = open(\"previous_most_recent_timestamp.txt\", 'w')\n",
    "\n",
    "    identify_new_articles(previous_most_recent_timestamp, articles)\n",
    "\n",
    "    filehandle.write(most_recent_time_string)\n",
    "    filehandle.close()\n",
    "    print(True)"
   ]
  },
  {
   "cell_type": "code",
   "execution_count": null,
   "metadata": {},
   "outputs": [],
   "source": [
    "# sending slack messages with a bot: https://api.slack.com/messaging/sending \n",
    "\n",
    "# cron: 0 */6 * * *"
   ]
  }
 ],
 "metadata": {
  "kernelspec": {
   "display_name": "qiushi_venv",
   "language": "python",
   "name": "python3"
  },
  "language_info": {
   "codemirror_mode": {
    "name": "ipython",
    "version": 3
   },
   "file_extension": ".py",
   "mimetype": "text/x-python",
   "name": "python",
   "nbconvert_exporter": "python",
   "pygments_lexer": "ipython3",
   "version": "3.11.6"
  }
 },
 "nbformat": 4,
 "nbformat_minor": 2
}

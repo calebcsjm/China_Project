{
 "cells": [
  {
   "cell_type": "code",
   "execution_count": 10,
   "metadata": {},
   "outputs": [],
   "source": [
    "from bs4 import BeautifulSoup\n",
    "from urllib.request import urlopen\n",
    "import re\n",
    "\n",
    "def get_soup(url):\n",
    "    page = urlopen(url)\n",
    "    html = page.read().decode(\"utf-8\")\n",
    "    return BeautifulSoup(html, \"html.parser\")"
   ]
  },
  {
   "cell_type": "code",
   "execution_count": 11,
   "metadata": {},
   "outputs": [],
   "source": [
    "def get_articles_from_edition(edition_link):\n",
    "    edition_soup = get_soup(edition_link)\n",
    "    edition_name = edition_soup.find(\"h1\").text.strip()\n",
    "    print(f\"On edition {edition_name}\")\n",
    "\n",
    "    article_eles = edition_soup.find_all('a')\n",
    "    links = [a['href'] for a in article_eles]\n",
    "\n",
    "    article_links = []\n",
    "    for link in links:\n",
    "        result = re.search(\".*dukan.*\", link)\n",
    "        if result != None: \n",
    "            article_links.append(link) \n",
    "\n",
    "    # drop the last link, which takes you back to the edition page\n",
    "    article_links = article_links[:-1]\n",
    "    return article_links, edition_name\n",
    "            "
   ]
  },
  {
   "cell_type": "code",
   "execution_count": 12,
   "metadata": {},
   "outputs": [],
   "source": [
    "def get_editions_from_year(year_link):\n",
    "    year_soup = get_soup(year_link)\n",
    "    year_name = year_soup.find(\"h1\").text.strip()\n",
    "    print(year_name)\n",
    "\n",
    "    edition_eles = year_soup.find_all(\"a\")\n",
    "    links = [a['href'] for a in edition_eles]\n",
    "    edition_links = []\n",
    "\n",
    "    for link in links:\n",
    "        result = re.search(\".*dukan.*\", link)\n",
    "        if result != None: \n",
    "            edition_links.append(link) \n",
    "\n",
    "    return edition_links, year_name\n",
    "        "
   ]
  },
  {
   "cell_type": "code",
   "execution_count": 13,
   "metadata": {},
   "outputs": [],
   "source": [
    "def get_years_from_head():\n",
    "    mulu_link = \"http://www.qstheory.cn/qs/mulu.htm\"\n",
    "    mulu_soup = get_soup(mulu_link)\n",
    "\n",
    "    year_eles = mulu_soup.find_all(\"div\", class_=\"booktitle\")\n",
    "    year_links = [div.a['href'] for div in year_eles]\n",
    "    print(year_links)\n",
    "    \n",
    "    return year_links"
   ]
  },
  {
   "cell_type": "code",
   "execution_count": 14,
   "metadata": {},
   "outputs": [],
   "source": [
    "import pandas as pd\n",
    "\n",
    "links_df = pd.DataFrame(columns=[\"year_name\", \"edition_name\", \"link\"])"
   ]
  },
  {
   "cell_type": "code",
   "execution_count": 15,
   "metadata": {},
   "outputs": [
    {
     "name": "stdout",
     "output_type": "stream",
     "text": [
      "['http://www.qstheory.cn/dukan/qs/2024-01/01/c_1130050739.htm', 'http://www.qstheory.cn/dukan/qs/2023-01/01/c_1129248666.htm', 'http://www.qstheory.cn/dukan/qs/2022-01/01/c_1128224917.htm', 'http://www.qstheory.cn/dukan/qs/2021-01/01/c_1126937378.htm', 'http://www.qstheory.cn/dukan/qs/2020-01/01/c_1125412076.htm', 'http://www.qstheory.cn/dukan/qs/2019-01/01/c_1123932149.htm']\n",
      "《求是》2024年\n",
      "On edition 2024年第1期《求是》目录\n",
      "On edition 2024年第2期《求是》目录\n",
      "《求是》2023年\n",
      "On edition 2023年第1期《求是》目录\n",
      "On edition 2023年第2期《求是》目录\n",
      "On edition 2023年第3期《求是》目录\n",
      "On edition 2023年第4期《求是》目录\n",
      "On edition 2023年第5期《求是》目录\n",
      "On edition 2023年第6期《求是》目录\n",
      "On edition 2023年第7期《求是》目录\n",
      "On edition 2023年第8期《求是》目录\n",
      "On edition 2023年第9期《求是》目录\n",
      "On edition 2023年第10期《求是》目录\n",
      "On edition 2023年第11期《求是》目录\n",
      "On edition 2023年第12期《求是》目录\n",
      "On edition 2023年第13期《求是》目录\n",
      "On edition 2023年第14期《求是》目录\n",
      "On edition 2023年第15期《求是》目录\n",
      "On edition 2023年第16期《求是》目录\n",
      "On edition 2023年第17期《求是》目录\n",
      "On edition 2023年第18期《求是》目录\n",
      "On edition 2023年第19期《求是》目录\n",
      "On edition 2023年第20期《求是》目录\n",
      "On edition 2023年第21期《求是》目录\n",
      "On edition 2023年第22期《求是》目录\n",
      "On edition 2023年第23期《求是》目录\n",
      "On edition 2023年第24期《求是》目录\n",
      "《求是》2022年\n",
      "On edition 2022年第1期《求是》目录\n",
      "On edition 2022年第2期《求是》目录\n",
      "On edition 2022年第3期《求是》目录\n",
      "On edition 2022年第4期《求是》目录\n",
      "On edition 2022年第5期《求是》目录\n",
      "On edition 2022年第6期《求是》目录\n",
      "On edition 2022年第7期《求是》目录\n",
      "On edition 2022年第8期《求是》目录\n",
      "On edition 2022年第9期《求是》目录\n",
      "On edition 2022年第10期《求是》目录\n",
      "On edition 2022年第11期《求是》目录\n",
      "On edition 2022年第12期《求是》目录\n",
      "On edition 2022年第13期《求是》目录\n",
      "On edition 2022年第14期《求是》目录\n",
      "On edition 2022年第15期《求是》目录\n",
      "On edition 2022年第16期《求是》目录\n",
      "On edition 2022年第17期《求是》目录\n",
      "On edition 2022年第18期《求是》目录\n",
      "On edition 2022年第19期《求是》目录\n",
      "On edition 2022年第20期《求是》目录\n",
      "On edition 2022年第21期《求是》目录\n",
      "On edition 2022年第22期《求是》目录\n",
      "On edition 2022年第23期《求是》目录\n",
      "On edition 2022年第24期《求是》目录\n",
      "《求是》2021年\n",
      "On edition 2021年第1期《求是》目录\n",
      "On edition 2021年第2期《求是》目录\n",
      "On edition 2021年第3期《求是》目录\n",
      "On edition 2021年第4期《求是》目录\n",
      "On edition 2021年第5期《求是》目录\n",
      "On edition 2021年第6期《求是》目录\n",
      "On edition 2021年第7期《求是》目录\n",
      "On edition 2021年第8期《求是》目录\n",
      "On edition 2021年第9期《求是》目录\n",
      "On edition 2021年第10期《求是》目录\n",
      "On edition 2021年第11期《求是》目录\n",
      "On edition 2021年第12期《求是》目录\n",
      "On edition 2021年第13期《求是》目录\n",
      "On edition 2021年第14期《求是》目录\n",
      "On edition 2021年第15期《求是》目录\n",
      "On edition 2021年第16期《求是》目录\n",
      "On edition 2021年第17期《求是》目录\n",
      "On edition 2021年第18期《求是》目录\n",
      "On edition 2021年第19期《求是》目录\n",
      "On edition 2021年第20期《求是》目录\n",
      "On edition 2021年第21期《求是》目录\n",
      "On edition 2021年第22期《求是》目录\n",
      "On edition 2021年第23期《求是》目录\n",
      "On edition 2021年第24期《求是》目录\n",
      "《求是》2020年\n",
      "On edition 《求是》2020年第1期\n",
      "On edition 《求是》2020年第2期\n",
      "On edition 《求是》2020年第3期\n",
      "On edition 《求是》2020年第4期\n",
      "On edition 《求是》2020年第5期\n",
      "On edition 《求是》2020年第6期\n",
      "On edition 《求是》2020年第7期\n",
      "On edition 《求是》2020年第8期\n",
      "On edition 《求是》2020年第9期\n",
      "On edition 《求是》2020年第10期\n",
      "On edition 《求是》2020年第11期\n",
      "On edition 《求是》2020年第12期\n",
      "On edition 《求是》2020年第13期\n",
      "On edition 《求是》2020年第14期\n",
      "On edition 2020年第15期《求是》目录\n",
      "On edition 2020年第16期《求是》目录\n",
      "On edition 2020年第17期《求是》目录\n",
      "On edition 2020年第18期《求是》目录\n",
      "On edition 2020年第19期《求是》目录\n",
      "On edition 2020年第20期《求是》目录\n",
      "On edition 2020年第21期《求是》目录\n",
      "On edition 2020年第22期《求是》目录\n",
      "On edition 2020年第23期《求是》目录\n",
      "On edition 2020年第24期《求是》目录\n",
      "2019年\n",
      "On edition 《求是》2019年第1期\n",
      "On edition 《求是》2019年第2期\n",
      "On edition 《求是》2019年第3期\n",
      "On edition 《求是》2019年第4期\n",
      "On edition 《求是》2019年第5期\n",
      "On edition 《求是》2019年第6期\n",
      "On edition 《求是》2019年第7期\n",
      "On edition 《求是》2019年第8期\n",
      "On edition 《求是》2019年第9期\n",
      "On edition 《求是》2019年第10期\n",
      "On edition 《求是》2019年第11期\n",
      "On edition 《求是》2019年第12期\n",
      "On edition 《求是》2019年第13期\n",
      "On edition 《求是》2019年第14期\n",
      "On edition 《求是》2019年第15期\n",
      "On edition 《求是》2019年第16期\n",
      "On edition 《求是》2019年第17期\n",
      "On edition 《求是》2019年第18期\n",
      "On edition 《求是》2019年第19期\n",
      "On edition 《求是》2019年第20期\n",
      "On edition 《求是》2019年第21期\n",
      "On edition 《求是》2019年第22期\n",
      "On edition 《求是》2019年第23期\n",
      "On edition 《求是》2019年第24期\n"
     ]
    }
   ],
   "source": [
    "year_links = get_years_from_head()\n",
    "\n",
    "for year_link in year_links:\n",
    "    edition_links, year_name = get_editions_from_year(year_link)\n",
    "\n",
    "    for edition_link in edition_links:\n",
    "        article_links, edition_name = get_articles_from_edition(edition_link)\n",
    "\n",
    "        for link in article_links: \n",
    "            links_df.loc[len(links_df)] = [year_name, edition_name, link]\n"
   ]
  },
  {
   "cell_type": "code",
   "execution_count": 16,
   "metadata": {},
   "outputs": [
    {
     "data": {
      "text/plain": [
       "2190"
      ]
     },
     "execution_count": 16,
     "metadata": {},
     "output_type": "execute_result"
    }
   ],
   "source": [
    "len(links_df)"
   ]
  },
  {
   "cell_type": "code",
   "execution_count": 18,
   "metadata": {},
   "outputs": [],
   "source": [
    "links_df.to_csv(\"links.csv\", index=False)"
   ]
  },
  {
   "cell_type": "code",
   "execution_count": null,
   "metadata": {},
   "outputs": [],
   "source": []
  }
 ],
 "metadata": {
  "kernelspec": {
   "display_name": "qiushi_venv",
   "language": "python",
   "name": "python3"
  },
  "language_info": {
   "codemirror_mode": {
    "name": "ipython",
    "version": 3
   },
   "file_extension": ".py",
   "mimetype": "text/x-python",
   "name": "python",
   "nbconvert_exporter": "python",
   "pygments_lexer": "ipython3",
   "version": "3.11.6"
  }
 },
 "nbformat": 4,
 "nbformat_minor": 2
}

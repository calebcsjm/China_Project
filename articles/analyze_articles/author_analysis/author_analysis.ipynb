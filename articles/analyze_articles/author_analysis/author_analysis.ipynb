{
 "cells": [
  {
   "cell_type": "code",
   "execution_count": 144,
   "metadata": {},
   "outputs": [
    {
     "name": "stdout",
     "output_type": "stream",
     "text": [
      "Qiushi articles shape: (1998, 9)\n",
      "ASX articles shape: (13361, 8)\n"
     ]
    }
   ],
   "source": [
    "import pandas as pd\n",
    "\n",
    "qiushi_articles = pd.read_csv('/Users/calebharding/Documents/BYU/2023-2024/China_Project/articles/process_articles/process_qiushi_articles/validated_qiushi_articles.csv')\n",
    "asx_articles = pd.read_csv('/Users/calebharding/Documents/BYU/2023-2024/China_Project/articles/process_articles/process_asx_articles/validated_asx_articles.csv')\n",
    "print(f'Qiushi articles shape: {qiushi_articles.shape}')\n",
    "print(f'ASX articles shape: {asx_articles.shape}')"
   ]
  },
  {
   "cell_type": "code",
   "execution_count": 145,
   "metadata": {},
   "outputs": [
    {
     "data": {
      "text/html": [
       "<div>\n",
       "<style scoped>\n",
       "    .dataframe tbody tr th:only-of-type {\n",
       "        vertical-align: middle;\n",
       "    }\n",
       "\n",
       "    .dataframe tbody tr th {\n",
       "        vertical-align: top;\n",
       "    }\n",
       "\n",
       "    .dataframe thead th {\n",
       "        text-align: right;\n",
       "    }\n",
       "</style>\n",
       "<table border=\"1\" class=\"dataframe\">\n",
       "  <thead>\n",
       "    <tr style=\"text-align: right;\">\n",
       "      <th></th>\n",
       "      <th>title</th>\n",
       "      <th>authors</th>\n",
       "      <th>date</th>\n",
       "      <th>url</th>\n",
       "      <th>text</th>\n",
       "      <th>year</th>\n",
       "      <th>quarter</th>\n",
       "      <th>year_quarter</th>\n",
       "    </tr>\n",
       "  </thead>\n",
       "  <tbody>\n",
       "    <tr>\n",
       "      <th>0</th>\n",
       "      <td>告别国家法一元论</td>\n",
       "      <td>强世功</td>\n",
       "      <td>2019-01-01</td>\n",
       "      <td>https://www.aisixiang.com/data/114287.html</td>\n",
       "      <td>在1995年发表的《秋菊的困惑和三杠爷的悲剧》这篇法律社会学经典论文中，苏力在法学界率先采...</td>\n",
       "      <td>2019</td>\n",
       "      <td>1</td>\n",
       "      <td>2019 Q1</td>\n",
       "    </tr>\n",
       "  </tbody>\n",
       "</table>\n",
       "</div>"
      ],
      "text/plain": [
       "      title authors        date                                         url  \\\n",
       "0  告别国家法一元论     强世功  2019-01-01  https://www.aisixiang.com/data/114287.html   \n",
       "\n",
       "                                                text  year  quarter  \\\n",
       "0   在1995年发表的《秋菊的困惑和三杠爷的悲剧》这篇法律社会学经典论文中，苏力在法学界率先采...  2019        1   \n",
       "\n",
       "  year_quarter  \n",
       "0      2019 Q1  "
      ]
     },
     "execution_count": 145,
     "metadata": {},
     "output_type": "execute_result"
    }
   ],
   "source": [
    "asx_articles.head(1)"
   ]
  },
  {
   "cell_type": "code",
   "execution_count": 146,
   "metadata": {},
   "outputs": [
    {
     "data": {
      "text/html": [
       "<div>\n",
       "<style scoped>\n",
       "    .dataframe tbody tr th:only-of-type {\n",
       "        vertical-align: middle;\n",
       "    }\n",
       "\n",
       "    .dataframe tbody tr th {\n",
       "        vertical-align: top;\n",
       "    }\n",
       "\n",
       "    .dataframe thead th {\n",
       "        text-align: right;\n",
       "    }\n",
       "</style>\n",
       "<table border=\"1\" class=\"dataframe\">\n",
       "  <thead>\n",
       "    <tr style=\"text-align: right;\">\n",
       "      <th></th>\n",
       "      <th>authors</th>\n",
       "      <th>title</th>\n",
       "      <th>date</th>\n",
       "      <th>year</th>\n",
       "      <th>edition</th>\n",
       "      <th>url</th>\n",
       "      <th>text</th>\n",
       "      <th>quarter</th>\n",
       "      <th>year_quarter</th>\n",
       "    </tr>\n",
       "  </thead>\n",
       "  <tbody>\n",
       "    <tr>\n",
       "      <th>0</th>\n",
       "      <td>习近平</td>\n",
       "      <td>辩证唯物主义是中国共产党人的世界观和方法论</td>\n",
       "      <td>2018-12-31</td>\n",
       "      <td>2019</td>\n",
       "      <td>1.0</td>\n",
       "      <td>http://www.qstheory.cn/dukan/qs/2018-12/31/c_1...</td>\n",
       "      <td>辩证唯物主义是中国共产党人的世界观和方法论习近平2018年5月4日，纪念马克思诞辰200周年...</td>\n",
       "      <td>1</td>\n",
       "      <td>2019 Q1</td>\n",
       "    </tr>\n",
       "  </tbody>\n",
       "</table>\n",
       "</div>"
      ],
      "text/plain": [
       "  authors                  title        date  year  edition  \\\n",
       "0     习近平  辩证唯物主义是中国共产党人的世界观和方法论  2018-12-31  2019      1.0   \n",
       "\n",
       "                                                 url  \\\n",
       "0  http://www.qstheory.cn/dukan/qs/2018-12/31/c_1...   \n",
       "\n",
       "                                                text  quarter year_quarter  \n",
       "0  辩证唯物主义是中国共产党人的世界观和方法论习近平2018年5月4日，纪念马克思诞辰200周年...        1      2019 Q1  "
      ]
     },
     "execution_count": 146,
     "metadata": {},
     "output_type": "execute_result"
    }
   ],
   "source": [
    "qiushi_articles.head(1)"
   ]
  },
  {
   "cell_type": "code",
   "execution_count": 147,
   "metadata": {},
   "outputs": [],
   "source": [
    "def get_authorship_counts(df, top_n, individuals_only=False) -> pd.DataFrame:\n",
    "    \"\"\"Returns a dataframe of authors and the number of articles they wrote. \n",
    "    \n",
    "    Returns the top_n authors\"\"\"\n",
    "\n",
    "    # only keep needed columns\n",
    "    df = df[['authors', 'title', 'year_quarter', 'url']]\n",
    "\n",
    "    # drop articles without authors\n",
    "    df = df.dropna(subset=['authors'], axis=0)\n",
    "\n",
    "    author_article_count = {}\n",
    "\n",
    "    # increase a counter for every article they authored\n",
    "    for index, article in df.iterrows():\n",
    "        for author in article['authors'].split(\" \"):\n",
    "            if author in author_article_count.keys():\n",
    "                temp = author_article_count[author]\n",
    "                author_article_count[author] = temp + 1\n",
    "            else: \n",
    "                author_article_count[author] = 1\n",
    "\n",
    "    author_article_count = dict(sorted(author_article_count.items(), key=lambda item: item[1], reverse=True))\n",
    "    \n",
    "    # an additional precaution to catch unauthored articles\n",
    "    try:\n",
    "        author_article_count.pop(\"\")\n",
    "    except:\n",
    "        pass\n",
    "\n",
    "    # convert to a dataframe\n",
    "    author_article_count_df = pd.DataFrame.from_dict(author_article_count, 'index', columns=['Articles'])\n",
    "    \n",
    "    # drop organizations if toggled\n",
    "    if individuals_only:\n",
    "        author_article_count_df = author_article_count_df[author_article_count_df.index.map(len) < 5]\n",
    "\n",
    "    # return the first n rows\n",
    "    return author_article_count_df.iloc[0:top_n, :]\n",
    "\n",
    "def fraction_of_whole(top_author_df: pd.DataFrame, articles_df: pd.DataFrame) -> float:\n",
    "    '''Computes the proportion of all articles written by the top authors'''\n",
    "\n",
    "    top_authors_articles = top_author_df['Articles'].sum()\n",
    "    total_articles = len(articles_df)\n",
    "\n",
    "    return top_authors_articles / total_articles\n"
   ]
  },
  {
   "cell_type": "code",
   "execution_count": 148,
   "metadata": {},
   "outputs": [],
   "source": [
    "qiushi_counts = get_authorship_counts(qiushi_articles, 10)\n",
    "asx_counts = get_authorship_counts(asx_articles, 10)"
   ]
  },
  {
   "cell_type": "code",
   "execution_count": 149,
   "metadata": {},
   "outputs": [],
   "source": [
    "qiushi_ind_counts = get_authorship_counts(qiushi_articles, 10, True)"
   ]
  },
  {
   "cell_type": "code",
   "execution_count": 150,
   "metadata": {},
   "outputs": [],
   "source": [
    "qiushi_counts.to_excel('./author_info/qiushi_all_authors.xlsx')\n",
    "asx_counts.to_excel('./author_info/asx_all_authors.xlsx')\n",
    "qiushi_ind_counts.to_excel('./author_info/qiushi_ind_authors.xlsx')\n"
   ]
  },
  {
   "cell_type": "code",
   "execution_count": 151,
   "metadata": {},
   "outputs": [
    {
     "name": "stdout",
     "output_type": "stream",
     "text": [
      "Prop. of ASX articles written by top authors 0.125\n",
      "Prop. of Qiushi articles written by all top authors 0.212\n",
      "Prop. of Qiushi articles written by top individual authors 0.112\n"
     ]
    }
   ],
   "source": [
    "# no difference for ASX, they are all individuals\n",
    "print('Prop. of ASX articles written by top authors {:.3f}'.format(fraction_of_whole(asx_counts, asx_articles)))\n",
    "\n",
    "print('Prop. of Qiushi articles written by all top authors {:.3f}'.format(fraction_of_whole(qiushi_counts, qiushi_articles)))\n",
    "print('Prop. of Qiushi articles written by top individual authors {:.3f}'.format(fraction_of_whole(qiushi_ind_counts, qiushi_articles)))\n"
   ]
  },
  {
   "cell_type": "code",
   "execution_count": null,
   "metadata": {},
   "outputs": [],
   "source": []
  },
  {
   "cell_type": "code",
   "execution_count": null,
   "metadata": {},
   "outputs": [],
   "source": []
  }
 ],
 "metadata": {
  "kernelspec": {
   "display_name": "qiushi_venv",
   "language": "python",
   "name": "python3"
  },
  "language_info": {
   "codemirror_mode": {
    "name": "ipython",
    "version": 3
   },
   "file_extension": ".py",
   "mimetype": "text/x-python",
   "name": "python",
   "nbconvert_exporter": "python",
   "pygments_lexer": "ipython3",
   "version": "3.11.6"
  }
 },
 "nbformat": 4,
 "nbformat_minor": 2
}

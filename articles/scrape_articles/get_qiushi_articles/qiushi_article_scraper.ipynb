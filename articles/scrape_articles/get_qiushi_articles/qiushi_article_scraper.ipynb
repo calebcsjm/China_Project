{
 "cells": [
  {
   "cell_type": "code",
   "execution_count": 1,
   "metadata": {},
   "outputs": [],
   "source": [
    "'''given a url, scrape the article information'''\n",
    "\n",
    "from newspaper import Article\n",
    "from urllib.request import urlopen\n",
    "from bs4 import BeautifulSoup\n",
    "import json\n",
    "import openai\n",
    "\n",
    "def process_complicated_author(author):\n",
    "\n",
    "    with open('../openai_auth.json', 'r') as json_file:\n",
    "        json_load = json.load(json_file)\n",
    "\n",
    "    openai.api_key = json_load[\"api_key\"]\n",
    "\n",
    "    prompt = f\"\"\"\n",
    "    Please give me the names of the authors included in this text, and remove any unnecessary spaces within names. Please give me the names, seperated by a space, and nothing else. For example, if the text was \"求是》杂志记者 何雯雯 新县融媒体中心记者 韩 燕\", I would want you to tell me \"何雯雯 韩燕\". The text is: {author}\n",
    "    \"\"\"\n",
    "\n",
    "    response = openai.chat.completions.create(\n",
    "        model=\"gpt-3.5-turbo-1106\",\n",
    "        messages=[{\n",
    "            \"role\":\"user\",\n",
    "            \"content\":prompt\n",
    "        }]\n",
    "    )\n",
    "\n",
    "    return response.choices[0].message.content\n",
    "\n",
    "class QiuShiArticleParser:\n",
    "    def __init__(self, url):\n",
    "        # get the beautiful soup version\n",
    "        self.url = url\n",
    "        try:\n",
    "            page = urlopen(url)\n",
    "            html = page.read().decode(\"utf-8\")\n",
    "            self.soup = BeautifulSoup(html, \"html.parser\")\n",
    "\n",
    "            # get the newspaper article version\n",
    "            self.article = Article(url, language='zh')\n",
    "            self.article.download()\n",
    "            self.article.parse()\n",
    "        except:\n",
    "            print(f\"Article with URL: {url} failed to parse\")\n",
    "            self.soup = None\n",
    "            self.article = None\n",
    "\n",
    "    def get_authors(self):\n",
    "        if self.soup == None:\n",
    "            return None\n",
    "        span_els = self.soup.find_all(\"span\", class_=\"appellation\")\n",
    "        try:\n",
    "            # author is the second appel element\n",
    "            author_el = span_els[1].text.strip()\n",
    "            # remove the \"Author:\" piece\n",
    "            author = author_el.split(\"：\")[1]\n",
    "\n",
    "            # see if it needs additional processing\n",
    "            # no spaces, should be good to go. Or if None, return\n",
    "            if author == None:\n",
    "                return [author]\n",
    "            elif \" \" not in author:\n",
    "                return [author]\n",
    "            # spaces, but length three - a 2 char name with a space\n",
    "            elif len(author) == 3:\n",
    "                return [author[0] + author[2]]\n",
    "            # something more complicated is going on - could be multiple authors, could have additional info \n",
    "            else:\n",
    "                print(\"Calling ChatGPT...\")\n",
    "                try:\n",
    "                    author = process_complicated_author(author)\n",
    "                    print(f\"Author returned by ChatGPT: {author}\")\n",
    "                    # split the result in case there is more than one author\n",
    "                    return author.split(\" \")\n",
    "                except:\n",
    "                    print(\"ChatGPT call failed\")\n",
    "                return \"CHATGPT\" + author\n",
    "\n",
    "        except:\n",
    "            return None\n",
    "    \n",
    "    def get_title(self):\n",
    "        try:\n",
    "            return self.soup.find('h1').text.strip()\n",
    "        except:\n",
    "            return None\n",
    "    \n",
    "    def get_year_edition(self):\n",
    "        try: \n",
    "            span_els = self.soup.find_all(\"span\", class_=\"appellation\")\n",
    "            # year/edition is the first appel element\n",
    "            ye_text = span_els[0].text.strip()\n",
    "            # get the last piece with the date\n",
    "            cleaned_ye_text = ye_text[-7:]\n",
    "\n",
    "            year = cleaned_ye_text[:4]\n",
    "            edition = cleaned_ye_text[-2:]\n",
    "\n",
    "            return year, edition\n",
    "        except:\n",
    "            return None, None\n",
    "    \n",
    "    def get_date(self):\n",
    "        try: \n",
    "            date_el = self.soup.find(\"span\", class_=\"pubtime\").text.strip()\n",
    "            # remove the time piece\n",
    "            date = date_el.split(\" \")[0]\n",
    "            return date\n",
    "        except:\n",
    "            return None\n",
    "    \n",
    "    def get_url(self):\n",
    "        return self.url\n",
    "    \n",
    "    def get_text(self):\n",
    "        try: \n",
    "            return self.article.text.replace('\\n', \"\")\n",
    "        except:\n",
    "            return None\n",
    "\n",
    "    \n",
    "class QiuShiArticle:\n",
    "    def __init__(self, article_parser):\n",
    "        self.authors = article_parser.get_authors()\n",
    "        self.title = article_parser.get_title()\n",
    "        self.date = article_parser.get_date()\n",
    "        self.year, self.edition = article_parser.get_year_edition()\n",
    "        self.url = article_parser.get_url()\n",
    "\n",
    "        try:\n",
    "            self.text = article_parser.get_text()\n",
    "        except:\n",
    "            self.text = None\n",
    "        \n",
    "\n",
    "    def toJson(self):\n",
    "        return self.__dict__"
   ]
  },
  {
   "cell_type": "code",
   "execution_count": 4,
   "metadata": {},
   "outputs": [
    {
     "name": "stderr",
     "output_type": "stream",
     "text": [
      "/var/folders/r4/qqn8tv4d7g18t_5fsxt6y1340000gn/T/ipykernel_2589/2423500418.py:1: DeprecationWarning: \n",
      "Pyarrow will become a required dependency of pandas in the next major release of pandas (pandas 3.0),\n",
      "(to allow more performant data types, such as the Arrow string type, and better interoperability with other libraries)\n",
      "but was not found to be installed on your system.\n",
      "If this would cause problems for you,\n",
      "please provide us feedback at https://github.com/pandas-dev/pandas/issues/54466\n",
      "        \n",
      "  import pandas as pd\n"
     ]
    },
    {
     "data": {
      "text/html": [
       "<div>\n",
       "<style scoped>\n",
       "    .dataframe tbody tr th:only-of-type {\n",
       "        vertical-align: middle;\n",
       "    }\n",
       "\n",
       "    .dataframe tbody tr th {\n",
       "        vertical-align: top;\n",
       "    }\n",
       "\n",
       "    .dataframe thead th {\n",
       "        text-align: right;\n",
       "    }\n",
       "</style>\n",
       "<table border=\"1\" class=\"dataframe\">\n",
       "  <thead>\n",
       "    <tr style=\"text-align: right;\">\n",
       "      <th></th>\n",
       "      <th>year_name</th>\n",
       "      <th>edition_name</th>\n",
       "      <th>link</th>\n",
       "    </tr>\n",
       "  </thead>\n",
       "  <tbody>\n",
       "    <tr>\n",
       "      <th>0</th>\n",
       "      <td>《求是》2024年</td>\n",
       "      <td>2024年第1期《求是》目录</td>\n",
       "      <td>http://www.qstheory.cn/dukan/qs/2024-01/01/c_1...</td>\n",
       "    </tr>\n",
       "    <tr>\n",
       "      <th>1</th>\n",
       "      <td>《求是》2024年</td>\n",
       "      <td>2024年第1期《求是》目录</td>\n",
       "      <td>http://www.qstheory.cn/dukan/qs/2023-12/31/c_1...</td>\n",
       "    </tr>\n",
       "    <tr>\n",
       "      <th>2</th>\n",
       "      <td>《求是》2024年</td>\n",
       "      <td>2024年第1期《求是》目录</td>\n",
       "      <td>http://www.qstheory.cn/dukan/qs/2023-12/31/c_1...</td>\n",
       "    </tr>\n",
       "    <tr>\n",
       "      <th>3</th>\n",
       "      <td>《求是》2024年</td>\n",
       "      <td>2024年第1期《求是》目录</td>\n",
       "      <td>http://www.qstheory.cn/dukan/qs/2024-01/01/c_1...</td>\n",
       "    </tr>\n",
       "    <tr>\n",
       "      <th>4</th>\n",
       "      <td>《求是》2024年</td>\n",
       "      <td>2024年第1期《求是》目录</td>\n",
       "      <td>http://www.qstheory.cn/dukan/qs/2024-01/01/c_1...</td>\n",
       "    </tr>\n",
       "  </tbody>\n",
       "</table>\n",
       "</div>"
      ],
      "text/plain": [
       "   year_name    edition_name  \\\n",
       "0  《求是》2024年  2024年第1期《求是》目录   \n",
       "1  《求是》2024年  2024年第1期《求是》目录   \n",
       "2  《求是》2024年  2024年第1期《求是》目录   \n",
       "3  《求是》2024年  2024年第1期《求是》目录   \n",
       "4  《求是》2024年  2024年第1期《求是》目录   \n",
       "\n",
       "                                                link  \n",
       "0  http://www.qstheory.cn/dukan/qs/2024-01/01/c_1...  \n",
       "1  http://www.qstheory.cn/dukan/qs/2023-12/31/c_1...  \n",
       "2  http://www.qstheory.cn/dukan/qs/2023-12/31/c_1...  \n",
       "3  http://www.qstheory.cn/dukan/qs/2024-01/01/c_1...  \n",
       "4  http://www.qstheory.cn/dukan/qs/2024-01/01/c_1...  "
      ]
     },
     "execution_count": 4,
     "metadata": {},
     "output_type": "execute_result"
    }
   ],
   "source": [
    "import pandas as pd\n",
    "links_df = pd.read_csv('./links.csv')\n",
    "links_df.head()"
   ]
  },
  {
   "cell_type": "code",
   "execution_count": 5,
   "metadata": {},
   "outputs": [
    {
     "name": "stdout",
     "output_type": "stream",
     "text": [
      "2190\n"
     ]
    },
    {
     "data": {
      "text/html": [
       "<div>\n",
       "<style scoped>\n",
       "    .dataframe tbody tr th:only-of-type {\n",
       "        vertical-align: middle;\n",
       "    }\n",
       "\n",
       "    .dataframe tbody tr th {\n",
       "        vertical-align: top;\n",
       "    }\n",
       "\n",
       "    .dataframe thead th {\n",
       "        text-align: right;\n",
       "    }\n",
       "</style>\n",
       "<table border=\"1\" class=\"dataframe\">\n",
       "  <thead>\n",
       "    <tr style=\"text-align: right;\">\n",
       "      <th></th>\n",
       "      <th>link</th>\n",
       "    </tr>\n",
       "  </thead>\n",
       "  <tbody>\n",
       "    <tr>\n",
       "      <th>0</th>\n",
       "      <td>http://www.qstheory.cn/dukan/qs/2024-01/01/c_1...</td>\n",
       "    </tr>\n",
       "    <tr>\n",
       "      <th>1</th>\n",
       "      <td>http://www.qstheory.cn/dukan/qs/2023-12/31/c_1...</td>\n",
       "    </tr>\n",
       "    <tr>\n",
       "      <th>2</th>\n",
       "      <td>http://www.qstheory.cn/dukan/qs/2023-12/31/c_1...</td>\n",
       "    </tr>\n",
       "    <tr>\n",
       "      <th>3</th>\n",
       "      <td>http://www.qstheory.cn/dukan/qs/2024-01/01/c_1...</td>\n",
       "    </tr>\n",
       "    <tr>\n",
       "      <th>4</th>\n",
       "      <td>http://www.qstheory.cn/dukan/qs/2024-01/01/c_1...</td>\n",
       "    </tr>\n",
       "  </tbody>\n",
       "</table>\n",
       "</div>"
      ],
      "text/plain": [
       "                                                link\n",
       "0  http://www.qstheory.cn/dukan/qs/2024-01/01/c_1...\n",
       "1  http://www.qstheory.cn/dukan/qs/2023-12/31/c_1...\n",
       "2  http://www.qstheory.cn/dukan/qs/2023-12/31/c_1...\n",
       "3  http://www.qstheory.cn/dukan/qs/2024-01/01/c_1...\n",
       "4  http://www.qstheory.cn/dukan/qs/2024-01/01/c_1..."
      ]
     },
     "execution_count": 5,
     "metadata": {},
     "output_type": "execute_result"
    }
   ],
   "source": [
    "links_df = links_df.drop(columns=[\"year_name\", \"edition_name\"])\n",
    "print(len(links_df))\n",
    "links_df.head()"
   ]
  },
  {
   "cell_type": "code",
   "execution_count": 6,
   "metadata": {},
   "outputs": [],
   "source": [
    "sample_articles_df = pd.DataFrame(columns=[\"authors\", \"title\", \"date\", \"year\", \"edition\", \"url\", \"text\"])"
   ]
  },
  {
   "cell_type": "code",
   "execution_count": 7,
   "metadata": {},
   "outputs": [],
   "source": [
    "from tqdm import tqdm"
   ]
  },
  {
   "cell_type": "code",
   "execution_count": 8,
   "metadata": {},
   "outputs": [
    {
     "name": "stderr",
     "output_type": "stream",
     "text": [
      "  0%|          | 0/2190 [00:00<?, ?it/s]"
     ]
    },
    {
     "name": "stderr",
     "output_type": "stream",
     "text": [
      "Building prefix dict from the default dictionary ...\n",
      "Loading model from cache /var/folders/r4/qqn8tv4d7g18t_5fsxt6y1340000gn/T/jieba.cache\n",
      "Loading model cost 0.311 seconds.\n",
      "Prefix dict has been built successfully.\n",
      "  2%|▏         | 45/2190 [00:58<39:24,  1.10s/it]  "
     ]
    },
    {
     "name": "stdout",
     "output_type": "stream",
     "text": [
      "Calling ChatGPT...\n"
     ]
    },
    {
     "name": "stderr",
     "output_type": "stream",
     "text": [
      "  2%|▏         | 46/2190 [01:01<57:18,  1.60s/it]"
     ]
    },
    {
     "name": "stdout",
     "output_type": "stream",
     "text": [
      "Author returned by ChatGPT: 周昭成 陈聪\n",
      "Calling ChatGPT...\n"
     ]
    },
    {
     "name": "stderr",
     "output_type": "stream",
     "text": [
      "  2%|▏         | 47/2190 [01:02<55:42,  1.56s/it]"
     ]
    },
    {
     "name": "stdout",
     "output_type": "stream",
     "text": [
      "Author returned by ChatGPT: 聂悄语\n",
      "Calling ChatGPT...\n"
     ]
    },
    {
     "name": "stderr",
     "output_type": "stream",
     "text": [
      "  2%|▏         | 48/2190 [01:04<55:06,  1.54s/it]"
     ]
    },
    {
     "name": "stdout",
     "output_type": "stream",
     "text": [
      "Author returned by ChatGPT: 黎海华 吴擒虎\n",
      "Calling ChatGPT...\n"
     ]
    },
    {
     "name": "stderr",
     "output_type": "stream",
     "text": [
      "  2%|▏         | 49/2190 [01:06<1:03:03,  1.77s/it]"
     ]
    },
    {
     "name": "stdout",
     "output_type": "stream",
     "text": [
      "Author returned by ChatGPT: 梁佩韵 刘骏娇\n",
      "Calling ChatGPT...\n"
     ]
    },
    {
     "name": "stderr",
     "output_type": "stream",
     "text": [
      "  2%|▏         | 50/2190 [01:08<1:05:08,  1.83s/it]"
     ]
    },
    {
     "name": "stdout",
     "output_type": "stream",
     "text": [
      "Author returned by ChatGPT: 李飞 姜小薇\n"
     ]
    },
    {
     "name": "stderr",
     "output_type": "stream",
     "text": [
      "  3%|▎         | 67/2190 [01:29<45:14,  1.28s/it]  "
     ]
    },
    {
     "name": "stdout",
     "output_type": "stream",
     "text": [
      "Calling ChatGPT...\n"
     ]
    },
    {
     "name": "stderr",
     "output_type": "stream",
     "text": [
      "  3%|▎         | 68/2190 [01:32<55:45,  1.58s/it]"
     ]
    },
    {
     "name": "stdout",
     "output_type": "stream",
     "text": [
      "Author returned by ChatGPT: 魏天舒 吉文磊\n",
      "Calling ChatGPT...\n"
     ]
    },
    {
     "name": "stderr",
     "output_type": "stream",
     "text": [
      "  3%|▎         | 69/2190 [01:34<1:08:21,  1.93s/it]"
     ]
    },
    {
     "name": "stdout",
     "output_type": "stream",
     "text": [
      "Author returned by ChatGPT: 蔡春玲 樊遂桥\n",
      "Calling ChatGPT...\n"
     ]
    },
    {
     "name": "stderr",
     "output_type": "stream",
     "text": [
      "  3%|▎         | 70/2190 [01:36<1:07:21,  1.91s/it]"
     ]
    },
    {
     "name": "stdout",
     "output_type": "stream",
     "text": [
      "Author returned by ChatGPT: 申小提 张颐佳\n",
      "Calling ChatGPT...\n"
     ]
    },
    {
     "name": "stderr",
     "output_type": "stream",
     "text": [
      "  3%|▎         | 71/2190 [01:38<1:09:38,  1.97s/it]"
     ]
    },
    {
     "name": "stdout",
     "output_type": "stream",
     "text": [
      "Author returned by ChatGPT: 狄英娜 翟汝增\n"
     ]
    },
    {
     "name": "stderr",
     "output_type": "stream",
     "text": [
      "  4%|▎         | 78/2190 [01:58<2:29:06,  4.24s/it]"
     ]
    },
    {
     "name": "stdout",
     "output_type": "stream",
     "text": [
      "Article with URL: http://www.qstheory.cn/dukan/qs/2023-01/31/c_1129324011.htm failed to parse\n"
     ]
    },
    {
     "name": "stderr",
     "output_type": "stream",
     "text": [
      "  4%|▍         | 90/2190 [02:21<53:19,  1.52s/it]  "
     ]
    },
    {
     "name": "stdout",
     "output_type": "stream",
     "text": [
      "Calling ChatGPT...\n"
     ]
    },
    {
     "name": "stderr",
     "output_type": "stream",
     "text": [
      "  4%|▍         | 91/2190 [02:23<1:00:39,  1.73s/it]"
     ]
    },
    {
     "name": "stdout",
     "output_type": "stream",
     "text": [
      "Author returned by ChatGPT: 盛玮\n",
      "Calling ChatGPT...\n"
     ]
    },
    {
     "name": "stderr",
     "output_type": "stream",
     "text": [
      "  4%|▍         | 92/2190 [02:26<1:13:21,  2.10s/it]"
     ]
    },
    {
     "name": "stdout",
     "output_type": "stream",
     "text": [
      "Author returned by ChatGPT: 吴晓迪 杜晨薇\n",
      "Calling ChatGPT...\n"
     ]
    },
    {
     "name": "stderr",
     "output_type": "stream",
     "text": [
      "  4%|▍         | 93/2190 [02:29<1:21:57,  2.34s/it]"
     ]
    },
    {
     "name": "stdout",
     "output_type": "stream",
     "text": [
      "Author returned by ChatGPT: 陈有勇 王磊\n"
     ]
    },
    {
     "name": "stderr",
     "output_type": "stream",
     "text": [
      "  5%|▌         | 110/2190 [02:52<46:50,  1.35s/it] "
     ]
    },
    {
     "name": "stdout",
     "output_type": "stream",
     "text": [
      "Calling ChatGPT...\n"
     ]
    },
    {
     "name": "stderr",
     "output_type": "stream",
     "text": [
      "  5%|▌         | 111/2190 [02:55<1:00:11,  1.74s/it]"
     ]
    },
    {
     "name": "stdout",
     "output_type": "stream",
     "text": [
      "Author returned by ChatGPT: 周昭成 王成果\n",
      "Calling ChatGPT...\n"
     ]
    },
    {
     "name": "stderr",
     "output_type": "stream",
     "text": [
      "  5%|▌         | 112/2190 [02:57<1:06:29,  1.92s/it]"
     ]
    },
    {
     "name": "stdout",
     "output_type": "stream",
     "text": [
      "Author returned by ChatGPT: 周璐铭 张春林\n",
      "Calling ChatGPT...\n"
     ]
    },
    {
     "name": "stderr",
     "output_type": "stream",
     "text": [
      "  5%|▌         | 113/2190 [03:00<1:18:59,  2.28s/it]"
     ]
    },
    {
     "name": "stdout",
     "output_type": "stream",
     "text": [
      "Author returned by ChatGPT: 旷思思 章丹\n",
      "Calling ChatGPT...\n"
     ]
    },
    {
     "name": "stderr",
     "output_type": "stream",
     "text": [
      "  5%|▌         | 114/2190 [03:04<1:26:39,  2.50s/it]"
     ]
    },
    {
     "name": "stdout",
     "output_type": "stream",
     "text": [
      "Author returned by ChatGPT: 侯亚景 咸文静\n"
     ]
    },
    {
     "name": "stderr",
     "output_type": "stream",
     "text": [
      "  6%|▌         | 132/2190 [03:43<47:20,  1.38s/it]  "
     ]
    },
    {
     "name": "stdout",
     "output_type": "stream",
     "text": [
      "Calling ChatGPT...\n"
     ]
    },
    {
     "name": "stderr",
     "output_type": "stream",
     "text": [
      "  6%|▌         | 133/2190 [03:45<49:23,  1.44s/it]"
     ]
    },
    {
     "name": "stdout",
     "output_type": "stream",
     "text": [
      "Author returned by ChatGPT: 陈有勇 谭雅竹\n",
      "Calling ChatGPT...\n"
     ]
    },
    {
     "name": "stderr",
     "output_type": "stream",
     "text": [
      "  6%|▌         | 134/2190 [03:47<55:39,  1.62s/it]"
     ]
    },
    {
     "name": "stdout",
     "output_type": "stream",
     "text": [
      "Author returned by ChatGPT: 张淑虹 汪纯\n",
      "Calling ChatGPT...\n"
     ]
    },
    {
     "name": "stderr",
     "output_type": "stream",
     "text": [
      "  6%|▌         | 135/2190 [03:48<55:03,  1.61s/it]"
     ]
    },
    {
     "name": "stdout",
     "output_type": "stream",
     "text": [
      "Author returned by ChatGPT: 李民圣 李旭\n"
     ]
    },
    {
     "name": "stderr",
     "output_type": "stream",
     "text": [
      "  7%|▋         | 143/2190 [03:59<47:53,  1.40s/it]  "
     ]
    },
    {
     "name": "stdout",
     "output_type": "stream",
     "text": [
      "Calling ChatGPT...\n"
     ]
    },
    {
     "name": "stderr",
     "output_type": "stream",
     "text": [
      "  7%|▋         | 144/2190 [04:03<1:10:57,  2.08s/it]"
     ]
    },
    {
     "name": "stdout",
     "output_type": "stream",
     "text": [
      "Author returned by ChatGPT: 中共吉林省委 吉林省人民政府\n"
     ]
    },
    {
     "name": "stderr",
     "output_type": "stream",
     "text": [
      "  7%|▋         | 149/2190 [04:09<47:19,  1.39s/it]  "
     ]
    },
    {
     "name": "stdout",
     "output_type": "stream",
     "text": [
      "Calling ChatGPT...\n"
     ]
    },
    {
     "name": "stderr",
     "output_type": "stream",
     "text": [
      "  7%|▋         | 150/2190 [04:11<53:46,  1.58s/it]"
     ]
    },
    {
     "name": "stdout",
     "output_type": "stream",
     "text": [
      "Author returned by ChatGPT: 高天鼎 李宏伟\n",
      "Calling ChatGPT...\n"
     ]
    },
    {
     "name": "stderr",
     "output_type": "stream",
     "text": [
      "  7%|▋         | 151/2190 [04:14<59:09,  1.74s/it]"
     ]
    },
    {
     "name": "stdout",
     "output_type": "stream",
     "text": [
      "Author returned by ChatGPT: 侯亚景 刘秉承\n",
      "Calling ChatGPT...\n"
     ]
    },
    {
     "name": "stderr",
     "output_type": "stream",
     "text": [
      "  7%|▋         | 152/2190 [04:16<1:02:37,  1.84s/it]"
     ]
    },
    {
     "name": "stdout",
     "output_type": "stream",
     "text": [
      "Author returned by ChatGPT: 陈金霞 王嘉楠\n",
      "Calling ChatGPT...\n"
     ]
    },
    {
     "name": "stderr",
     "output_type": "stream",
     "text": [
      "  7%|▋         | 153/2190 [04:17<59:48,  1.76s/it]  "
     ]
    },
    {
     "name": "stdout",
     "output_type": "stream",
     "text": [
      "Author returned by ChatGPT: 梁佩韵 伏润之\n"
     ]
    },
    {
     "name": "stderr",
     "output_type": "stream",
     "text": [
      "  8%|▊         | 170/2190 [04:42<47:03,  1.40s/it]  "
     ]
    },
    {
     "name": "stdout",
     "output_type": "stream",
     "text": [
      "Calling ChatGPT...\n"
     ]
    },
    {
     "name": "stderr",
     "output_type": "stream",
     "text": [
      "  8%|▊         | 171/2190 [04:46<1:09:52,  2.08s/it]"
     ]
    },
    {
     "name": "stdout",
     "output_type": "stream",
     "text": [
      "Author returned by ChatGPT: 李斌 周文强\n"
     ]
    },
    {
     "name": "stderr",
     "output_type": "stream",
     "text": [
      " 10%|█         | 222/2190 [06:26<45:04,  1.37s/it]  "
     ]
    },
    {
     "name": "stdout",
     "output_type": "stream",
     "text": [
      "Calling ChatGPT...\n"
     ]
    },
    {
     "name": "stderr",
     "output_type": "stream",
     "text": [
      " 10%|█         | 223/2190 [06:27<48:54,  1.49s/it]"
     ]
    },
    {
     "name": "stdout",
     "output_type": "stream",
     "text": [
      "Author returned by ChatGPT: 张淑虹 赵凝\n",
      "Calling ChatGPT...\n"
     ]
    },
    {
     "name": "stderr",
     "output_type": "stream",
     "text": [
      " 10%|█         | 224/2190 [06:29<54:10,  1.65s/it]"
     ]
    },
    {
     "name": "stdout",
     "output_type": "stream",
     "text": [
      "Author returned by ChatGPT: 周昭成\n",
      "Calling ChatGPT...\n"
     ]
    },
    {
     "name": "stderr",
     "output_type": "stream",
     "text": [
      " 10%|█         | 225/2190 [06:32<1:03:30,  1.94s/it]"
     ]
    },
    {
     "name": "stdout",
     "output_type": "stream",
     "text": [
      "Author returned by ChatGPT: 刘振峰 周璐铭\n",
      "Calling ChatGPT...\n"
     ]
    },
    {
     "name": "stderr",
     "output_type": "stream",
     "text": [
      " 10%|█         | 226/2190 [06:33<58:02,  1.77s/it]  "
     ]
    },
    {
     "name": "stdout",
     "output_type": "stream",
     "text": [
      "Author returned by ChatGPT: 狄英娜 杨文娟\n",
      "Calling ChatGPT...\n"
     ]
    },
    {
     "name": "stderr",
     "output_type": "stream",
     "text": [
      " 10%|█         | 227/2190 [06:35<57:52,  1.77s/it]"
     ]
    },
    {
     "name": "stdout",
     "output_type": "stream",
     "text": [
      "Author returned by ChatGPT: 魏天舒 刘祥元\n"
     ]
    },
    {
     "name": "stderr",
     "output_type": "stream",
     "text": [
      " 11%|█         | 244/2190 [06:59<43:28,  1.34s/it]  "
     ]
    },
    {
     "name": "stdout",
     "output_type": "stream",
     "text": [
      "Calling ChatGPT...\n"
     ]
    },
    {
     "name": "stderr",
     "output_type": "stream",
     "text": [
      " 11%|█         | 245/2190 [07:01<44:49,  1.38s/it]"
     ]
    },
    {
     "name": "stdout",
     "output_type": "stream",
     "text": [
      "Author returned by ChatGPT: 梁佩韵\n",
      "Calling ChatGPT...\n"
     ]
    },
    {
     "name": "stderr",
     "output_type": "stream",
     "text": [
      " 11%|█         | 246/2190 [07:03<53:41,  1.66s/it]"
     ]
    },
    {
     "name": "stdout",
     "output_type": "stream",
     "text": [
      "Author returned by ChatGPT: 陈有勇\n",
      "Calling ChatGPT...\n"
     ]
    },
    {
     "name": "stderr",
     "output_type": "stream",
     "text": [
      " 11%|█▏        | 247/2190 [07:05<56:04,  1.73s/it]"
     ]
    },
    {
     "name": "stdout",
     "output_type": "stream",
     "text": [
      "Author returned by ChatGPT: 孙煜华 宋东泽\n",
      "Calling ChatGPT...\n"
     ]
    },
    {
     "name": "stderr",
     "output_type": "stream",
     "text": [
      " 11%|█▏        | 248/2190 [07:07<58:52,  1.82s/it]"
     ]
    },
    {
     "name": "stdout",
     "output_type": "stream",
     "text": [
      "Author returned by ChatGPT: 孙洋洋\n",
      "Calling ChatGPT...\n"
     ]
    },
    {
     "name": "stderr",
     "output_type": "stream",
     "text": [
      " 11%|█▏        | 249/2190 [07:09<58:36,  1.81s/it]"
     ]
    },
    {
     "name": "stdout",
     "output_type": "stream",
     "text": [
      "Author returned by ChatGPT: 高天鼎 刘名美\n"
     ]
    },
    {
     "name": "stderr",
     "output_type": "stream",
     "text": [
      " 12%|█▏        | 265/2190 [07:31<53:13,  1.66s/it]"
     ]
    },
    {
     "name": "stdout",
     "output_type": "stream",
     "text": [
      "Calling ChatGPT...\n"
     ]
    },
    {
     "name": "stderr",
     "output_type": "stream",
     "text": [
      " 12%|█▏        | 266/2190 [07:34<1:06:45,  2.08s/it]"
     ]
    },
    {
     "name": "stdout",
     "output_type": "stream",
     "text": [
      "Author returned by ChatGPT: 周昭成\n",
      "Calling ChatGPT...\n"
     ]
    },
    {
     "name": "stderr",
     "output_type": "stream",
     "text": [
      " 12%|█▏        | 267/2190 [07:37<1:12:13,  2.25s/it]"
     ]
    },
    {
     "name": "stdout",
     "output_type": "stream",
     "text": [
      "Author returned by ChatGPT: 陈有勇 丁燕\n",
      "Calling ChatGPT...\n"
     ]
    },
    {
     "name": "stderr",
     "output_type": "stream",
     "text": [
      " 12%|█▏        | 268/2190 [07:39<1:10:14,  2.19s/it]"
     ]
    },
    {
     "name": "stdout",
     "output_type": "stream",
     "text": [
      "Author returned by ChatGPT: 盛玮\n",
      "Calling ChatGPT...\n"
     ]
    },
    {
     "name": "stderr",
     "output_type": "stream",
     "text": [
      " 12%|█▏        | 269/2190 [07:41<1:09:17,  2.16s/it]"
     ]
    },
    {
     "name": "stdout",
     "output_type": "stream",
     "text": [
      "Author returned by ChatGPT: 黎海华 苏晓琼\n",
      "Calling ChatGPT...\n"
     ]
    },
    {
     "name": "stderr",
     "output_type": "stream",
     "text": [
      " 12%|█▏        | 270/2190 [07:43<1:09:20,  2.17s/it]"
     ]
    },
    {
     "name": "stdout",
     "output_type": "stream",
     "text": [
      "Author returned by ChatGPT: 刘名美\n"
     ]
    },
    {
     "name": "stderr",
     "output_type": "stream",
     "text": [
      " 13%|█▎        | 274/2190 [18:20<101:39:44, 191.01s/it]"
     ]
    },
    {
     "name": "stdout",
     "output_type": "stream",
     "text": [
      "Article with URL: http://www.qstheory.cn/dukan/qs/2023-06/16/c_1129695716.htm failed to parse\n"
     ]
    },
    {
     "name": "stderr",
     "output_type": "stream",
     "text": [
      " 13%|█▎        | 286/2190 [31:16<4:29:56,  8.51s/it]   "
     ]
    },
    {
     "name": "stdout",
     "output_type": "stream",
     "text": [
      "Calling ChatGPT...\n"
     ]
    },
    {
     "name": "stderr",
     "output_type": "stream",
     "text": [
      " 13%|█▎        | 287/2190 [31:18<3:32:16,  6.69s/it]"
     ]
    },
    {
     "name": "stdout",
     "output_type": "stream",
     "text": [
      "Author returned by ChatGPT: 狄英娜\n",
      "Calling ChatGPT...\n"
     ]
    },
    {
     "name": "stderr",
     "output_type": "stream",
     "text": [
      " 13%|█▎        | 288/2190 [31:20<2:43:44,  5.17s/it]"
     ]
    },
    {
     "name": "stdout",
     "output_type": "stream",
     "text": [
      "Author returned by ChatGPT: 王文婷 旷思思\n",
      "Calling ChatGPT...\n"
     ]
    },
    {
     "name": "stderr",
     "output_type": "stream",
     "text": [
      " 13%|█▎        | 289/2190 [31:22<2:14:18,  4.24s/it]"
     ]
    },
    {
     "name": "stdout",
     "output_type": "stream",
     "text": [
      "Author returned by ChatGPT: 蔡春玲 赵嘉宾\n",
      "Calling ChatGPT...\n"
     ]
    },
    {
     "name": "stderr",
     "output_type": "stream",
     "text": [
      " 13%|█▎        | 290/2190 [31:24<1:53:59,  3.60s/it]"
     ]
    },
    {
     "name": "stdout",
     "output_type": "stream",
     "text": [
      "Author returned by ChatGPT: 梁佩韵\n"
     ]
    },
    {
     "name": "stderr",
     "output_type": "stream",
     "text": [
      " 14%|█▍        | 308/2190 [31:50<39:07,  1.25s/it]  "
     ]
    },
    {
     "name": "stdout",
     "output_type": "stream",
     "text": [
      "Calling ChatGPT...\n"
     ]
    },
    {
     "name": "stderr",
     "output_type": "stream",
     "text": [
      " 14%|█▍        | 309/2190 [31:51<41:37,  1.33s/it]"
     ]
    },
    {
     "name": "stdout",
     "output_type": "stream",
     "text": [
      "Author returned by ChatGPT: 盛玮\n",
      "Calling ChatGPT...\n"
     ]
    },
    {
     "name": "stderr",
     "output_type": "stream",
     "text": [
      " 14%|█▍        | 310/2190 [31:54<53:41,  1.71s/it]"
     ]
    },
    {
     "name": "stdout",
     "output_type": "stream",
     "text": [
      "Author returned by ChatGPT: 李民圣\n",
      "Calling ChatGPT...\n"
     ]
    },
    {
     "name": "stderr",
     "output_type": "stream",
     "text": [
      " 14%|█▍        | 311/2190 [31:56<52:21,  1.67s/it]"
     ]
    },
    {
     "name": "stdout",
     "output_type": "stream",
     "text": [
      "Author returned by ChatGPT: 周璐铭 李坤\n",
      "Calling ChatGPT...\n"
     ]
    },
    {
     "name": "stderr",
     "output_type": "stream",
     "text": [
      " 14%|█▍        | 312/2190 [31:58<1:01:20,  1.96s/it]"
     ]
    },
    {
     "name": "stdout",
     "output_type": "stream",
     "text": [
      "Author returned by ChatGPT: 那非丁 杨世智\n"
     ]
    },
    {
     "name": "stderr",
     "output_type": "stream",
     "text": [
      " 16%|█▌        | 347/2190 [32:44<40:06,  1.31s/it]  "
     ]
    },
    {
     "name": "stdout",
     "output_type": "stream",
     "text": [
      "Calling ChatGPT...\n"
     ]
    },
    {
     "name": "stderr",
     "output_type": "stream",
     "text": [
      " 16%|█▌        | 348/2190 [32:46<46:48,  1.52s/it]"
     ]
    },
    {
     "name": "stdout",
     "output_type": "stream",
     "text": [
      "Author returned by ChatGPT: 魏天舒\n",
      "Calling ChatGPT...\n"
     ]
    },
    {
     "name": "stderr",
     "output_type": "stream",
     "text": [
      " 16%|█▌        | 349/2190 [32:48<51:57,  1.69s/it]"
     ]
    },
    {
     "name": "stdout",
     "output_type": "stream",
     "text": [
      "Author returned by ChatGPT: 盛玮\n",
      "Calling ChatGPT...\n"
     ]
    },
    {
     "name": "stderr",
     "output_type": "stream",
     "text": [
      " 16%|█▌        | 350/2190 [32:51<1:00:31,  1.97s/it]"
     ]
    },
    {
     "name": "stdout",
     "output_type": "stream",
     "text": [
      "Author returned by ChatGPT: 何雯雯\n",
      "Calling ChatGPT...\n"
     ]
    },
    {
     "name": "stderr",
     "output_type": "stream",
     "text": [
      " 16%|█▌        | 351/2190 [32:54<1:06:26,  2.17s/it]"
     ]
    },
    {
     "name": "stdout",
     "output_type": "stream",
     "text": [
      "Author returned by ChatGPT: 高天鼎\n",
      "Calling ChatGPT...\n"
     ]
    },
    {
     "name": "stderr",
     "output_type": "stream",
     "text": [
      " 16%|█▌        | 352/2190 [32:56<1:05:43,  2.15s/it]"
     ]
    },
    {
     "name": "stdout",
     "output_type": "stream",
     "text": [
      "Author returned by ChatGPT: 周璐铭 徐阳\n"
     ]
    },
    {
     "name": "stderr",
     "output_type": "stream",
     "text": [
      " 17%|█▋        | 367/2190 [33:23<43:49,  1.44s/it]  "
     ]
    },
    {
     "name": "stdout",
     "output_type": "stream",
     "text": [
      "Calling ChatGPT...\n"
     ]
    },
    {
     "name": "stderr",
     "output_type": "stream",
     "text": [
      " 17%|█▋        | 368/2190 [33:25<49:22,  1.63s/it]"
     ]
    },
    {
     "name": "stdout",
     "output_type": "stream",
     "text": [
      "Author returned by ChatGPT: 侯亚景\n",
      "Calling ChatGPT...\n"
     ]
    },
    {
     "name": "stderr",
     "output_type": "stream",
     "text": [
      " 17%|█▋        | 369/2190 [33:26<48:38,  1.60s/it]"
     ]
    },
    {
     "name": "stdout",
     "output_type": "stream",
     "text": [
      "Author returned by ChatGPT: 陈有勇\n",
      "Calling ChatGPT...\n"
     ]
    },
    {
     "name": "stderr",
     "output_type": "stream",
     "text": [
      " 17%|█▋        | 370/2190 [33:28<53:06,  1.75s/it]"
     ]
    },
    {
     "name": "stdout",
     "output_type": "stream",
     "text": [
      "Author returned by ChatGPT: 黄炜信 旷思思\n"
     ]
    },
    {
     "name": "stderr",
     "output_type": "stream",
     "text": [
      " 19%|█▊        | 406/2190 [34:14<38:20,  1.29s/it]"
     ]
    },
    {
     "name": "stdout",
     "output_type": "stream",
     "text": [
      "Calling ChatGPT...\n"
     ]
    },
    {
     "name": "stderr",
     "output_type": "stream",
     "text": [
      " 19%|█▊        | 407/2190 [34:16<41:23,  1.39s/it]"
     ]
    },
    {
     "name": "stdout",
     "output_type": "stream",
     "text": [
      "Author returned by ChatGPT: 周璐铭\n",
      "Calling ChatGPT...\n"
     ]
    },
    {
     "name": "stderr",
     "output_type": "stream",
     "text": [
      " 19%|█▊        | 408/2190 [34:18<43:20,  1.46s/it]"
     ]
    },
    {
     "name": "stdout",
     "output_type": "stream",
     "text": [
      "Author returned by ChatGPT: 狄英娜 张昕\n",
      "Calling ChatGPT...\n"
     ]
    },
    {
     "name": "stderr",
     "output_type": "stream",
     "text": [
      " 19%|█▊        | 409/2190 [34:20<47:03,  1.59s/it]"
     ]
    },
    {
     "name": "stdout",
     "output_type": "stream",
     "text": [
      "Author returned by ChatGPT: 刘名美\n"
     ]
    },
    {
     "name": "stderr",
     "output_type": "stream",
     "text": [
      " 20%|██        | 443/2190 [35:02<42:58,  1.48s/it]"
     ]
    },
    {
     "name": "stdout",
     "output_type": "stream",
     "text": [
      "Calling ChatGPT...\n"
     ]
    },
    {
     "name": "stderr",
     "output_type": "stream",
     "text": [
      " 20%|██        | 444/2190 [35:03<42:09,  1.45s/it]"
     ]
    },
    {
     "name": "stdout",
     "output_type": "stream",
     "text": [
      "Author returned by ChatGPT: 王小蕾 黎海华\n"
     ]
    },
    {
     "name": "stderr",
     "output_type": "stream",
     "text": [
      " 22%|██▏       | 478/2190 [35:47<55:37,  1.95s/it]"
     ]
    },
    {
     "name": "stdout",
     "output_type": "stream",
     "text": [
      "Calling ChatGPT...\n"
     ]
    },
    {
     "name": "stderr",
     "output_type": "stream",
     "text": [
      " 22%|██▏       | 479/2190 [35:49<1:02:16,  2.18s/it]"
     ]
    },
    {
     "name": "stdout",
     "output_type": "stream",
     "text": [
      "Author returned by ChatGPT: 李雯博\n",
      "Calling ChatGPT...\n"
     ]
    },
    {
     "name": "stderr",
     "output_type": "stream",
     "text": [
      " 22%|██▏       | 480/2190 [35:54<1:18:22,  2.75s/it]"
     ]
    },
    {
     "name": "stdout",
     "output_type": "stream",
     "text": [
      "Author returned by ChatGPT: 刘名美\n",
      "Calling ChatGPT...\n"
     ]
    },
    {
     "name": "stderr",
     "output_type": "stream",
     "text": [
      " 22%|██▏       | 481/2190 [35:56<1:17:12,  2.71s/it]"
     ]
    },
    {
     "name": "stdout",
     "output_type": "stream",
     "text": [
      "Author returned by ChatGPT: 张淑虹\n"
     ]
    },
    {
     "name": "stderr",
     "output_type": "stream",
     "text": [
      " 23%|██▎       | 499/2190 [36:23<46:10,  1.64s/it]  "
     ]
    },
    {
     "name": "stdout",
     "output_type": "stream",
     "text": [
      "Calling ChatGPT...\n"
     ]
    },
    {
     "name": "stderr",
     "output_type": "stream",
     "text": [
      " 23%|██▎       | 500/2190 [36:25<45:51,  1.63s/it]"
     ]
    },
    {
     "name": "stdout",
     "output_type": "stream",
     "text": [
      "Author returned by ChatGPT: 刘名美\n",
      "Calling ChatGPT...\n"
     ]
    },
    {
     "name": "stderr",
     "output_type": "stream",
     "text": [
      " 23%|██▎       | 501/2190 [36:27<45:15,  1.61s/it]"
     ]
    },
    {
     "name": "stdout",
     "output_type": "stream",
     "text": [
      "Author returned by ChatGPT: 黎海华\n",
      "Calling ChatGPT...\n"
     ]
    },
    {
     "name": "stderr",
     "output_type": "stream",
     "text": [
      " 23%|██▎       | 502/2190 [36:29<48:26,  1.72s/it]"
     ]
    },
    {
     "name": "stdout",
     "output_type": "stream",
     "text": [
      "Author returned by ChatGPT: 盛玮\n"
     ]
    },
    {
     "name": "stderr",
     "output_type": "stream",
     "text": [
      " 27%|██▋       | 585/2190 [38:38<34:32,  1.29s/it]  "
     ]
    },
    {
     "name": "stdout",
     "output_type": "stream",
     "text": [
      "Calling ChatGPT...\n"
     ]
    },
    {
     "name": "stderr",
     "output_type": "stream",
     "text": [
      " 27%|██▋       | 586/2190 [38:39<37:10,  1.39s/it]"
     ]
    },
    {
     "name": "stdout",
     "output_type": "stream",
     "text": [
      "Author returned by ChatGPT: 张淑虹\n",
      "Calling ChatGPT...\n"
     ]
    },
    {
     "name": "stderr",
     "output_type": "stream",
     "text": [
      " 27%|██▋       | 587/2190 [38:42<51:11,  1.92s/it]"
     ]
    },
    {
     "name": "stdout",
     "output_type": "stream",
     "text": [
      "Author returned by ChatGPT: 梁佩韵 张春林\n",
      "Calling ChatGPT...\n"
     ]
    },
    {
     "name": "stderr",
     "output_type": "stream",
     "text": [
      " 27%|██▋       | 588/2190 [38:45<56:17,  2.11s/it]"
     ]
    },
    {
     "name": "stdout",
     "output_type": "stream",
     "text": [
      "Author returned by ChatGPT: 郭斐然 秋菊\n",
      "Calling ChatGPT...\n"
     ]
    },
    {
     "name": "stderr",
     "output_type": "stream",
     "text": [
      " 27%|██▋       | 589/2190 [38:49<1:13:22,  2.75s/it]"
     ]
    },
    {
     "name": "stdout",
     "output_type": "stream",
     "text": [
      "Author returned by ChatGPT: 李坤 蔡春玲\n",
      "Calling ChatGPT...\n"
     ]
    },
    {
     "name": "stderr",
     "output_type": "stream",
     "text": [
      " 27%|██▋       | 590/2190 [38:51<1:03:56,  2.40s/it]"
     ]
    },
    {
     "name": "stdout",
     "output_type": "stream",
     "text": [
      "Author returned by ChatGPT: 李达\n"
     ]
    },
    {
     "name": "stderr",
     "output_type": "stream",
     "text": [
      " 28%|██▊       | 606/2190 [39:15<42:48,  1.62s/it]  "
     ]
    },
    {
     "name": "stdout",
     "output_type": "stream",
     "text": [
      "Calling ChatGPT...\n"
     ]
    },
    {
     "name": "stderr",
     "output_type": "stream",
     "text": [
      " 28%|██▊       | 607/2190 [39:18<50:25,  1.91s/it]"
     ]
    },
    {
     "name": "stdout",
     "output_type": "stream",
     "text": [
      "Author returned by ChatGPT: 陈亦琳 王春楠\n",
      "Calling ChatGPT...\n"
     ]
    },
    {
     "name": "stderr",
     "output_type": "stream",
     "text": [
      " 28%|██▊       | 608/2190 [39:20<46:53,  1.78s/it]"
     ]
    },
    {
     "name": "stdout",
     "output_type": "stream",
     "text": [
      "Author returned by ChatGPT: 杨绍华 倪琴\n",
      "Calling ChatGPT...\n"
     ]
    },
    {
     "name": "stderr",
     "output_type": "stream",
     "text": [
      " 28%|██▊       | 609/2190 [39:22<54:30,  2.07s/it]"
     ]
    },
    {
     "name": "stdout",
     "output_type": "stream",
     "text": [
      "Author returned by ChatGPT: 尹霞 梁生树 李彬\n",
      "Calling ChatGPT...\n"
     ]
    },
    {
     "name": "stderr",
     "output_type": "stream",
     "text": [
      " 28%|██▊       | 610/2190 [39:24<50:55,  1.93s/it]"
     ]
    },
    {
     "name": "stdout",
     "output_type": "stream",
     "text": [
      "Author returned by ChatGPT: 何雯雯 韩燕\n",
      "Calling ChatGPT...\n"
     ]
    },
    {
     "name": "stderr",
     "output_type": "stream",
     "text": [
      " 28%|██▊       | 611/2190 [39:26<51:05,  1.94s/it]"
     ]
    },
    {
     "name": "stdout",
     "output_type": "stream",
     "text": [
      "Author returned by ChatGPT: 侯亚景 王云 何勤华\n"
     ]
    },
    {
     "name": "stderr",
     "output_type": "stream",
     "text": [
      " 28%|██▊       | 612/2190 [39:27<44:39,  1.70s/it]"
     ]
    },
    {
     "name": "stdout",
     "output_type": "stream",
     "text": [
      "Calling ChatGPT...\n"
     ]
    },
    {
     "name": "stderr",
     "output_type": "stream",
     "text": [
      " 28%|██▊       | 613/2190 [39:28<42:38,  1.62s/it]"
     ]
    },
    {
     "name": "stdout",
     "output_type": "stream",
     "text": [
      "Author returned by ChatGPT: 李育蒙 刘艳辉\n"
     ]
    },
    {
     "name": "stderr",
     "output_type": "stream",
     "text": [
      " 29%|██▊       | 626/2190 [39:48<37:47,  1.45s/it]"
     ]
    },
    {
     "name": "stdout",
     "output_type": "stream",
     "text": [
      "Calling ChatGPT...\n"
     ]
    },
    {
     "name": "stderr",
     "output_type": "stream",
     "text": [
      " 29%|██▊       | 627/2190 [39:50<41:51,  1.61s/it]"
     ]
    },
    {
     "name": "stdout",
     "output_type": "stream",
     "text": [
      "Author returned by ChatGPT: 申小提 王力\n",
      "Calling ChatGPT...\n"
     ]
    },
    {
     "name": "stderr",
     "output_type": "stream",
     "text": [
      " 29%|██▊       | 628/2190 [39:52<42:39,  1.64s/it]"
     ]
    },
    {
     "name": "stdout",
     "output_type": "stream",
     "text": [
      "Author returned by ChatGPT: 魏天舒 郑亚丽\n",
      "Calling ChatGPT...\n"
     ]
    },
    {
     "name": "stderr",
     "output_type": "stream",
     "text": [
      " 29%|██▊       | 629/2190 [39:54<46:11,  1.78s/it]"
     ]
    },
    {
     "name": "stdout",
     "output_type": "stream",
     "text": [
      "Author returned by ChatGPT: 黎海华 蔡萌\n",
      "Calling ChatGPT...\n"
     ]
    },
    {
     "name": "stderr",
     "output_type": "stream",
     "text": [
      " 29%|██▉       | 630/2190 [39:55<44:36,  1.72s/it]"
     ]
    },
    {
     "name": "stdout",
     "output_type": "stream",
     "text": [
      "Author returned by ChatGPT: 梁佩韵 伏润之\n"
     ]
    },
    {
     "name": "stderr",
     "output_type": "stream",
     "text": [
      " 29%|██▉       | 645/2190 [40:16<37:31,  1.46s/it]"
     ]
    },
    {
     "name": "stdout",
     "output_type": "stream",
     "text": [
      "Calling ChatGPT...\n"
     ]
    },
    {
     "name": "stderr",
     "output_type": "stream",
     "text": [
      " 29%|██▉       | 646/2190 [40:18<40:23,  1.57s/it]"
     ]
    },
    {
     "name": "stdout",
     "output_type": "stream",
     "text": [
      "Author returned by ChatGPT: 何雯雯 李连成\n",
      "Calling ChatGPT...\n"
     ]
    },
    {
     "name": "stderr",
     "output_type": "stream",
     "text": [
      " 30%|██▉       | 647/2190 [40:37<2:59:50,  6.99s/it]"
     ]
    },
    {
     "name": "stdout",
     "output_type": "stream",
     "text": [
      "Author returned by ChatGPT: 狄英娜 赵丰\n",
      "Calling ChatGPT...\n"
     ]
    },
    {
     "name": "stderr",
     "output_type": "stream",
     "text": [
      " 30%|██▉       | 648/2190 [40:39<2:21:06,  5.49s/it]"
     ]
    },
    {
     "name": "stdout",
     "output_type": "stream",
     "text": [
      "Author returned by ChatGPT: 旷思思 董凤龙\n",
      "Calling ChatGPT...\n"
     ]
    },
    {
     "name": "stderr",
     "output_type": "stream",
     "text": [
      " 30%|██▉       | 649/2190 [40:43<2:06:04,  4.91s/it]"
     ]
    },
    {
     "name": "stdout",
     "output_type": "stream",
     "text": [
      "Author returned by ChatGPT: 黎海华 张智伟\n",
      "Calling ChatGPT...\n"
     ]
    },
    {
     "name": "stderr",
     "output_type": "stream",
     "text": [
      " 30%|██▉       | 650/2190 [40:44<1:40:03,  3.90s/it]"
     ]
    },
    {
     "name": "stdout",
     "output_type": "stream",
     "text": [
      "Author returned by ChatGPT: 杨绍华 石雷\n"
     ]
    },
    {
     "name": "stderr",
     "output_type": "stream",
     "text": [
      " 31%|███       | 669/2190 [41:22<37:06,  1.46s/it]  "
     ]
    },
    {
     "name": "stdout",
     "output_type": "stream",
     "text": [
      "Calling ChatGPT...\n"
     ]
    },
    {
     "name": "stderr",
     "output_type": "stream",
     "text": [
      " 31%|███       | 670/2190 [41:23<37:38,  1.49s/it]"
     ]
    },
    {
     "name": "stdout",
     "output_type": "stream",
     "text": [
      "Author returned by ChatGPT: 郭斐然 丁佳文\n",
      "Calling ChatGPT...\n"
     ]
    },
    {
     "name": "stderr",
     "output_type": "stream",
     "text": [
      " 31%|███       | 671/2190 [41:25<38:10,  1.51s/it]"
     ]
    },
    {
     "name": "stdout",
     "output_type": "stream",
     "text": [
      "Author returned by ChatGPT: 吴晓迪 段利军\n",
      "Calling ChatGPT...\n"
     ]
    },
    {
     "name": "stderr",
     "output_type": "stream",
     "text": [
      " 31%|███       | 672/2190 [41:26<38:26,  1.52s/it]"
     ]
    },
    {
     "name": "stdout",
     "output_type": "stream",
     "text": [
      "Author returned by ChatGPT: 魏天舒 姜斌\n",
      "Calling ChatGPT...\n"
     ]
    },
    {
     "name": "stderr",
     "output_type": "stream",
     "text": [
      " 31%|███       | 673/2190 [41:28<38:50,  1.54s/it]"
     ]
    },
    {
     "name": "stdout",
     "output_type": "stream",
     "text": [
      "Author returned by ChatGPT: 岳劲松 郑颖\n"
     ]
    },
    {
     "name": "stderr",
     "output_type": "stream",
     "text": [
      " 31%|███       | 683/2190 [41:41<31:53,  1.27s/it]"
     ]
    },
    {
     "name": "stdout",
     "output_type": "stream",
     "text": [
      "Calling ChatGPT...\n"
     ]
    },
    {
     "name": "stderr",
     "output_type": "stream",
     "text": [
      " 31%|███       | 684/2190 [41:44<45:28,  1.81s/it]"
     ]
    },
    {
     "name": "stdout",
     "output_type": "stream",
     "text": [
      "Author returned by ChatGPT: 王金南 蔡博峰\n"
     ]
    },
    {
     "name": "stderr",
     "output_type": "stream",
     "text": [
      " 31%|███▏      | 689/2190 [41:49<32:23,  1.29s/it]"
     ]
    },
    {
     "name": "stdout",
     "output_type": "stream",
     "text": [
      "Calling ChatGPT...\n"
     ]
    },
    {
     "name": "stderr",
     "output_type": "stream",
     "text": [
      " 32%|███▏      | 690/2190 [41:53<47:03,  1.88s/it]"
     ]
    },
    {
     "name": "stdout",
     "output_type": "stream",
     "text": [
      "Author returned by ChatGPT: 旷思思\n",
      "Calling ChatGPT...\n"
     ]
    },
    {
     "name": "stderr",
     "output_type": "stream",
     "text": [
      " 32%|███▏      | 691/2190 [41:54<43:47,  1.75s/it]"
     ]
    },
    {
     "name": "stdout",
     "output_type": "stream",
     "text": [
      "Author returned by ChatGPT: 周昭成 龙丹梅\n",
      "Calling ChatGPT...\n"
     ]
    },
    {
     "name": "stderr",
     "output_type": "stream",
     "text": [
      " 32%|███▏      | 692/2190 [41:56<47:14,  1.89s/it]"
     ]
    },
    {
     "name": "stdout",
     "output_type": "stream",
     "text": [
      "Author returned by ChatGPT: 侯亚景 李贵文\n",
      "Calling ChatGPT...\n"
     ]
    },
    {
     "name": "stderr",
     "output_type": "stream",
     "text": [
      " 32%|███▏      | 693/2190 [41:58<47:15,  1.89s/it]"
     ]
    },
    {
     "name": "stdout",
     "output_type": "stream",
     "text": [
      "Author returned by ChatGPT: 孙洋洋 张猛\n",
      "Calling ChatGPT...\n"
     ]
    },
    {
     "name": "stderr",
     "output_type": "stream",
     "text": [
      " 32%|███▏      | 694/2190 [42:00<49:38,  1.99s/it]"
     ]
    },
    {
     "name": "stdout",
     "output_type": "stream",
     "text": [
      "Author returned by ChatGPT: 李民圣 潘彦云\n"
     ]
    },
    {
     "name": "stderr",
     "output_type": "stream",
     "text": [
      " 33%|███▎      | 712/2190 [42:23<30:03,  1.22s/it]"
     ]
    },
    {
     "name": "stdout",
     "output_type": "stream",
     "text": [
      "Calling ChatGPT...\n"
     ]
    },
    {
     "name": "stderr",
     "output_type": "stream",
     "text": [
      " 33%|███▎      | 713/2190 [42:25<35:55,  1.46s/it]"
     ]
    },
    {
     "name": "stdout",
     "output_type": "stream",
     "text": [
      "Author returned by ChatGPT: 刘玉成 孙大卫\n",
      "Calling ChatGPT...\n"
     ]
    },
    {
     "name": "stderr",
     "output_type": "stream",
     "text": [
      " 33%|███▎      | 714/2190 [42:27<41:04,  1.67s/it]"
     ]
    },
    {
     "name": "stdout",
     "output_type": "stream",
     "text": [
      "Author returned by ChatGPT: 蔡春玲 张力军\n",
      "Calling ChatGPT...\n"
     ]
    },
    {
     "name": "stderr",
     "output_type": "stream",
     "text": [
      " 33%|███▎      | 715/2190 [42:30<47:43,  1.94s/it]"
     ]
    },
    {
     "name": "stdout",
     "output_type": "stream",
     "text": [
      "Author returned by ChatGPT: 李孝纯 晏培娟\n"
     ]
    },
    {
     "name": "stderr",
     "output_type": "stream",
     "text": [
      " 33%|███▎      | 730/2190 [42:50<37:25,  1.54s/it]"
     ]
    },
    {
     "name": "stdout",
     "output_type": "stream",
     "text": [
      "Calling ChatGPT...\n"
     ]
    },
    {
     "name": "stderr",
     "output_type": "stream",
     "text": [
      " 33%|███▎      | 731/2190 [42:52<41:09,  1.69s/it]"
     ]
    },
    {
     "name": "stdout",
     "output_type": "stream",
     "text": [
      "Author returned by ChatGPT: 侯亚景 史泽奇\n",
      "Calling ChatGPT...\n"
     ]
    },
    {
     "name": "stderr",
     "output_type": "stream",
     "text": [
      " 33%|███▎      | 732/2190 [42:54<44:03,  1.81s/it]"
     ]
    },
    {
     "name": "stdout",
     "output_type": "stream",
     "text": [
      "Author returned by ChatGPT: 李达 贾红路\n",
      "Calling ChatGPT...\n"
     ]
    },
    {
     "name": "stderr",
     "output_type": "stream",
     "text": [
      " 33%|███▎      | 733/2190 [42:56<46:05,  1.90s/it]"
     ]
    },
    {
     "name": "stdout",
     "output_type": "stream",
     "text": [
      "Author returned by ChatGPT: 魏天舒 谭雅竹\n",
      "Calling ChatGPT...\n"
     ]
    },
    {
     "name": "stderr",
     "output_type": "stream",
     "text": [
      " 34%|███▎      | 734/2190 [42:58<43:43,  1.80s/it]"
     ]
    },
    {
     "name": "stdout",
     "output_type": "stream",
     "text": [
      "Author returned by ChatGPT: 高天鼎 黄志武\n",
      "Calling ChatGPT...\n"
     ]
    },
    {
     "name": "stderr",
     "output_type": "stream",
     "text": [
      " 34%|███▎      | 735/2190 [43:00<44:27,  1.83s/it]"
     ]
    },
    {
     "name": "stdout",
     "output_type": "stream",
     "text": [
      "Author returned by ChatGPT: 李民圣 朱兴\n"
     ]
    },
    {
     "name": "stderr",
     "output_type": "stream",
     "text": [
      " 34%|███▍      | 749/2190 [43:23<28:56,  1.21s/it]  "
     ]
    },
    {
     "name": "stdout",
     "output_type": "stream",
     "text": [
      "Calling ChatGPT...\n"
     ]
    },
    {
     "name": "stderr",
     "output_type": "stream",
     "text": [
      " 34%|███▍      | 750/2190 [43:25<32:23,  1.35s/it]"
     ]
    },
    {
     "name": "stdout",
     "output_type": "stream",
     "text": [
      "Author returned by ChatGPT: 何雯雯 李保健\n",
      "Calling ChatGPT...\n"
     ]
    },
    {
     "name": "stderr",
     "output_type": "stream",
     "text": [
      " 34%|███▍      | 751/2190 [43:27<33:52,  1.41s/it]"
     ]
    },
    {
     "name": "stdout",
     "output_type": "stream",
     "text": [
      "Author returned by ChatGPT: 岳劲松 郑颖\n",
      "Calling ChatGPT...\n"
     ]
    },
    {
     "name": "stderr",
     "output_type": "stream",
     "text": [
      " 34%|███▍      | 752/2190 [43:28<35:39,  1.49s/it]"
     ]
    },
    {
     "name": "stdout",
     "output_type": "stream",
     "text": [
      "Author returned by ChatGPT: 狄英娜 王珊珊\n",
      "Calling ChatGPT...\n"
     ]
    },
    {
     "name": "stderr",
     "output_type": "stream",
     "text": [
      " 34%|███▍      | 753/2190 [43:30<39:19,  1.64s/it]"
     ]
    },
    {
     "name": "stdout",
     "output_type": "stream",
     "text": [
      "Author returned by ChatGPT: 陈有勇 周亚明\n",
      "Calling ChatGPT...\n"
     ]
    },
    {
     "name": "stderr",
     "output_type": "stream",
     "text": [
      " 34%|███▍      | 754/2190 [43:32<38:48,  1.62s/it]"
     ]
    },
    {
     "name": "stdout",
     "output_type": "stream",
     "text": [
      "Author returned by ChatGPT: 尹霞 肖亮\n"
     ]
    },
    {
     "name": "stderr",
     "output_type": "stream",
     "text": [
      " 35%|███▌      | 771/2190 [43:55<25:44,  1.09s/it]"
     ]
    },
    {
     "name": "stdout",
     "output_type": "stream",
     "text": [
      "Calling ChatGPT...\n"
     ]
    },
    {
     "name": "stderr",
     "output_type": "stream",
     "text": [
      " 35%|███▌      | 772/2190 [43:57<29:19,  1.24s/it]"
     ]
    },
    {
     "name": "stdout",
     "output_type": "stream",
     "text": [
      "Author returned by ChatGPT: 梁佩韵 白续宏\n",
      "Calling ChatGPT...\n"
     ]
    },
    {
     "name": "stderr",
     "output_type": "stream",
     "text": [
      " 35%|███▌      | 773/2190 [43:59<35:15,  1.49s/it]"
     ]
    },
    {
     "name": "stdout",
     "output_type": "stream",
     "text": [
      "Author returned by ChatGPT: 柴潇凡 陈凌墨\n",
      "Calling ChatGPT...\n"
     ]
    },
    {
     "name": "stderr",
     "output_type": "stream",
     "text": [
      " 35%|███▌      | 774/2190 [44:00<37:35,  1.59s/it]"
     ]
    },
    {
     "name": "stdout",
     "output_type": "stream",
     "text": [
      "Author returned by ChatGPT: 李飞 秦丽云\n",
      "Calling ChatGPT...\n"
     ]
    },
    {
     "name": "stderr",
     "output_type": "stream",
     "text": [
      " 35%|███▌      | 775/2190 [44:02<38:53,  1.65s/it]"
     ]
    },
    {
     "name": "stdout",
     "output_type": "stream",
     "text": [
      "Author returned by ChatGPT: 侯亚景 蔡萌\n"
     ]
    },
    {
     "name": "stderr",
     "output_type": "stream",
     "text": [
      " 36%|███▌      | 790/2190 [44:23<29:52,  1.28s/it]"
     ]
    },
    {
     "name": "stdout",
     "output_type": "stream",
     "text": [
      "Calling ChatGPT...\n"
     ]
    },
    {
     "name": "stderr",
     "output_type": "stream",
     "text": [
      " 36%|███▌      | 791/2190 [44:26<35:45,  1.53s/it]"
     ]
    },
    {
     "name": "stdout",
     "output_type": "stream",
     "text": [
      "Author returned by ChatGPT: 岳劲松 张大鹏\n",
      "Calling ChatGPT...\n"
     ]
    },
    {
     "name": "stderr",
     "output_type": "stream",
     "text": [
      " 36%|███▌      | 792/2190 [44:27<34:55,  1.50s/it]"
     ]
    },
    {
     "name": "stdout",
     "output_type": "stream",
     "text": [
      "Author returned by ChatGPT: 侯亚景 陈文君\n",
      "Calling ChatGPT...\n"
     ]
    },
    {
     "name": "stderr",
     "output_type": "stream",
     "text": [
      " 36%|███▌      | 793/2190 [44:30<44:32,  1.91s/it]"
     ]
    },
    {
     "name": "stdout",
     "output_type": "stream",
     "text": [
      "Author returned by ChatGPT: 何雯雯 曹雯\n"
     ]
    },
    {
     "name": "stderr",
     "output_type": "stream",
     "text": [
      " 37%|███▋      | 810/2190 [44:51<29:24,  1.28s/it]"
     ]
    },
    {
     "name": "stdout",
     "output_type": "stream",
     "text": [
      "Calling ChatGPT...\n"
     ]
    },
    {
     "name": "stderr",
     "output_type": "stream",
     "text": [
      " 37%|███▋      | 811/2190 [44:53<36:04,  1.57s/it]"
     ]
    },
    {
     "name": "stdout",
     "output_type": "stream",
     "text": [
      "Author returned by ChatGPT: 魏天舒 翁杰\n",
      "Calling ChatGPT...\n"
     ]
    },
    {
     "name": "stderr",
     "output_type": "stream",
     "text": [
      " 37%|███▋      | 812/2190 [44:54<33:58,  1.48s/it]"
     ]
    },
    {
     "name": "stdout",
     "output_type": "stream",
     "text": [
      "Author returned by ChatGPT: 郭斐然 刘勇\n",
      "Calling ChatGPT...\n"
     ]
    },
    {
     "name": "stderr",
     "output_type": "stream",
     "text": [
      " 37%|███▋      | 813/2190 [44:56<35:27,  1.55s/it]"
     ]
    },
    {
     "name": "stdout",
     "output_type": "stream",
     "text": [
      "Author returned by ChatGPT: 黎海华 刘艳辉\n"
     ]
    },
    {
     "name": "stderr",
     "output_type": "stream",
     "text": [
      " 38%|███▊      | 826/2190 [45:11<29:00,  1.28s/it]"
     ]
    },
    {
     "name": "stdout",
     "output_type": "stream",
     "text": [
      "Calling ChatGPT...\n"
     ]
    },
    {
     "name": "stderr",
     "output_type": "stream",
     "text": [
      " 38%|███▊      | 827/2190 [45:13<37:49,  1.67s/it]"
     ]
    },
    {
     "name": "stdout",
     "output_type": "stream",
     "text": [
      "Author returned by ChatGPT: 狄英娜 高天鼎 冷兴邦\n"
     ]
    },
    {
     "name": "stderr",
     "output_type": "stream",
     "text": [
      " 38%|███▊      | 828/2190 [45:15<34:04,  1.50s/it]"
     ]
    },
    {
     "name": "stdout",
     "output_type": "stream",
     "text": [
      "Calling ChatGPT...\n"
     ]
    },
    {
     "name": "stderr",
     "output_type": "stream",
     "text": [
      " 38%|███▊      | 829/2190 [45:16<34:01,  1.50s/it]"
     ]
    },
    {
     "name": "stdout",
     "output_type": "stream",
     "text": [
      "Author returned by ChatGPT: 陈有勇 丁佳文\n",
      "Calling ChatGPT...\n"
     ]
    },
    {
     "name": "stderr",
     "output_type": "stream",
     "text": [
      " 38%|███▊      | 830/2190 [45:18<34:41,  1.53s/it]"
     ]
    },
    {
     "name": "stdout",
     "output_type": "stream",
     "text": [
      "Author returned by ChatGPT: 蔡春玲 李抑嫱\n",
      "Calling ChatGPT...\n"
     ]
    },
    {
     "name": "stderr",
     "output_type": "stream",
     "text": [
      " 38%|███▊      | 831/2190 [45:20<38:20,  1.69s/it]"
     ]
    },
    {
     "name": "stdout",
     "output_type": "stream",
     "text": [
      "Author returned by ChatGPT: 柴潇凡 王瑞欣\n"
     ]
    },
    {
     "name": "stderr",
     "output_type": "stream",
     "text": [
      " 39%|███▊      | 848/2190 [45:40<25:38,  1.15s/it]"
     ]
    },
    {
     "name": "stdout",
     "output_type": "stream",
     "text": [
      "Calling ChatGPT...\n"
     ]
    },
    {
     "name": "stderr",
     "output_type": "stream",
     "text": [
      " 39%|███▉      | 849/2190 [45:42<28:35,  1.28s/it]"
     ]
    },
    {
     "name": "stdout",
     "output_type": "stream",
     "text": [
      "Author returned by ChatGPT: 狄英娜 柳萍\n",
      "Calling ChatGPT...\n"
     ]
    },
    {
     "name": "stderr",
     "output_type": "stream",
     "text": [
      " 39%|███▉      | 850/2190 [45:43<30:39,  1.37s/it]"
     ]
    },
    {
     "name": "stdout",
     "output_type": "stream",
     "text": [
      "Author returned by ChatGPT: 何雯雯 龚砚庆\n",
      "Calling ChatGPT...\n"
     ]
    },
    {
     "name": "stderr",
     "output_type": "stream",
     "text": [
      " 39%|███▉      | 851/2190 [45:45<31:53,  1.43s/it]"
     ]
    },
    {
     "name": "stdout",
     "output_type": "stream",
     "text": [
      "Author returned by ChatGPT: 盛玮 张文博\n",
      "Calling ChatGPT...\n"
     ]
    },
    {
     "name": "stderr",
     "output_type": "stream",
     "text": [
      " 39%|███▉      | 852/2190 [45:47<32:48,  1.47s/it]"
     ]
    },
    {
     "name": "stdout",
     "output_type": "stream",
     "text": [
      "Author returned by ChatGPT: 陈亦琳 李志廷\n"
     ]
    },
    {
     "name": "stderr",
     "output_type": "stream",
     "text": [
      " 39%|███▉      | 853/2190 [45:47<29:15,  1.31s/it]"
     ]
    },
    {
     "name": "stdout",
     "output_type": "stream",
     "text": [
      "Calling ChatGPT...\n"
     ]
    },
    {
     "name": "stderr",
     "output_type": "stream",
     "text": [
      " 39%|███▉      | 854/2190 [45:49<31:40,  1.42s/it]"
     ]
    },
    {
     "name": "stdout",
     "output_type": "stream",
     "text": [
      "Author returned by ChatGPT: 谢尚芸 王春英\n"
     ]
    },
    {
     "name": "stderr",
     "output_type": "stream",
     "text": [
      " 40%|███▉      | 870/2190 [46:13<30:44,  1.40s/it]"
     ]
    },
    {
     "name": "stdout",
     "output_type": "stream",
     "text": [
      "Calling ChatGPT...\n"
     ]
    },
    {
     "name": "stderr",
     "output_type": "stream",
     "text": [
      " 40%|███▉      | 871/2190 [46:15<31:29,  1.43s/it]"
     ]
    },
    {
     "name": "stdout",
     "output_type": "stream",
     "text": [
      "Author returned by ChatGPT: 梁佩韵\n",
      "Calling ChatGPT...\n"
     ]
    },
    {
     "name": "stderr",
     "output_type": "stream",
     "text": [
      " 40%|███▉      | 872/2190 [46:16<32:20,  1.47s/it]"
     ]
    },
    {
     "name": "stdout",
     "output_type": "stream",
     "text": [
      "Author returned by ChatGPT: 吴晓迪 宰飞\n",
      "Calling ChatGPT...\n"
     ]
    },
    {
     "name": "stderr",
     "output_type": "stream",
     "text": [
      " 40%|███▉      | 873/2190 [46:18<33:01,  1.50s/it]"
     ]
    },
    {
     "name": "stdout",
     "output_type": "stream",
     "text": [
      "Author returned by ChatGPT: 柴潇凡 张冠年\n"
     ]
    },
    {
     "name": "stderr",
     "output_type": "stream",
     "text": [
      " 41%|████      | 891/2190 [46:40<23:02,  1.06s/it]"
     ]
    },
    {
     "name": "stdout",
     "output_type": "stream",
     "text": [
      "Calling ChatGPT...\n"
     ]
    },
    {
     "name": "stderr",
     "output_type": "stream",
     "text": [
      " 41%|████      | 892/2190 [46:42<27:12,  1.26s/it]"
     ]
    },
    {
     "name": "stdout",
     "output_type": "stream",
     "text": [
      "Author returned by ChatGPT: 陈晋 钟波\n"
     ]
    },
    {
     "name": "stderr",
     "output_type": "stream",
     "text": [
      " 41%|████      | 893/2190 [46:43<30:01,  1.39s/it]"
     ]
    },
    {
     "name": "stdout",
     "output_type": "stream",
     "text": [
      "Calling ChatGPT...\n"
     ]
    },
    {
     "name": "stderr",
     "output_type": "stream",
     "text": [
      " 41%|████      | 894/2190 [46:45<33:18,  1.54s/it]"
     ]
    },
    {
     "name": "stdout",
     "output_type": "stream",
     "text": [
      "Author returned by ChatGPT: 张淑虹 金晓玲\n",
      "Calling ChatGPT...\n"
     ]
    },
    {
     "name": "stderr",
     "output_type": "stream",
     "text": [
      " 41%|████      | 895/2190 [46:47<33:54,  1.57s/it]"
     ]
    },
    {
     "name": "stdout",
     "output_type": "stream",
     "text": [
      "Author returned by ChatGPT: 侯亚景 咸文静\n",
      "Calling ChatGPT...\n"
     ]
    },
    {
     "name": "stderr",
     "output_type": "stream",
     "text": [
      " 41%|████      | 896/2190 [46:48<33:29,  1.55s/it]"
     ]
    },
    {
     "name": "stdout",
     "output_type": "stream",
     "text": [
      "Author returned by ChatGPT: 旷思思 赵星月\n",
      "Calling ChatGPT...\n"
     ]
    },
    {
     "name": "stderr",
     "output_type": "stream",
     "text": [
      " 41%|████      | 897/2190 [46:50<34:08,  1.58s/it]"
     ]
    },
    {
     "name": "stdout",
     "output_type": "stream",
     "text": [
      "Author returned by ChatGPT: 李民圣 马军权\n"
     ]
    },
    {
     "name": "stderr",
     "output_type": "stream",
     "text": [
      " 42%|████▏     | 921/2190 [47:23<24:30,  1.16s/it]"
     ]
    },
    {
     "name": "stdout",
     "output_type": "stream",
     "text": [
      "Calling ChatGPT...\n"
     ]
    },
    {
     "name": "stderr",
     "output_type": "stream",
     "text": [
      " 42%|████▏     | 922/2190 [47:26<37:07,  1.76s/it]"
     ]
    },
    {
     "name": "stdout",
     "output_type": "stream",
     "text": [
      "Author returned by ChatGPT: 张旭东 丁小溪\n",
      "Calling ChatGPT...\n"
     ]
    },
    {
     "name": "stderr",
     "output_type": "stream",
     "text": [
      " 42%|████▏     | 923/2190 [47:27<32:35,  1.54s/it]"
     ]
    },
    {
     "name": "stdout",
     "output_type": "stream",
     "text": [
      "Author returned by ChatGPT: 张旭东 丁小溪\n"
     ]
    },
    {
     "name": "stderr",
     "output_type": "stream",
     "text": [
      " 43%|████▎     | 952/2190 [48:10<24:49,  1.20s/it]"
     ]
    },
    {
     "name": "stdout",
     "output_type": "stream",
     "text": [
      "Calling ChatGPT...\n"
     ]
    },
    {
     "name": "stderr",
     "output_type": "stream",
     "text": [
      " 44%|████▎     | 953/2190 [48:12<34:53,  1.69s/it]"
     ]
    },
    {
     "name": "stdout",
     "output_type": "stream",
     "text": [
      "Author returned by ChatGPT: 黎海华 孙敏\n"
     ]
    },
    {
     "name": "stderr",
     "output_type": "stream",
     "text": [
      " 44%|████▎     | 954/2190 [48:14<33:45,  1.64s/it]"
     ]
    },
    {
     "name": "stdout",
     "output_type": "stream",
     "text": [
      "Calling ChatGPT...\n"
     ]
    },
    {
     "name": "stderr",
     "output_type": "stream",
     "text": [
      " 44%|████▎     | 955/2190 [48:16<35:58,  1.75s/it]"
     ]
    },
    {
     "name": "stdout",
     "output_type": "stream",
     "text": [
      "Author returned by ChatGPT: 陈有勇 丁佳文\n",
      "Calling ChatGPT...\n"
     ]
    },
    {
     "name": "stderr",
     "output_type": "stream",
     "text": [
      " 44%|████▎     | 956/2190 [48:18<35:37,  1.73s/it]"
     ]
    },
    {
     "name": "stdout",
     "output_type": "stream",
     "text": [
      "Author returned by ChatGPT: 魏天舒 方炜杭\n",
      "Calling ChatGPT...\n"
     ]
    },
    {
     "name": "stderr",
     "output_type": "stream",
     "text": [
      " 44%|████▎     | 957/2190 [48:21<46:40,  2.27s/it]"
     ]
    },
    {
     "name": "stdout",
     "output_type": "stream",
     "text": [
      "Author returned by ChatGPT: 何雯雯 刘晓波\n",
      "Calling ChatGPT...\n"
     ]
    },
    {
     "name": "stderr",
     "output_type": "stream",
     "text": [
      " 44%|████▎     | 958/2190 [48:23<45:19,  2.21s/it]"
     ]
    },
    {
     "name": "stdout",
     "output_type": "stream",
     "text": [
      "Author returned by ChatGPT: 吴晓迪 蒋君芳\n",
      "Calling ChatGPT...\n"
     ]
    },
    {
     "name": "stderr",
     "output_type": "stream",
     "text": [
      " 44%|████▍     | 959/2190 [48:25<40:11,  1.96s/it]"
     ]
    },
    {
     "name": "stdout",
     "output_type": "stream",
     "text": [
      "Author returned by ChatGPT: 尹霞 梁生树\n"
     ]
    },
    {
     "name": "stderr",
     "output_type": "stream",
     "text": [
      " 45%|████▍     | 976/2190 [48:47<32:03,  1.58s/it]"
     ]
    },
    {
     "name": "stdout",
     "output_type": "stream",
     "text": [
      "Calling ChatGPT...\n"
     ]
    },
    {
     "name": "stderr",
     "output_type": "stream",
     "text": [
      " 45%|████▍     | 977/2190 [48:50<38:13,  1.89s/it]"
     ]
    },
    {
     "name": "stdout",
     "output_type": "stream",
     "text": [
      "Author returned by ChatGPT: 蔡春玲 孙娇杨\n",
      "Calling ChatGPT...\n"
     ]
    },
    {
     "name": "stderr",
     "output_type": "stream",
     "text": [
      " 45%|████▍     | 978/2190 [48:52<36:56,  1.83s/it]"
     ]
    },
    {
     "name": "stdout",
     "output_type": "stream",
     "text": [
      "Author returned by ChatGPT: 王文婷 纪伟\n",
      "Calling ChatGPT...\n"
     ]
    },
    {
     "name": "stderr",
     "output_type": "stream",
     "text": [
      " 45%|████▍     | 979/2190 [48:53<37:33,  1.86s/it]"
     ]
    },
    {
     "name": "stdout",
     "output_type": "stream",
     "text": [
      "Author returned by ChatGPT: 黎海华 蔡萌\n",
      "Calling ChatGPT...\n"
     ]
    },
    {
     "name": "stderr",
     "output_type": "stream",
     "text": [
      " 45%|████▍     | 980/2190 [48:56<39:09,  1.94s/it]"
     ]
    },
    {
     "name": "stdout",
     "output_type": "stream",
     "text": [
      "Author returned by ChatGPT: 李雯博 张文峰\n"
     ]
    },
    {
     "name": "stderr",
     "output_type": "stream",
     "text": [
      " 47%|████▋     | 1038/2190 [50:13<26:33,  1.38s/it]"
     ]
    },
    {
     "name": "stdout",
     "output_type": "stream",
     "text": [
      "Calling ChatGPT...\n"
     ]
    },
    {
     "name": "stderr",
     "output_type": "stream",
     "text": [
      " 47%|████▋     | 1039/2190 [50:16<32:17,  1.68s/it]"
     ]
    },
    {
     "name": "stdout",
     "output_type": "stream",
     "text": [
      "Author returned by ChatGPT: 高志顺 马彦铭 潘文静\n"
     ]
    },
    {
     "name": "stderr",
     "output_type": "stream",
     "text": [
      " 48%|████▊     | 1048/2190 [50:27<24:44,  1.30s/it]"
     ]
    },
    {
     "name": "stdout",
     "output_type": "stream",
     "text": [
      "Calling ChatGPT...\n"
     ]
    },
    {
     "name": "stderr",
     "output_type": "stream",
     "text": [
      " 48%|████▊     | 1049/2190 [50:29<31:25,  1.65s/it]"
     ]
    },
    {
     "name": "stdout",
     "output_type": "stream",
     "text": [
      "Author returned by ChatGPT: 闫玉清\n",
      "Calling ChatGPT...\n"
     ]
    },
    {
     "name": "stderr",
     "output_type": "stream",
     "text": [
      " 48%|████▊     | 1050/2190 [50:31<34:23,  1.81s/it]"
     ]
    },
    {
     "name": "stdout",
     "output_type": "stream",
     "text": [
      "Author returned by ChatGPT: 宗言\n",
      "Calling ChatGPT...\n"
     ]
    },
    {
     "name": "stderr",
     "output_type": "stream",
     "text": [
      " 48%|████▊     | 1051/2190 [50:37<52:58,  2.79s/it]"
     ]
    },
    {
     "name": "stdout",
     "output_type": "stream",
     "text": [
      "Author returned by ChatGPT: 海华\n"
     ]
    },
    {
     "name": "stderr",
     "output_type": "stream",
     "text": [
      " 49%|████▊     | 1066/2190 [50:56<22:05,  1.18s/it]"
     ]
    },
    {
     "name": "stdout",
     "output_type": "stream",
     "text": [
      "Calling ChatGPT...\n"
     ]
    },
    {
     "name": "stderr",
     "output_type": "stream",
     "text": [
      " 49%|████▊     | 1067/2190 [50:57<24:27,  1.31s/it]"
     ]
    },
    {
     "name": "stdout",
     "output_type": "stream",
     "text": [
      "Author returned by ChatGPT: 周昭成\n",
      "Calling ChatGPT...\n"
     ]
    },
    {
     "name": "stderr",
     "output_type": "stream",
     "text": [
      " 49%|████▉     | 1068/2190 [50:59<28:52,  1.54s/it]"
     ]
    },
    {
     "name": "stdout",
     "output_type": "stream",
     "text": [
      "Author returned by ChatGPT: 李孝纯\n",
      "Calling ChatGPT...\n"
     ]
    },
    {
     "name": "stderr",
     "output_type": "stream",
     "text": [
      " 49%|████▉     | 1069/2190 [51:02<37:41,  2.02s/it]"
     ]
    },
    {
     "name": "stdout",
     "output_type": "stream",
     "text": [
      "Author returned by ChatGPT: 海华\n",
      "Calling ChatGPT...\n"
     ]
    },
    {
     "name": "stderr",
     "output_type": "stream",
     "text": [
      " 49%|████▉     | 1070/2190 [51:05<40:30,  2.17s/it]"
     ]
    },
    {
     "name": "stdout",
     "output_type": "stream",
     "text": [
      "Author returned by ChatGPT: 狄英娜\n"
     ]
    },
    {
     "name": "stderr",
     "output_type": "stream",
     "text": [
      " 49%|████▉     | 1071/2190 [51:07<39:47,  2.13s/it]"
     ]
    },
    {
     "name": "stdout",
     "output_type": "stream",
     "text": [
      "Calling ChatGPT...\n"
     ]
    },
    {
     "name": "stderr",
     "output_type": "stream",
     "text": [
      " 49%|████▉     | 1072/2190 [51:09<37:35,  2.02s/it]"
     ]
    },
    {
     "name": "stdout",
     "output_type": "stream",
     "text": [
      "Author returned by ChatGPT: 李育蒙 黄曦\n"
     ]
    },
    {
     "name": "stderr",
     "output_type": "stream",
     "text": [
      " 50%|████▉     | 1087/2190 [51:28<23:09,  1.26s/it]"
     ]
    },
    {
     "name": "stdout",
     "output_type": "stream",
     "text": [
      "Calling ChatGPT...\n"
     ]
    },
    {
     "name": "stderr",
     "output_type": "stream",
     "text": [
      " 50%|████▉     | 1088/2190 [51:30<27:39,  1.51s/it]"
     ]
    },
    {
     "name": "stdout",
     "output_type": "stream",
     "text": [
      "Author returned by ChatGPT: 闫玉清\n",
      "Calling ChatGPT...\n"
     ]
    },
    {
     "name": "stderr",
     "output_type": "stream",
     "text": [
      " 50%|████▉     | 1089/2190 [51:32<30:39,  1.67s/it]"
     ]
    },
    {
     "name": "stdout",
     "output_type": "stream",
     "text": [
      "Author returned by ChatGPT: 旷思思\n",
      "Calling ChatGPT...\n"
     ]
    },
    {
     "name": "stderr",
     "output_type": "stream",
     "text": [
      " 50%|████▉     | 1090/2190 [51:34<30:09,  1.64s/it]"
     ]
    },
    {
     "name": "stdout",
     "output_type": "stream",
     "text": [
      "Author returned by ChatGPT: 尹霞\n"
     ]
    },
    {
     "name": "stderr",
     "output_type": "stream",
     "text": [
      " 51%|█████     | 1106/2190 [51:53<19:58,  1.11s/it]"
     ]
    },
    {
     "name": "stdout",
     "output_type": "stream",
     "text": [
      "Calling ChatGPT...\n"
     ]
    },
    {
     "name": "stderr",
     "output_type": "stream",
     "text": [
      " 51%|█████     | 1107/2190 [51:54<22:01,  1.22s/it]"
     ]
    },
    {
     "name": "stdout",
     "output_type": "stream",
     "text": [
      "Author returned by ChatGPT: 李达\n",
      "Calling ChatGPT...\n"
     ]
    },
    {
     "name": "stderr",
     "output_type": "stream",
     "text": [
      " 51%|█████     | 1108/2190 [51:56<23:46,  1.32s/it]"
     ]
    },
    {
     "name": "stdout",
     "output_type": "stream",
     "text": [
      "Author returned by ChatGPT: 宗言\n",
      "Calling ChatGPT...\n"
     ]
    },
    {
     "name": "stderr",
     "output_type": "stream",
     "text": [
      " 51%|█████     | 1109/2190 [51:57<25:29,  1.42s/it]"
     ]
    },
    {
     "name": "stdout",
     "output_type": "stream",
     "text": [
      "Author returned by ChatGPT: 高天鼎\n"
     ]
    },
    {
     "name": "stderr",
     "output_type": "stream",
     "text": [
      " 51%|█████     | 1113/2190 [52:06<50:25,  2.81s/it]\n"
     ]
    },
    {
     "ename": "AttributeError",
     "evalue": "'NoneType' object has no attribute 'text'",
     "output_type": "error",
     "traceback": [
      "\u001b[0;31m---------------------------------------------------------------------------\u001b[0m",
      "\u001b[0;31mAttributeError\u001b[0m                            Traceback (most recent call last)",
      "Cell \u001b[0;32mIn[8], line 3\u001b[0m\n\u001b[1;32m      1\u001b[0m \u001b[38;5;28;01mfor\u001b[39;00m link \u001b[38;5;129;01min\u001b[39;00m tqdm(links_df[\u001b[38;5;124m\"\u001b[39m\u001b[38;5;124mlink\u001b[39m\u001b[38;5;124m\"\u001b[39m]):\n\u001b[1;32m      2\u001b[0m     article_parser \u001b[38;5;241m=\u001b[39m QiuShiArticleParser(link)\n\u001b[0;32m----> 3\u001b[0m     article \u001b[38;5;241m=\u001b[39m \u001b[43mQiuShiArticle\u001b[49m\u001b[43m(\u001b[49m\u001b[43marticle_parser\u001b[49m\u001b[43m)\u001b[49m\n\u001b[1;32m      5\u001b[0m     sample_articles_df\u001b[38;5;241m.\u001b[39mloc[\u001b[38;5;28mlen\u001b[39m(sample_articles_df)] \u001b[38;5;241m=\u001b[39m [article\u001b[38;5;241m.\u001b[39mauthors, article\u001b[38;5;241m.\u001b[39mtitle, article\u001b[38;5;241m.\u001b[39mdate, article\u001b[38;5;241m.\u001b[39myear, article\u001b[38;5;241m.\u001b[39medition, article\u001b[38;5;241m.\u001b[39murl, article\u001b[38;5;241m.\u001b[39mtext]\n",
      "Cell \u001b[0;32mIn[3], line 123\u001b[0m, in \u001b[0;36mQiuShiArticle.__init__\u001b[0;34m(self, article_parser)\u001b[0m\n\u001b[1;32m    121\u001b[0m \u001b[38;5;28;01mdef\u001b[39;00m \u001b[38;5;21m__init__\u001b[39m(\u001b[38;5;28mself\u001b[39m, article_parser):\n\u001b[1;32m    122\u001b[0m     \u001b[38;5;28mself\u001b[39m\u001b[38;5;241m.\u001b[39mauthors \u001b[38;5;241m=\u001b[39m article_parser\u001b[38;5;241m.\u001b[39mget_authors()\n\u001b[0;32m--> 123\u001b[0m     \u001b[38;5;28mself\u001b[39m\u001b[38;5;241m.\u001b[39mtitle \u001b[38;5;241m=\u001b[39m \u001b[43marticle_parser\u001b[49m\u001b[38;5;241;43m.\u001b[39;49m\u001b[43mget_title\u001b[49m\u001b[43m(\u001b[49m\u001b[43m)\u001b[49m\n\u001b[1;32m    124\u001b[0m     \u001b[38;5;28mself\u001b[39m\u001b[38;5;241m.\u001b[39mdate \u001b[38;5;241m=\u001b[39m article_parser\u001b[38;5;241m.\u001b[39mget_date()\n\u001b[1;32m    125\u001b[0m     \u001b[38;5;28mself\u001b[39m\u001b[38;5;241m.\u001b[39myear, \u001b[38;5;28mself\u001b[39m\u001b[38;5;241m.\u001b[39medition \u001b[38;5;241m=\u001b[39m article_parser\u001b[38;5;241m.\u001b[39mget_year_edition()\n",
      "Cell \u001b[0;32mIn[3], line 85\u001b[0m, in \u001b[0;36mQiuShiArticleParser.get_title\u001b[0;34m(self)\u001b[0m\n\u001b[1;32m     83\u001b[0m \u001b[38;5;28;01mif\u001b[39;00m \u001b[38;5;28mself\u001b[39m\u001b[38;5;241m.\u001b[39msoup \u001b[38;5;241m==\u001b[39m \u001b[38;5;28;01mNone\u001b[39;00m:\n\u001b[1;32m     84\u001b[0m     \u001b[38;5;28;01mreturn\u001b[39;00m \u001b[38;5;28;01mNone\u001b[39;00m\n\u001b[0;32m---> 85\u001b[0m \u001b[38;5;28;01mreturn\u001b[39;00m \u001b[38;5;28;43mself\u001b[39;49m\u001b[38;5;241;43m.\u001b[39;49m\u001b[43msoup\u001b[49m\u001b[38;5;241;43m.\u001b[39;49m\u001b[43mfind\u001b[49m\u001b[43m(\u001b[49m\u001b[38;5;124;43m'\u001b[39;49m\u001b[38;5;124;43mh1\u001b[39;49m\u001b[38;5;124;43m'\u001b[39;49m\u001b[43m)\u001b[49m\u001b[38;5;241;43m.\u001b[39;49m\u001b[43mtext\u001b[49m\u001b[38;5;241m.\u001b[39mstrip()\n",
      "\u001b[0;31mAttributeError\u001b[0m: 'NoneType' object has no attribute 'text'"
     ]
    }
   ],
   "source": [
    "for link in tqdm(links_df[\"link\"]):\n",
    "    article_parser = QiuShiArticleParser(link)\n",
    "    article = QiuShiArticle(article_parser)\n",
    "\n",
    "    sample_articles_df.loc[len(sample_articles_df)] = [article.authors, article.title, article.date, article.year, article.edition, article.url, article.text]\n"
   ]
  },
  {
   "cell_type": "code",
   "execution_count": 9,
   "metadata": {},
   "outputs": [
    {
     "data": {
      "text/plain": [
       "1113"
      ]
     },
     "execution_count": 9,
     "metadata": {},
     "output_type": "execute_result"
    }
   ],
   "source": [
    "len(sample_articles_df)"
   ]
  },
  {
   "cell_type": "code",
   "execution_count": 10,
   "metadata": {},
   "outputs": [
    {
     "data": {
      "text/html": [
       "<div>\n",
       "<style scoped>\n",
       "    .dataframe tbody tr th:only-of-type {\n",
       "        vertical-align: middle;\n",
       "    }\n",
       "\n",
       "    .dataframe tbody tr th {\n",
       "        vertical-align: top;\n",
       "    }\n",
       "\n",
       "    .dataframe thead th {\n",
       "        text-align: right;\n",
       "    }\n",
       "</style>\n",
       "<table border=\"1\" class=\"dataframe\">\n",
       "  <thead>\n",
       "    <tr style=\"text-align: right;\">\n",
       "      <th></th>\n",
       "      <th>authors</th>\n",
       "      <th>title</th>\n",
       "      <th>date</th>\n",
       "      <th>year</th>\n",
       "      <th>edition</th>\n",
       "      <th>url</th>\n",
       "      <th>text</th>\n",
       "    </tr>\n",
       "  </thead>\n",
       "  <tbody>\n",
       "    <tr>\n",
       "      <th>0</th>\n",
       "      <td>None</td>\n",
       "      <td>本期导读</td>\n",
       "      <td>2024-01-01</td>\n",
       "      <td>2024</td>\n",
       "      <td>01</td>\n",
       "      <td>http://www.qstheory.cn/dukan/qs/2024-01/01/c_1...</td>\n",
       "      <td>本期发表了习近平总书记的重要文章《以美丽中国建设全面推进人与自然和谐共生的现代化》。文章强调...</td>\n",
       "    </tr>\n",
       "    <tr>\n",
       "      <th>1</th>\n",
       "      <td>[习近平]</td>\n",
       "      <td>以美丽中国建设全面推进人与自然和谐共生的现代化</td>\n",
       "      <td>2023-12-31</td>\n",
       "      <td>2024</td>\n",
       "      <td>01</td>\n",
       "      <td>http://www.qstheory.cn/dukan/qs/2023-12/31/c_1...</td>\n",
       "      <td>以美丽中国建设全面推进人与自然和谐共生的现代化※习近平今后5年是美丽中国建设的重要时期，要深...</td>\n",
       "    </tr>\n",
       "    <tr>\n",
       "      <th>2</th>\n",
       "      <td>[《求是》杂志编辑部]</td>\n",
       "      <td>全面推进美丽中国建设的系统部署</td>\n",
       "      <td>2023-12-31</td>\n",
       "      <td>2024</td>\n",
       "      <td>01</td>\n",
       "      <td>http://www.qstheory.cn/dukan/qs/2023-12/31/c_1...</td>\n",
       "      <td>全面推进美丽中国建设的系统部署《求是》杂志编辑部“今后5年是美丽中国建设的重要时期，要深入贯...</td>\n",
       "    </tr>\n",
       "    <tr>\n",
       "      <th>3</th>\n",
       "      <td>[中共政协全国委员会机关党组]</td>\n",
       "      <td>为美丽中国建设贡献政协智慧和力量</td>\n",
       "      <td>2024-01-01</td>\n",
       "      <td>2024</td>\n",
       "      <td>01</td>\n",
       "      <td>http://www.qstheory.cn/dukan/qs/2024-01/01/c_1...</td>\n",
       "      <td>为美丽中国建设贡献政协智慧和力量中共政协全国委员会机关党组党的二十大对推动绿色发展、促进人与...</td>\n",
       "    </tr>\n",
       "    <tr>\n",
       "      <th>4</th>\n",
       "      <td>[自然资源部]</td>\n",
       "      <td>抓好海洋资源开发保护 为建设美丽中国提供蓝色动力</td>\n",
       "      <td>2024-01-01</td>\n",
       "      <td>2024</td>\n",
       "      <td>01</td>\n",
       "      <td>http://www.qstheory.cn/dukan/qs/2024-01/01/c_1...</td>\n",
       "      <td>抓好海洋资源开发保护 为建设美丽中国提供蓝色动力自然资源部海洋是支撑未来发展的资源宝库和战略...</td>\n",
       "    </tr>\n",
       "  </tbody>\n",
       "</table>\n",
       "</div>"
      ],
      "text/plain": [
       "           authors                     title        date  year edition  \\\n",
       "0             None                      本期导读  2024-01-01  2024      01   \n",
       "1            [习近平]   以美丽中国建设全面推进人与自然和谐共生的现代化  2023-12-31  2024      01   \n",
       "2      [《求是》杂志编辑部]           全面推进美丽中国建设的系统部署  2023-12-31  2024      01   \n",
       "3  [中共政协全国委员会机关党组]          为美丽中国建设贡献政协智慧和力量  2024-01-01  2024      01   \n",
       "4          [自然资源部]  抓好海洋资源开发保护 为建设美丽中国提供蓝色动力  2024-01-01  2024      01   \n",
       "\n",
       "                                                 url  \\\n",
       "0  http://www.qstheory.cn/dukan/qs/2024-01/01/c_1...   \n",
       "1  http://www.qstheory.cn/dukan/qs/2023-12/31/c_1...   \n",
       "2  http://www.qstheory.cn/dukan/qs/2023-12/31/c_1...   \n",
       "3  http://www.qstheory.cn/dukan/qs/2024-01/01/c_1...   \n",
       "4  http://www.qstheory.cn/dukan/qs/2024-01/01/c_1...   \n",
       "\n",
       "                                                text  \n",
       "0  本期发表了习近平总书记的重要文章《以美丽中国建设全面推进人与自然和谐共生的现代化》。文章强调...  \n",
       "1  以美丽中国建设全面推进人与自然和谐共生的现代化※习近平今后5年是美丽中国建设的重要时期，要深...  \n",
       "2  全面推进美丽中国建设的系统部署《求是》杂志编辑部“今后5年是美丽中国建设的重要时期，要深入贯...  \n",
       "3  为美丽中国建设贡献政协智慧和力量中共政协全国委员会机关党组党的二十大对推动绿色发展、促进人与...  \n",
       "4  抓好海洋资源开发保护 为建设美丽中国提供蓝色动力自然资源部海洋是支撑未来发展的资源宝库和战略...  "
      ]
     },
     "execution_count": 10,
     "metadata": {},
     "output_type": "execute_result"
    }
   ],
   "source": [
    "sample_articles_df.head()"
   ]
  },
  {
   "cell_type": "code",
   "execution_count": 11,
   "metadata": {},
   "outputs": [],
   "source": [
    "sample_articles_df.to_csv(\"articles.csv\", index=False)"
   ]
  },
  {
   "cell_type": "markdown",
   "metadata": {},
   "source": [
    "## Try picking up from where it left off"
   ]
  },
  {
   "cell_type": "code",
   "execution_count": 24,
   "metadata": {},
   "outputs": [],
   "source": [
    "articles_df = pd.read_csv(\"articles.csv\")"
   ]
  },
  {
   "cell_type": "code",
   "execution_count": 25,
   "metadata": {},
   "outputs": [
    {
     "data": {
      "text/plain": [
       "1113"
      ]
     },
     "execution_count": 25,
     "metadata": {},
     "output_type": "execute_result"
    }
   ],
   "source": [
    "len(articles_df)"
   ]
  },
  {
   "cell_type": "code",
   "execution_count": 21,
   "metadata": {},
   "outputs": [],
   "source": [
    "links_df = links_df.iloc[1114:, :]"
   ]
  },
  {
   "cell_type": "markdown",
   "metadata": {},
   "source": []
  },
  {
   "cell_type": "code",
   "execution_count": 26,
   "metadata": {},
   "outputs": [
    {
     "data": {
      "text/plain": [
       "1076"
      ]
     },
     "execution_count": 26,
     "metadata": {},
     "output_type": "execute_result"
    }
   ],
   "source": [
    "len(links_df)"
   ]
  },
  {
   "cell_type": "code",
   "execution_count": 27,
   "metadata": {},
   "outputs": [
    {
     "name": "stderr",
     "output_type": "stream",
     "text": [
      "  1%|          | 6/1076 [00:07<20:49,  1.17s/it]"
     ]
    },
    {
     "name": "stdout",
     "output_type": "stream",
     "text": [
      "Calling ChatGPT...\n"
     ]
    },
    {
     "name": "stderr",
     "output_type": "stream",
     "text": [
      "  1%|          | 7/1076 [00:09<23:48,  1.34s/it]"
     ]
    },
    {
     "name": "stdout",
     "output_type": "stream",
     "text": [
      "Author returned by ChatGPT: 国务院港澳事务办公室\n"
     ]
    },
    {
     "name": "stderr",
     "output_type": "stream",
     "text": [
      "  8%|▊         | 85/1076 [01:49<18:36,  1.13s/it]"
     ]
    },
    {
     "name": "stdout",
     "output_type": "stream",
     "text": [
      "Calling ChatGPT...\n"
     ]
    },
    {
     "name": "stderr",
     "output_type": "stream",
     "text": [
      "  8%|▊         | 86/1076 [01:50<20:30,  1.24s/it]"
     ]
    },
    {
     "name": "stdout",
     "output_type": "stream",
     "text": [
      "Author returned by ChatGPT: 无需答复.\n"
     ]
    },
    {
     "name": "stderr",
     "output_type": "stream",
     "text": [
      "  8%|▊         | 88/1076 [01:52<18:50,  1.14s/it]"
     ]
    },
    {
     "name": "stdout",
     "output_type": "stream",
     "text": [
      "Calling ChatGPT...\n"
     ]
    },
    {
     "name": "stderr",
     "output_type": "stream",
     "text": [
      "  8%|▊         | 89/1076 [01:54<20:29,  1.25s/it]"
     ]
    },
    {
     "name": "stdout",
     "output_type": "stream",
     "text": [
      "Author returned by ChatGPT: 罗平汉 宋庆伟\n"
     ]
    },
    {
     "name": "stderr",
     "output_type": "stream",
     "text": [
      " 11%|█         | 119/1076 [02:30<19:07,  1.20s/it]"
     ]
    },
    {
     "name": "stdout",
     "output_type": "stream",
     "text": [
      "Calling ChatGPT...\n"
     ]
    },
    {
     "name": "stderr",
     "output_type": "stream",
     "text": [
      " 11%|█         | 120/1076 [02:32<20:55,  1.31s/it]"
     ]
    },
    {
     "name": "stdout",
     "output_type": "stream",
     "text": [
      "Author returned by ChatGPT: 沈壮海 王芸婷\n"
     ]
    },
    {
     "name": "stderr",
     "output_type": "stream",
     "text": [
      " 13%|█▎        | 138/1076 [02:51<16:57,  1.08s/it]"
     ]
    },
    {
     "name": "stdout",
     "output_type": "stream",
     "text": [
      "Calling ChatGPT...\n"
     ]
    },
    {
     "name": "stderr",
     "output_type": "stream",
     "text": [
      " 13%|█▎        | 139/1076 [02:52<18:44,  1.20s/it]"
     ]
    },
    {
     "name": "stdout",
     "output_type": "stream",
     "text": [
      "Author returned by ChatGPT: 梁佩韵 顾海凇 付松\n"
     ]
    },
    {
     "name": "stderr",
     "output_type": "stream",
     "text": [
      " 16%|█▌        | 167/1076 [03:23<16:53,  1.11s/it]"
     ]
    },
    {
     "name": "stdout",
     "output_type": "stream",
     "text": [
      "Calling ChatGPT...\n"
     ]
    },
    {
     "name": "stderr",
     "output_type": "stream",
     "text": [
      " 16%|█▌        | 168/1076 [03:25<21:03,  1.39s/it]"
     ]
    },
    {
     "name": "stdout",
     "output_type": "stream",
     "text": [
      "Author returned by ChatGPT: 黄曦 李育蒙\n"
     ]
    },
    {
     "name": "stderr",
     "output_type": "stream",
     "text": [
      " 20%|█▉        | 214/1076 [04:18<13:40,  1.05it/s]"
     ]
    },
    {
     "name": "stdout",
     "output_type": "stream",
     "text": [
      "Calling ChatGPT...\n"
     ]
    },
    {
     "name": "stderr",
     "output_type": "stream",
     "text": [
      " 20%|█▉        | 215/1076 [04:19<15:36,  1.09s/it]"
     ]
    },
    {
     "name": "stdout",
     "output_type": "stream",
     "text": [
      "Author returned by ChatGPT: 孙金龙 黄润秋\n"
     ]
    },
    {
     "name": "stderr",
     "output_type": "stream",
     "text": [
      " 24%|██▍       | 256/1076 [05:09<16:36,  1.22s/it]"
     ]
    },
    {
     "name": "stdout",
     "output_type": "stream",
     "text": [
      "Calling ChatGPT...\n"
     ]
    },
    {
     "name": "stderr",
     "output_type": "stream",
     "text": [
      " 24%|██▍       | 257/1076 [05:11<19:30,  1.43s/it]"
     ]
    },
    {
     "name": "stdout",
     "output_type": "stream",
     "text": [
      "Author returned by ChatGPT: 陈旭 邱勇\n"
     ]
    },
    {
     "name": "stderr",
     "output_type": "stream",
     "text": [
      " 25%|██▌       | 273/1076 [05:28<14:02,  1.05s/it]"
     ]
    },
    {
     "name": "stdout",
     "output_type": "stream",
     "text": [
      "Calling ChatGPT...\n"
     ]
    },
    {
     "name": "stderr",
     "output_type": "stream",
     "text": [
      " 25%|██▌       | 274/1076 [05:31<20:12,  1.51s/it]"
     ]
    },
    {
     "name": "stdout",
     "output_type": "stream",
     "text": [
      "Author returned by ChatGPT: 中共湖北省委 湖北省人民政府 中央军委训练管理部\n"
     ]
    },
    {
     "name": "stderr",
     "output_type": "stream",
     "text": [
      " 30%|██▉       | 318/1076 [06:16<13:17,  1.05s/it]"
     ]
    },
    {
     "name": "stdout",
     "output_type": "stream",
     "text": [
      "Calling ChatGPT...\n"
     ]
    },
    {
     "name": "stderr",
     "output_type": "stream",
     "text": [
      " 30%|██▉       | 319/1076 [06:18<15:42,  1.24s/it]"
     ]
    },
    {
     "name": "stdout",
     "output_type": "stream",
     "text": [
      "Author returned by ChatGPT: 李学勇 李宣良 樊永强\n"
     ]
    },
    {
     "name": "stderr",
     "output_type": "stream",
     "text": [
      " 32%|███▏      | 348/1076 [06:52<15:14,  1.26s/it]"
     ]
    },
    {
     "name": "stdout",
     "output_type": "stream",
     "text": [
      "Calling ChatGPT...\n"
     ]
    },
    {
     "name": "stderr",
     "output_type": "stream",
     "text": [
      " 32%|███▏      | 349/1076 [06:54<17:50,  1.47s/it]"
     ]
    },
    {
     "name": "stdout",
     "output_type": "stream",
     "text": [
      "Author returned by ChatGPT: 陈芳 董瑞丰 陈聪 田晓航\n"
     ]
    },
    {
     "name": "stderr",
     "output_type": "stream",
     "text": [
      " 33%|███▎      | 357/1076 [07:03<14:06,  1.18s/it]"
     ]
    },
    {
     "name": "stdout",
     "output_type": "stream",
     "text": [
      "Calling ChatGPT...\n"
     ]
    },
    {
     "name": "stderr",
     "output_type": "stream",
     "text": [
      " 33%|███▎      | 358/1076 [07:05<15:29,  1.29s/it]"
     ]
    },
    {
     "name": "stdout",
     "output_type": "stream",
     "text": [
      "Author returned by ChatGPT: 张士涛 江勇\n"
     ]
    },
    {
     "name": "stderr",
     "output_type": "stream",
     "text": [
      " 34%|███▎      | 362/1076 [07:09<13:29,  1.13s/it]"
     ]
    },
    {
     "name": "stdout",
     "output_type": "stream",
     "text": [
      "Calling ChatGPT...\n"
     ]
    },
    {
     "name": "stderr",
     "output_type": "stream",
     "text": [
      " 34%|███▎      | 363/1076 [07:10<14:56,  1.26s/it]"
     ]
    },
    {
     "name": "stdout",
     "output_type": "stream",
     "text": [
      "Author returned by ChatGPT: 国家卫生健康委员会宣传司 健康报社\n"
     ]
    },
    {
     "name": "stderr",
     "output_type": "stream",
     "text": [
      " 34%|███▍      | 365/1076 [07:13<13:56,  1.18s/it]"
     ]
    },
    {
     "name": "stdout",
     "output_type": "stream",
     "text": [
      "Calling ChatGPT...\n"
     ]
    },
    {
     "name": "stderr",
     "output_type": "stream",
     "text": [
      " 34%|███▍      | 366/1076 [07:14<14:28,  1.22s/it]"
     ]
    },
    {
     "name": "stdout",
     "output_type": "stream",
     "text": [
      "Author returned by ChatGPT: 姚瑜坪\n"
     ]
    },
    {
     "name": "stderr",
     "output_type": "stream",
     "text": [
      " 35%|███▍      | 374/1076 [07:22<13:27,  1.15s/it]"
     ]
    },
    {
     "name": "stdout",
     "output_type": "stream",
     "text": [
      "Calling ChatGPT...\n"
     ]
    },
    {
     "name": "stderr",
     "output_type": "stream",
     "text": [
      " 35%|███▍      | 375/1076 [07:24<15:42,  1.34s/it]"
     ]
    },
    {
     "name": "stdout",
     "output_type": "stream",
     "text": [
      "Author returned by ChatGPT: 周芳 周志兵 彭小萍 黄璐\n",
      "Calling ChatGPT...\n"
     ]
    },
    {
     "name": "stderr",
     "output_type": "stream",
     "text": [
      " 35%|███▍      | 376/1076 [07:26<17:24,  1.49s/it]"
     ]
    },
    {
     "name": "stdout",
     "output_type": "stream",
     "text": [
      "Author returned by ChatGPT: 王子铭 孙少龙 黄玥\n"
     ]
    },
    {
     "name": "stderr",
     "output_type": "stream",
     "text": [
      " 35%|███▌      | 379/1076 [07:29<13:37,  1.17s/it]"
     ]
    },
    {
     "name": "stdout",
     "output_type": "stream",
     "text": [
      "Calling ChatGPT...\n"
     ]
    },
    {
     "name": "stderr",
     "output_type": "stream",
     "text": [
      " 35%|███▌      | 380/1076 [07:30<14:21,  1.24s/it]"
     ]
    },
    {
     "name": "stdout",
     "output_type": "stream",
     "text": [
      "Author returned by ChatGPT: 李利 焦红\n"
     ]
    },
    {
     "name": "stderr",
     "output_type": "stream",
     "text": [
      " 39%|███▉      | 418/1076 [08:08<10:53,  1.01it/s]"
     ]
    },
    {
     "name": "stdout",
     "output_type": "stream",
     "text": [
      "Calling ChatGPT...\n"
     ]
    },
    {
     "name": "stderr",
     "output_type": "stream",
     "text": [
      " 39%|███▉      | 419/1076 [08:10<12:52,  1.18s/it]"
     ]
    },
    {
     "name": "stdout",
     "output_type": "stream",
     "text": [
      "Author returned by ChatGPT: 林晖 高蕾 黄玥\n"
     ]
    },
    {
     "name": "stderr",
     "output_type": "stream",
     "text": [
      " 42%|████▏     | 456/1076 [08:52<12:31,  1.21s/it]"
     ]
    },
    {
     "name": "stdout",
     "output_type": "stream",
     "text": [
      "Calling ChatGPT...\n"
     ]
    },
    {
     "name": "stderr",
     "output_type": "stream",
     "text": [
      " 42%|████▏     | 457/1076 [08:54<14:36,  1.42s/it]"
     ]
    },
    {
     "name": "stdout",
     "output_type": "stream",
     "text": [
      "Author returned by ChatGPT: 郝薇薇 郑汉根 商婧 陈杉\n"
     ]
    },
    {
     "name": "stderr",
     "output_type": "stream",
     "text": [
      " 44%|████▍     | 472/1076 [09:11<11:21,  1.13s/it]"
     ]
    },
    {
     "name": "stdout",
     "output_type": "stream",
     "text": [
      "Calling ChatGPT...\n"
     ]
    },
    {
     "name": "stderr",
     "output_type": "stream",
     "text": [
      " 44%|████▍     | 473/1076 [09:13<14:13,  1.41s/it]"
     ]
    },
    {
     "name": "stdout",
     "output_type": "stream",
     "text": [
      "Author returned by ChatGPT: 盛玮 徐辉冠 郭煦\n",
      "Calling ChatGPT...\n"
     ]
    },
    {
     "name": "stderr",
     "output_type": "stream",
     "text": [
      " 44%|████▍     | 474/1076 [09:14<14:52,  1.48s/it]"
     ]
    },
    {
     "name": "stdout",
     "output_type": "stream",
     "text": [
      "Author returned by ChatGPT: 闫玉清 赵雁\n",
      "Calling ChatGPT...\n"
     ]
    },
    {
     "name": "stderr",
     "output_type": "stream",
     "text": [
      " 44%|████▍     | 475/1076 [09:16<15:57,  1.59s/it]"
     ]
    },
    {
     "name": "stdout",
     "output_type": "stream",
     "text": [
      "Author returned by ChatGPT: 张少义 靳晶\n"
     ]
    },
    {
     "name": "stderr",
     "output_type": "stream",
     "text": [
      " 46%|████▌     | 491/1076 [09:37<11:57,  1.23s/it]"
     ]
    },
    {
     "name": "stdout",
     "output_type": "stream",
     "text": [
      "Calling ChatGPT...\n"
     ]
    },
    {
     "name": "stderr",
     "output_type": "stream",
     "text": [
      " 46%|████▌     | 492/1076 [09:38<13:35,  1.40s/it]"
     ]
    },
    {
     "name": "stdout",
     "output_type": "stream",
     "text": [
      "Author returned by ChatGPT: 黎海华 王光煦\n",
      "Calling ChatGPT...\n"
     ]
    },
    {
     "name": "stderr",
     "output_type": "stream",
     "text": [
      " 46%|████▌     | 493/1076 [09:41<15:47,  1.62s/it]"
     ]
    },
    {
     "name": "stdout",
     "output_type": "stream",
     "text": [
      "Author returned by ChatGPT: 蔡春玲 鄂璠 王文婷\n",
      "Calling ChatGPT...\n"
     ]
    },
    {
     "name": "stderr",
     "output_type": "stream",
     "text": [
      " 46%|████▌     | 494/1076 [09:42<15:28,  1.60s/it]"
     ]
    },
    {
     "name": "stdout",
     "output_type": "stream",
     "text": [
      "Author returned by ChatGPT: 王兆斌 张芯蕊\n"
     ]
    },
    {
     "name": "stderr",
     "output_type": "stream",
     "text": [
      " 48%|████▊     | 514/1076 [10:08<12:30,  1.33s/it]"
     ]
    },
    {
     "name": "stdout",
     "output_type": "stream",
     "text": [
      "Calling ChatGPT...\n"
     ]
    },
    {
     "name": "stderr",
     "output_type": "stream",
     "text": [
      " 48%|████▊     | 515/1076 [10:11<15:28,  1.66s/it]"
     ]
    },
    {
     "name": "stdout",
     "output_type": "stream",
     "text": [
      "Author returned by ChatGPT: 王寅 韩辰\n",
      "Calling ChatGPT...\n"
     ]
    },
    {
     "name": "stderr",
     "output_type": "stream",
     "text": [
      " 48%|████▊     | 516/1076 [10:13<16:48,  1.80s/it]"
     ]
    },
    {
     "name": "stdout",
     "output_type": "stream",
     "text": [
      "Author returned by ChatGPT: 包俊洪 郭玲\n",
      "Calling ChatGPT...\n"
     ]
    },
    {
     "name": "stderr",
     "output_type": "stream",
     "text": [
      " 48%|████▊     | 517/1076 [10:15<17:43,  1.90s/it]"
     ]
    },
    {
     "name": "stdout",
     "output_type": "stream",
     "text": [
      "Author returned by ChatGPT: 刘名美 李露倩\n"
     ]
    },
    {
     "name": "stderr",
     "output_type": "stream",
     "text": [
      " 49%|████▉     | 530/1076 [10:32<11:50,  1.30s/it]"
     ]
    },
    {
     "name": "stdout",
     "output_type": "stream",
     "text": [
      "Calling ChatGPT...\n"
     ]
    },
    {
     "name": "stderr",
     "output_type": "stream",
     "text": [
      " 49%|████▉     | 531/1076 [10:34<15:51,  1.75s/it]"
     ]
    },
    {
     "name": "stdout",
     "output_type": "stream",
     "text": [
      "Author returned by ChatGPT: 余艳红 于文明\n"
     ]
    },
    {
     "name": "stderr",
     "output_type": "stream",
     "text": [
      " 49%|████▉     | 532/1076 [10:36<15:14,  1.68s/it]"
     ]
    },
    {
     "name": "stdout",
     "output_type": "stream",
     "text": [
      "Calling ChatGPT...\n"
     ]
    },
    {
     "name": "stderr",
     "output_type": "stream",
     "text": [
      " 50%|████▉     | 533/1076 [10:38<15:10,  1.68s/it]"
     ]
    },
    {
     "name": "stdout",
     "output_type": "stream",
     "text": [
      "Author returned by ChatGPT: 梁佩韵 周彪\n",
      "Calling ChatGPT...\n"
     ]
    },
    {
     "name": "stderr",
     "output_type": "stream",
     "text": [
      " 50%|████▉     | 534/1076 [10:39<15:31,  1.72s/it]"
     ]
    },
    {
     "name": "stdout",
     "output_type": "stream",
     "text": [
      "Author returned by ChatGPT: 那非丁\n",
      "Calling ChatGPT...\n"
     ]
    },
    {
     "name": "stderr",
     "output_type": "stream",
     "text": [
      " 50%|████▉     | 535/1076 [10:41<14:46,  1.64s/it]"
     ]
    },
    {
     "name": "stdout",
     "output_type": "stream",
     "text": [
      "Author returned by ChatGPT: 许华卿\n",
      "Calling ChatGPT...\n"
     ]
    },
    {
     "name": "stderr",
     "output_type": "stream",
     "text": [
      " 50%|████▉     | 536/1076 [10:42<14:19,  1.59s/it]"
     ]
    },
    {
     "name": "stdout",
     "output_type": "stream",
     "text": [
      "Author returned by ChatGPT: 侯亚景\n",
      "Calling ChatGPT...\n"
     ]
    },
    {
     "name": "stderr",
     "output_type": "stream",
     "text": [
      " 50%|████▉     | 537/1076 [10:44<14:59,  1.67s/it]"
     ]
    },
    {
     "name": "stdout",
     "output_type": "stream",
     "text": [
      "Author returned by ChatGPT: 狄英娜 刘唯达\n"
     ]
    },
    {
     "name": "stderr",
     "output_type": "stream",
     "text": [
      " 51%|█████     | 549/1076 [11:03<13:22,  1.52s/it]"
     ]
    },
    {
     "name": "stdout",
     "output_type": "stream",
     "text": [
      "Calling ChatGPT...\n"
     ]
    },
    {
     "name": "stderr",
     "output_type": "stream",
     "text": [
      " 51%|█████     | 550/1076 [11:05<16:13,  1.85s/it]"
     ]
    },
    {
     "name": "stdout",
     "output_type": "stream",
     "text": [
      "Author returned by ChatGPT: 杨学军 方向\n"
     ]
    },
    {
     "name": "stderr",
     "output_type": "stream",
     "text": [
      " 51%|█████▏    | 552/1076 [11:08<14:04,  1.61s/it]"
     ]
    },
    {
     "name": "stdout",
     "output_type": "stream",
     "text": [
      "Calling ChatGPT...\n"
     ]
    },
    {
     "name": "stderr",
     "output_type": "stream",
     "text": [
      " 51%|█████▏    | 553/1076 [11:10<14:27,  1.66s/it]"
     ]
    },
    {
     "name": "stdout",
     "output_type": "stream",
     "text": [
      "Author returned by ChatGPT: 周昭成 柴潇凡\n",
      "Calling ChatGPT...\n"
     ]
    },
    {
     "name": "stderr",
     "output_type": "stream",
     "text": [
      " 51%|█████▏    | 554/1076 [11:12<16:24,  1.89s/it]"
     ]
    },
    {
     "name": "stdout",
     "output_type": "stream",
     "text": [
      "Author returned by ChatGPT: 旷思思 王慧\n",
      "Calling ChatGPT...\n"
     ]
    },
    {
     "name": "stderr",
     "output_type": "stream",
     "text": [
      " 52%|█████▏    | 555/1076 [11:14<16:06,  1.86s/it]"
     ]
    },
    {
     "name": "stdout",
     "output_type": "stream",
     "text": [
      "Author returned by ChatGPT: 李飞 曾嘉雯\n",
      "Calling ChatGPT...\n"
     ]
    },
    {
     "name": "stderr",
     "output_type": "stream",
     "text": [
      " 52%|█████▏    | 556/1076 [11:17<17:43,  2.05s/it]"
     ]
    },
    {
     "name": "stdout",
     "output_type": "stream",
     "text": [
      "Author returned by ChatGPT: 陈金霞 唐淑楠\n",
      "Calling ChatGPT...\n"
     ]
    },
    {
     "name": "stderr",
     "output_type": "stream",
     "text": [
      " 52%|█████▏    | 557/1076 [11:19<17:06,  1.98s/it]"
     ]
    },
    {
     "name": "stdout",
     "output_type": "stream",
     "text": [
      "Author returned by ChatGPT: 周璐铭 李丹华\n"
     ]
    },
    {
     "name": "stderr",
     "output_type": "stream",
     "text": [
      " 53%|█████▎    | 570/1076 [11:35<11:10,  1.33s/it]"
     ]
    },
    {
     "name": "stdout",
     "output_type": "stream",
     "text": [
      "Calling ChatGPT...\n"
     ]
    },
    {
     "name": "stderr",
     "output_type": "stream",
     "text": [
      " 53%|█████▎    | 571/1076 [11:39<16:08,  1.92s/it]"
     ]
    },
    {
     "name": "stdout",
     "output_type": "stream",
     "text": [
      "Author returned by ChatGPT: 申小提 张利英\n",
      "Calling ChatGPT...\n"
     ]
    },
    {
     "name": "stderr",
     "output_type": "stream",
     "text": [
      " 53%|█████▎    | 572/1076 [11:40<15:28,  1.84s/it]"
     ]
    },
    {
     "name": "stdout",
     "output_type": "stream",
     "text": [
      "Author returned by ChatGPT: 李孝纯 龚紫陌\n",
      "Calling ChatGPT...\n"
     ]
    },
    {
     "name": "stderr",
     "output_type": "stream",
     "text": [
      " 53%|█████▎    | 573/1076 [11:42<15:05,  1.80s/it]"
     ]
    },
    {
     "name": "stdout",
     "output_type": "stream",
     "text": [
      "Author returned by ChatGPT: 孙洋洋 周兵\n",
      "Calling ChatGPT...\n"
     ]
    },
    {
     "name": "stderr",
     "output_type": "stream",
     "text": [
      " 53%|█████▎    | 574/1076 [11:43<14:25,  1.72s/it]"
     ]
    },
    {
     "name": "stdout",
     "output_type": "stream",
     "text": [
      "Author returned by ChatGPT: 李民圣 韩辰\n",
      "Calling ChatGPT...\n"
     ]
    },
    {
     "name": "stderr",
     "output_type": "stream",
     "text": [
      " 53%|█████▎    | 575/1076 [11:45<14:27,  1.73s/it]"
     ]
    },
    {
     "name": "stdout",
     "output_type": "stream",
     "text": [
      "Author returned by ChatGPT: 刘名美 乔雪\n"
     ]
    },
    {
     "name": "stderr",
     "output_type": "stream",
     "text": [
      " 55%|█████▍    | 589/1076 [12:08<27:42,  3.41s/it]"
     ]
    },
    {
     "name": "stdout",
     "output_type": "stream",
     "text": [
      "Calling ChatGPT...\n"
     ]
    },
    {
     "name": "stderr",
     "output_type": "stream",
     "text": [
      " 55%|█████▍    | 590/1076 [12:17<39:21,  4.86s/it]"
     ]
    },
    {
     "name": "stdout",
     "output_type": "stream",
     "text": [
      "Author returned by ChatGPT: 梁佩韵 侯亚景\n",
      "Calling ChatGPT...\n"
     ]
    },
    {
     "name": "stderr",
     "output_type": "stream",
     "text": [
      " 55%|█████▍    | 591/1076 [12:20<35:13,  4.36s/it]"
     ]
    },
    {
     "name": "stdout",
     "output_type": "stream",
     "text": [
      "Author returned by ChatGPT: 刘健 李兴文 侯雪静 高皓亮 郭强\n"
     ]
    },
    {
     "name": "stderr",
     "output_type": "stream",
     "text": [
      " 55%|█████▌    | 592/1076 [12:22<30:32,  3.79s/it]"
     ]
    },
    {
     "name": "stdout",
     "output_type": "stream",
     "text": [
      "Calling ChatGPT...\n"
     ]
    },
    {
     "name": "stderr",
     "output_type": "stream",
     "text": [
      " 55%|█████▌    | 593/1076 [12:24<25:20,  3.15s/it]"
     ]
    },
    {
     "name": "stdout",
     "output_type": "stream",
     "text": [
      "Author returned by ChatGPT: 杨绍华 鄂璠\n",
      "Calling ChatGPT...\n"
     ]
    },
    {
     "name": "stderr",
     "output_type": "stream",
     "text": [
      " 55%|█████▌    | 594/1076 [12:26<23:19,  2.90s/it]"
     ]
    },
    {
     "name": "stdout",
     "output_type": "stream",
     "text": [
      "Author returned by ChatGPT: 王寅 刘建华\n",
      "Calling ChatGPT...\n"
     ]
    },
    {
     "name": "stderr",
     "output_type": "stream",
     "text": [
      " 55%|█████▌    | 595/1076 [12:29<23:28,  2.93s/it]"
     ]
    },
    {
     "name": "stdout",
     "output_type": "stream",
     "text": [
      "Author returned by ChatGPT: 易赛键 袁帅\n",
      "Calling ChatGPT...\n"
     ]
    },
    {
     "name": "stderr",
     "output_type": "stream",
     "text": [
      " 55%|█████▌    | 596/1076 [12:39<40:57,  5.12s/it]"
     ]
    },
    {
     "name": "stdout",
     "output_type": "stream",
     "text": [
      "Author returned by ChatGPT: 高天鼎 周彪\n",
      "Calling ChatGPT...\n"
     ]
    },
    {
     "name": "stderr",
     "output_type": "stream",
     "text": [
      " 55%|█████▌    | 597/1076 [12:41<31:48,  3.98s/it]"
     ]
    },
    {
     "name": "stdout",
     "output_type": "stream",
     "text": [
      "Author returned by ChatGPT: 郭斐然 刘玉冰\n",
      "Calling ChatGPT...\n"
     ]
    },
    {
     "name": "stderr",
     "output_type": "stream",
     "text": [
      " 56%|█████▌    | 598/1076 [12:43<26:16,  3.30s/it]"
     ]
    },
    {
     "name": "stdout",
     "output_type": "stream",
     "text": [
      "Author returned by ChatGPT: 李艳玲 高天鼎\n"
     ]
    },
    {
     "name": "stderr",
     "output_type": "stream",
     "text": [
      " 58%|█████▊    | 628/1076 [13:22<10:31,  1.41s/it]"
     ]
    },
    {
     "name": "stdout",
     "output_type": "stream",
     "text": [
      "Calling ChatGPT...\n"
     ]
    },
    {
     "name": "stderr",
     "output_type": "stream",
     "text": [
      " 58%|█████▊    | 629/1076 [13:26<16:11,  2.17s/it]"
     ]
    },
    {
     "name": "stdout",
     "output_type": "stream",
     "text": [
      "Author returned by ChatGPT: 李达 周昭成\n"
     ]
    },
    {
     "name": "stderr",
     "output_type": "stream",
     "text": [
      " 61%|██████▏   | 661/1076 [14:08<09:44,  1.41s/it]"
     ]
    },
    {
     "name": "stdout",
     "output_type": "stream",
     "text": [
      "Calling ChatGPT...\n"
     ]
    },
    {
     "name": "stderr",
     "output_type": "stream",
     "text": [
      " 62%|██████▏   | 662/1076 [14:10<11:25,  1.66s/it]"
     ]
    },
    {
     "name": "stdout",
     "output_type": "stream",
     "text": [
      "Author returned by ChatGPT: 陈芳 屈婷 陈聪 董瑞丰\n"
     ]
    },
    {
     "name": "stderr",
     "output_type": "stream",
     "text": [
      " 63%|██████▎   | 677/1076 [14:31<09:39,  1.45s/it]"
     ]
    },
    {
     "name": "stdout",
     "output_type": "stream",
     "text": [
      "Calling ChatGPT...\n"
     ]
    },
    {
     "name": "stderr",
     "output_type": "stream",
     "text": [
      " 63%|██████▎   | 678/1076 [14:35<13:55,  2.10s/it]"
     ]
    },
    {
     "name": "stdout",
     "output_type": "stream",
     "text": [
      "Author returned by ChatGPT: 闫玉清\n"
     ]
    },
    {
     "name": "stderr",
     "output_type": "stream",
     "text": [
      " 64%|██████▍   | 694/1076 [14:56<10:13,  1.60s/it]"
     ]
    },
    {
     "name": "stdout",
     "output_type": "stream",
     "text": [
      "Calling ChatGPT...\n"
     ]
    },
    {
     "name": "stderr",
     "output_type": "stream",
     "text": [
      " 65%|██████▍   | 695/1076 [14:59<12:14,  1.93s/it]"
     ]
    },
    {
     "name": "stdout",
     "output_type": "stream",
     "text": [
      "Author returned by ChatGPT: 刘雅鸣 陈聪 李亚楠 宋晓东\n"
     ]
    },
    {
     "name": "stderr",
     "output_type": "stream",
     "text": [
      " 66%|██████▌   | 706/1076 [15:15<08:28,  1.37s/it]"
     ]
    },
    {
     "name": "stdout",
     "output_type": "stream",
     "text": [
      "Calling ChatGPT...\n"
     ]
    },
    {
     "name": "stderr",
     "output_type": "stream",
     "text": [
      " 66%|██████▌   | 707/1076 [15:17<09:10,  1.49s/it]"
     ]
    },
    {
     "name": "stdout",
     "output_type": "stream",
     "text": [
      "Author returned by ChatGPT: 丁来杭 于忠福\n"
     ]
    },
    {
     "name": "stderr",
     "output_type": "stream",
     "text": [
      " 66%|██████▌   | 711/1076 [15:23<09:29,  1.56s/it]"
     ]
    },
    {
     "name": "stdout",
     "output_type": "stream",
     "text": [
      "Calling ChatGPT...\n"
     ]
    },
    {
     "name": "stderr",
     "output_type": "stream",
     "text": [
      " 66%|██████▌   | 712/1076 [15:25<10:40,  1.76s/it]"
     ]
    },
    {
     "name": "stdout",
     "output_type": "stream",
     "text": [
      "Author returned by ChatGPT: 李继明 毛盛勇\n"
     ]
    },
    {
     "name": "stderr",
     "output_type": "stream",
     "text": [
      " 71%|███████   | 765/1076 [16:37<06:08,  1.18s/it]"
     ]
    },
    {
     "name": "stdout",
     "output_type": "stream",
     "text": [
      "Calling ChatGPT...\n"
     ]
    },
    {
     "name": "stderr",
     "output_type": "stream",
     "text": [
      " 71%|███████   | 766/1076 [16:39<07:03,  1.37s/it]"
     ]
    },
    {
     "name": "stdout",
     "output_type": "stream",
     "text": [
      "Author returned by ChatGPT: 王兆斌\n"
     ]
    },
    {
     "name": "stderr",
     "output_type": "stream",
     "text": [
      " 74%|███████▎  | 792/1076 [17:13<05:34,  1.18s/it]"
     ]
    },
    {
     "name": "stdout",
     "output_type": "stream",
     "text": [
      "Calling ChatGPT...\n"
     ]
    },
    {
     "name": "stderr",
     "output_type": "stream",
     "text": [
      " 74%|███████▎  | 793/1076 [17:15<07:13,  1.53s/it]"
     ]
    },
    {
     "name": "stdout",
     "output_type": "stream",
     "text": [
      "Author returned by ChatGPT: 沈金龙 秦生祥\n"
     ]
    },
    {
     "name": "stderr",
     "output_type": "stream",
     "text": [
      " 74%|███████▍  | 796/1076 [17:19<05:36,  1.20s/it]"
     ]
    },
    {
     "name": "stdout",
     "output_type": "stream",
     "text": [
      "Article with URL: http://www.qstheory.cn/dukan/qs/2019-04/16/c_1124364204.htm failed to parse\n",
      "Calling ChatGPT...\n"
     ]
    },
    {
     "name": "stderr",
     "output_type": "stream",
     "text": [
      " 74%|███████▍  | 797/1076 [17:20<06:18,  1.36s/it]"
     ]
    },
    {
     "name": "stdout",
     "output_type": "stream",
     "text": [
      "Author returned by ChatGPT: 南开大学\n"
     ]
    },
    {
     "name": "stderr",
     "output_type": "stream",
     "text": [
      " 75%|███████▌  | 810/1076 [17:35<04:24,  1.01it/s]"
     ]
    },
    {
     "name": "stdout",
     "output_type": "stream",
     "text": [
      "Article with URL: http://www.qstheory.cn/dukan/qs/2019-05/01/c_1124440784.htm failed to parse\n"
     ]
    },
    {
     "name": "stderr",
     "output_type": "stream",
     "text": [
      " 76%|███████▌  | 815/1076 [17:43<06:06,  1.41s/it]"
     ]
    },
    {
     "name": "stdout",
     "output_type": "stream",
     "text": [
      "Calling ChatGPT...\n"
     ]
    },
    {
     "name": "stderr",
     "output_type": "stream",
     "text": [
      " 76%|███████▌  | 816/1076 [17:46<07:46,  1.80s/it]"
     ]
    },
    {
     "name": "stdout",
     "output_type": "stream",
     "text": [
      "Author returned by ChatGPT: 徐永辉 何苏鸣\n"
     ]
    },
    {
     "name": "stderr",
     "output_type": "stream",
     "text": [
      " 79%|███████▉  | 854/1076 [18:35<04:28,  1.21s/it]"
     ]
    },
    {
     "name": "stdout",
     "output_type": "stream",
     "text": [
      "Calling ChatGPT...\n"
     ]
    },
    {
     "name": "stderr",
     "output_type": "stream",
     "text": [
      " 79%|███████▉  | 855/1076 [18:37<05:19,  1.45s/it]"
     ]
    },
    {
     "name": "stdout",
     "output_type": "stream",
     "text": [
      "Author returned by ChatGPT: 那非丁\n"
     ]
    },
    {
     "name": "stderr",
     "output_type": "stream",
     "text": [
      " 81%|████████  | 874/1076 [19:03<04:41,  1.39s/it]"
     ]
    },
    {
     "name": "stdout",
     "output_type": "stream",
     "text": [
      "Calling ChatGPT...\n"
     ]
    },
    {
     "name": "stderr",
     "output_type": "stream",
     "text": [
      " 81%|████████▏ | 875/1076 [19:06<06:11,  1.85s/it]"
     ]
    },
    {
     "name": "stdout",
     "output_type": "stream",
     "text": [
      "Author returned by ChatGPT: 孙波 沈虹冰 梁娟 陈晨 张斌\n",
      "Calling ChatGPT...\n"
     ]
    },
    {
     "name": "stderr",
     "output_type": "stream",
     "text": [
      " 81%|████████▏ | 876/1076 [19:08<06:05,  1.83s/it]"
     ]
    },
    {
     "name": "stdout",
     "output_type": "stream",
     "text": [
      "Author returned by ChatGPT: 韩卫国 刘雷\n"
     ]
    },
    {
     "name": "stderr",
     "output_type": "stream",
     "text": [
      " 82%|████████▏ | 878/1076 [19:11<05:09,  1.56s/it]"
     ]
    },
    {
     "name": "stdout",
     "output_type": "stream",
     "text": [
      "Calling ChatGPT...\n"
     ]
    },
    {
     "name": "stderr",
     "output_type": "stream",
     "text": [
      " 82%|████████▏ | 879/1076 [19:12<04:56,  1.50s/it]"
     ]
    },
    {
     "name": "stdout",
     "output_type": "stream",
     "text": [
      "Author returned by ChatGPT: 梁佩韵\n"
     ]
    },
    {
     "name": "stderr",
     "output_type": "stream",
     "text": [
      " 83%|████████▎ | 894/1076 [19:32<04:38,  1.53s/it]"
     ]
    },
    {
     "name": "stdout",
     "output_type": "stream",
     "text": [
      "Calling ChatGPT...\n"
     ]
    },
    {
     "name": "stderr",
     "output_type": "stream",
     "text": [
      " 83%|████████▎ | 895/1076 [19:34<04:58,  1.65s/it]"
     ]
    },
    {
     "name": "stdout",
     "output_type": "stream",
     "text": [
      "Author returned by ChatGPT: 侯亚景 李淼 侯冲 樊邦平 张雨\n"
     ]
    },
    {
     "name": "stderr",
     "output_type": "stream",
     "text": [
      " 90%|████████▉ | 966/1076 [21:05<02:12,  1.21s/it]"
     ]
    },
    {
     "name": "stdout",
     "output_type": "stream",
     "text": [
      "Calling ChatGPT...\n"
     ]
    },
    {
     "name": "stderr",
     "output_type": "stream",
     "text": [
      " 90%|████████▉ | 967/1076 [21:06<02:23,  1.32s/it]"
     ]
    },
    {
     "name": "stdout",
     "output_type": "stream",
     "text": [
      "Author returned by ChatGPT: 伍正华 王通化\n"
     ]
    },
    {
     "name": "stderr",
     "output_type": "stream",
     "text": [
      " 92%|█████████▏| 993/1076 [21:36<01:43,  1.24s/it]"
     ]
    },
    {
     "name": "stdout",
     "output_type": "stream",
     "text": [
      "Calling ChatGPT...\n"
     ]
    },
    {
     "name": "stderr",
     "output_type": "stream",
     "text": [
      " 92%|█████████▏| 994/1076 [21:37<01:47,  1.31s/it]"
     ]
    },
    {
     "name": "stdout",
     "output_type": "stream",
     "text": [
      "Author returned by ChatGPT: 李军 孙继炼\n"
     ]
    },
    {
     "name": "stderr",
     "output_type": "stream",
     "text": [
      " 96%|█████████▌| 1032/1076 [22:23<00:51,  1.18s/it]"
     ]
    },
    {
     "name": "stdout",
     "output_type": "stream",
     "text": [
      "Calling ChatGPT...\n"
     ]
    },
    {
     "name": "stderr",
     "output_type": "stream",
     "text": [
      " 96%|█████████▌| 1033/1076 [22:25<01:00,  1.41s/it]"
     ]
    },
    {
     "name": "stdout",
     "output_type": "stream",
     "text": [
      "Author returned by ChatGPT: 丁来杭 于忠福\n",
      "Calling ChatGPT...\n"
     ]
    },
    {
     "name": "stderr",
     "output_type": "stream",
     "text": [
      " 96%|█████████▌| 1034/1076 [22:26<01:00,  1.44s/it]"
     ]
    },
    {
     "name": "stdout",
     "output_type": "stream",
     "text": [
      "Author returned by ChatGPT: 荆博 庞高杰\n"
     ]
    },
    {
     "name": "stderr",
     "output_type": "stream",
     "text": [
      " 98%|█████████▊| 1054/1076 [22:51<00:24,  1.10s/it]"
     ]
    },
    {
     "name": "stdout",
     "output_type": "stream",
     "text": [
      "Calling ChatGPT...\n"
     ]
    },
    {
     "name": "stderr",
     "output_type": "stream",
     "text": [
      " 98%|█████████▊| 1055/1076 [22:53<00:26,  1.26s/it]"
     ]
    },
    {
     "name": "stdout",
     "output_type": "stream",
     "text": [
      "Author returned by ChatGPT: 吴强 旷思思\n"
     ]
    },
    {
     "name": "stderr",
     "output_type": "stream",
     "text": [
      " 99%|█████████▉| 1067/1076 [23:06<00:09,  1.07s/it]"
     ]
    },
    {
     "name": "stdout",
     "output_type": "stream",
     "text": [
      "Calling ChatGPT...\n"
     ]
    },
    {
     "name": "stderr",
     "output_type": "stream",
     "text": [
      " 99%|█████████▉| 1068/1076 [23:07<00:09,  1.22s/it]"
     ]
    },
    {
     "name": "stdout",
     "output_type": "stream",
     "text": [
      "Author returned by ChatGPT: 袁誉柏 王建武\n"
     ]
    },
    {
     "name": "stderr",
     "output_type": "stream",
     "text": [
      "100%|██████████| 1076/1076 [23:17<00:00,  1.30s/it]\n"
     ]
    }
   ],
   "source": [
    "for link in tqdm(links_df[\"link\"]):\n",
    "    article_parser = QiuShiArticleParser(link)\n",
    "    article = QiuShiArticle(article_parser)\n",
    "\n",
    "    articles_df.loc[len(articles_df)] = [article.authors, article.title, article.date, article.year, article.edition, article.url, article.text]\n"
   ]
  },
  {
   "cell_type": "code",
   "execution_count": 28,
   "metadata": {},
   "outputs": [
    {
     "data": {
      "text/plain": [
       "2189"
      ]
     },
     "execution_count": 28,
     "metadata": {},
     "output_type": "execute_result"
    }
   ],
   "source": [
    "len(articles_df)"
   ]
  },
  {
   "cell_type": "code",
   "execution_count": 29,
   "metadata": {},
   "outputs": [],
   "source": [
    "articles_df.to_csv(\"all_articles.csv\", index=False)"
   ]
  },
  {
   "cell_type": "markdown",
   "metadata": {},
   "source": [
    "## Fix two missing articles"
   ]
  },
  {
   "cell_type": "code",
   "execution_count": 29,
   "metadata": {},
   "outputs": [],
   "source": [
    "missing_articles = ['http://www.qstheory.cn/dukan/qs/2023-01/31/c_1129324011.htm', 'http://www.qstheory.cn/dukan/qs/2023-06/16/c_1129695716.htm']"
   ]
  },
  {
   "cell_type": "code",
   "execution_count": 30,
   "metadata": {},
   "outputs": [
    {
     "data": {
      "text/plain": [
       "2191"
      ]
     },
     "execution_count": 30,
     "metadata": {},
     "output_type": "execute_result"
    }
   ],
   "source": [
    "import pandas as pd\n",
    "\n",
    "# import the previously run results\n",
    "articles = pd.read_csv('all_articles.csv')\n",
    "len(articles)"
   ]
  },
  {
   "cell_type": "code",
   "execution_count": 21,
   "metadata": {},
   "outputs": [
    {
     "data": {
      "text/plain": [
       "2187"
      ]
     },
     "execution_count": 21,
     "metadata": {},
     "output_type": "execute_result"
    }
   ],
   "source": [
    "# drop the two articles that did not got loaded correctly before\n",
    "articles = articles[(articles['url'] != missing_articles[0]) & (articles['url'] != missing_articles[1])]\n",
    "len(articles)"
   ]
  },
  {
   "cell_type": "code",
   "execution_count": null,
   "metadata": {},
   "outputs": [],
   "source": [
    "# write it back\n",
    "articles.to_csv('all_articles.csv', index=False)"
   ]
  },
  {
   "cell_type": "code",
   "execution_count": 25,
   "metadata": {},
   "outputs": [
    {
     "name": "stdout",
     "output_type": "stream",
     "text": [
      "{'authors': ['《求是》杂志编辑部'], 'title': '把党的伟大自我革命进行到底', 'date': '2023-01-31', 'year': '2023', 'edition': '03', 'url': 'http://www.qstheory.cn/dukan/qs/2023-01/31/c_1129324011.htm', 'text': '把党的伟大自我革命进行到底《求是》杂志编辑部“要站在事关党长期执政、国家长治久安、人民幸福安康的高度，把全面从严治党作为党的长期战略、永恒课题，始终坚持问题导向，保持战略定力，发扬彻底的自我革命精神，永远吹冲锋号，把严的基调、严的措施、严的氛围长期坚持下去，把党的伟大自我革命进行到底。”在二十届中央纪委二次全会上，习近平总书记从新时代新征程党和国家事业发展全局的高度，深刻阐明健全全面从严治党体系的目标任务、实践要求，对坚定不移深入推进全面从严治党作出战略部署。治国必先治党，党兴才能国强。党的十八大以来，习近平总书记发表一系列重要讲话、提出一系列重要思想和重要要求，为深入推进全面从严治党指明前进方向、提供根本遵循。以习近平同志为核心的党中央把全面从严治党纳入“四个全面”战略布局，刀刃向内、刮骨疗毒，猛药祛疴、重典治乱，管党治党宽松软状况得到根本扭转，党在革命性锻造中更加坚强有力，开辟了百年大党自我革命的新境界，引领保障党和国家事业取得历史性成就、发生历史性变革。《全面从严治党探索出依靠党的自我革命跳出历史周期率的成功路径》一文，是习近平总书记2022年1月18日在十九届中央纪委六次全会上重要讲话的一部分。在这篇重要文章中，习近平总书记深刻阐述全面从严治党取得的历史性开创性成就、产生的全方位深层次影响，深刻总结新时代党的自我革命的成功实践，精辟概括对建设什么样的长期执政的马克思主义政党、怎样建设长期执政的马克思主义政党的规律性认识，为推进新时代党的建设新的伟大工程提供了基本遵循。要深刻学习领会这篇重要文章，学习好贯彻好习近平总书记党的二十大以来的一系列重要讲话精神，学习好贯彻好二十届中央纪委二次全会等一系列重要会议精神，切实把党的二十大精神学深悟透、融会贯通、落实落地，以党的伟大自我革命引领伟大社会革命，为全面建设社会主义现代化国家开好局起好步提供坚强保障。跳出历史周期率的第二个答案“我经常讲跳出历史周期率问题，这是关系党千秋伟业的一个重大问题，关系党的生死存亡，关系我国社会主义制度的兴衰成败”。如何跳出治乱兴衰的历史周期率？“毛泽东同志在延安的窑洞里给出了第一个答案，这就是‘让人民来监督政府’；经过百年奋斗特别是党的十八大以来新的实践，党又给出了第二个答案，这就是自我革命。”两个答案，映照百年大党的不懈思索和长期探索。在这篇重要文章中，习近平总书记坚持辩证唯物主义和历史唯物主义，回顾总结党的百年奋斗历程，精辟阐述自我革命的战略意义、基本内涵、实践要求等一系列根本性长远性问题。“自我革命就是补钙壮骨、排毒杀菌、壮士断腕、去腐生肌，不断清除侵蚀党的健康肌体的病毒，不断提高自身免疫力，防止人亡政息。”中国共产党是全心全意为人民服务的党，初心和使命就是为中国人民谋幸福，为中华民族谋复兴。勇于自我革命和接受人民监督是内在一致的，都源于党的初心使命。百年风雨兼程、百年大浪淘沙，党外靠发展人民民主、接受人民监督，内靠全面从严治党、推进自我革命，勇于坚持真理、修正错误，勇于刀刃向内、刮骨疗毒，保证了党长盛不衰、不断发展壮大。在这篇重要文章中，习近平总书记用“三个才能”深刻阐明了人民监督与自我革命这两个答案之间的辩证统一关系：我将无我、不负人民，始终代表最广大人民根本利益，才能本着彻底的自我革命精神检视自身、常思己过，坚决同一切损害党的先进性和纯洁性的因素作斗争；才能摆脱一切利益集团、权势团体、特权阶层的“围猎”腐蚀，并向党内成为这些集团、团体、阶层同伙的人开刀，永葆党的生机活力；才能让人民信赖我们、支持我们，真心实意帮助我们改正缺点，坚定跟着党一起奋斗。河南省漯河市源汇区纪委监委发挥全区村居监察工作站全覆盖的优势，引导群众积极利用手机“随手拍”参与“四风”监督，形成群防群治、合力监督的浓厚氛围。图为2022年1月25日，社区干部向群众讲授如何通过手机网络举报身边出现的“四风”行为。 人民图片 尤亚辉/摄十年磨一剑，利刃开新篇。党的十八大以来，以习近平同志为核心的党中央以前所未有的勇气和定力深入推进全面从严治党，坚持打铁必须自身硬，深入推进管党治党实践创新、理论创新、制度创新，打出一套自我革命的“组合拳”。在实践创新上，从制定和落实中央八项规定开局破题，提出和落实新时代党的建设总要求，以党的政治建设统领党的建设各项工作，坚持思想建党和制度治党同向发力，严肃党内政治生活，持续开展党内集中教育，提出和坚持新时代党的组织路线，突出政治标准选贤任能，加强政治巡视，推动全党坚定理想信念、严密组织体系、严明纪律规矩；持之以恒正风肃纪，以钉钉子精神纠治“四风”，以“得罪千百人，不负十四亿”的使命担当祛疴治乱，不敢腐、不能腐、不想腐一体推进，反腐败斗争取得压倒性胜利并全面巩固。在理论创新上，习近平总书记就全面从严治党创造性提出一系列新思想新观点新论断，深刻回答了新时代管党治党的一系列重大问题，比如强调坚持把马克思主义基本原理同中国具体实际相结合、同中华优秀传统文化相结合，弘扬伟大建党精神，坚持和加强党的全面领导，以党的自我革命引领社会革命，以党的政治建设统领党的各方面建设，等等。在制度创新上，坚持依规治党和依法治国有机统一，把依规治党摆在事关党长期执政和国家长治久安的战略位置，把制度建设贯穿新时代党的建设各方面，紧紧围绕坚持党的全面领导、维护党中央权威和集中统一领导、加强党的政治建设、坚守理想信念、正风肃纪反腐、敢于善于斗争、强化责任担当等加强党内法规制度建设，形成比较完善的党内法规体系，做到规纪必依、执行必严、违反必究，使依规治党、加强自我革命制度建设成为中国共产党之治的独特密码。新时代全面从严治党持续深入推进，探索出依靠党的自我革命跳出历史周期率的成功路径，根本在于习近平总书记作为党中央的核心、全党的核心领航掌舵，在于习近平新时代中国特色社会主义思想科学指引。“两个确立”是党在新时代取得的重大政治成果，对新时代党和国家事业发展、对推进中华民族伟大复兴历史进程具有决定性意义。新时代新征程上，必须把坚持“两个确立”作为加强党的领导、全面从严治党、推进党的建设的根本点、着力点，确保全党更加紧密地团结在以习近平同志为核心的党中央周围，更加自觉地学懂弄通做实习近平新时代中国特色社会主义思想。开辟了百年大党自我革命的新境界“全面从严治党是新时代党的自我革命的伟大实践，开辟了百年大党自我革命的新境界。”我们党是一个善于领导社会革命的党，更是一个勇于进行自我革命的党。从革命战争年代起，就把党的建设作为一项伟大工程来推进，保持和发展了党的先进性和纯洁性，为胜利推进革命、建设、改革事业提供了坚强政治保证。进入新时代，党的建设新的伟大工程取得显著成效，为我们继续前进奠定了坚实基础、创造了良好条件、提供了重要保障，同时一系列长期积累及新出现的突出矛盾和问题亟待解决。以习近平同志为核心的党中央审时度势、果敢抉择，把全面从严治党纳入“四个全面”战略布局，以顽强意志和坚韧定力推进党风廉政建设和反腐败斗争。在这篇重要文章中，习近平总书记从坚守政治方向、淬炼思想武器等六个方面，深刻总结和概括了全面从严治党这一新时代党的自我革命的伟大实践。一是坚持以党的政治建设为统领，坚守自我革命根本政治方向。旗帜鲜明讲政治、保证党的团结和集中统一是党的生命，党中央坚强有力领导是我们战胜一切困难和风险的根本保证。习近平总书记深刻指出：“党的团结统一首先是政治上的团结统一”；“保证全党服从中央，坚持党中央权威和集中统一领导，是党的政治建设的首要任务”。党的十八大以来，以习近平同志为核心的党中央把政治建设作为根本性建设，作出一系列重大部署，推动全党深刻领悟“两个确立”的决定性意义，把党的领导落实到统筹推进“五位一体”总体布局和协调推进“四个全面”战略布局之中，确保党中央权威和集中统一领导，确保党发挥总揽全局、协调各方的领导核心作用。新时代党的政治建设取得历史性成就，“从根本上扭转了落实党的领导弱化、党的观念淡漠状况，全党‘四个意识’不断增强，‘四个自信’日益坚定，‘两个维护’更加自觉”。二是坚持把思想建设作为党的基础性建设，淬炼自我革命锐利思想武器。中国共产党为什么能，中国特色社会主义为什么好，归根到底是马克思主义行，是中国化时代化的马克思主义行。习近平总书记深刻指出：“马克思主义是我们立党立国、兴党兴国的根本指导思想”；“拥有马克思主义科学理论指导是我们党坚定信仰信念、把握历史主动的根本所在”。新时代，我们党坚持把马克思主义基本原理同中国具体实际相结合、同中华优秀传统文化相结合，创立了习近平新时代中国特色社会主义思想，实现了马克思主义中国化时代化新的飞跃。以习近平同志为核心的党中央坚持思想建党、理论强党，加强理想信念教育，注重集中性教育和经常性教育结合，坚持不懈用习近平新时代中国特色社会主义思想武装头脑、指导实践、推动工作，为党和国家事业发展提供了科学理论指导和根本行动遵循。新时代党的思想建设取得历史性成就，“全党自觉用党的创新理论滋养初心、引领使命，增强为党分忧、为国奉献、为民造福的政治担当，在风浪考验中立住脚，在诱惑‘围猎’前定住神，在复杂严峻斗争中保持了政治本色”。三是坚决落实中央八项规定精神、以严明纪律整饬作风，丰富自我革命有效途径。作风问题本质上是党性问题，作风建设永远在路上，没有休止符。习近平总书记深刻指出：“党风问题关系执政党的生死存亡”；“党性、党风、党纪是有机整体，党性是根本，党风是表现，党纪是保障”。党的十八大以来，以习近平同志为核心的党中央从制定和落实中央八项规定开局破题，坚持立破并举、扶正祛邪，锲而不舍、久久为功，抓铁有痕、踏石留印，弘扬谦虚谨慎、艰苦奋斗等光荣传统，涵养求真务实、清正廉洁的新风正气，刹住了一些长期没有刹住的歪风，纠治了一些多年未除的顽瘴痼疾。新时代党的作风建设取得历史性成就，“纪律松弛、作风飘浮状况显著改变，真管真严、敢管敢严、长管长严氛围基本形成，党风政风焕然一新，社风民风持续向好，重塑了党在人民心中的形象”。四是坚持以雷霆之势反腐惩恶，打好自我革命攻坚战、持久战。只要存在腐败问题产生的土壤和条件，反腐败斗争就一刻不能停。习近平总书记深刻指出：“腐败是最容易颠覆政权的问题，反腐败是最彻底的自我革命。”党的十八大以来，以习近平同志为核心的党中央秉持坚韧顽强的斗争精神，坚持无禁区、全覆盖、零容忍，坚持重遏制、强高压、长震慑，坚持受贿行贿一起查，坚持有案必查、有腐必惩，“打虎”、“拍蝇”、“猎狐”多管齐下，开展了史无前例的反腐败斗争，坚决查处政治问题和经济问题交织的腐败案件，坚决清除不收敛不收手的腐败分子，消除了党、国家、军队内部存在的严重隐患，确保党和人民赋予的权力始终用来为人民谋幸福。新时代反腐败斗争取得历史性成就，“不敢腐的震慑充分彰显，不能腐的笼子越扎越牢，不想腐的自觉显著增强”，成功走出一条依靠制度优势、法治优势反腐败之路，书写了人类反腐败斗争历史新篇章。五是坚持增强党组织政治功能和组织力凝聚力，锻造敢于善于斗争、勇于自我革命的干部队伍。党的力量来自组织，组织建设是党的建设的重要基础。习近平总书记强调：“严密的组织体系是党的优势所在、力量所在”；“党的全面领导、党的全部工作要靠党的坚强组织体系去实现”。党的十八大以来，以习近平同志为核心的党中央贯彻新时代党的组织路线和好干部标准，以提升组织力为重点、强化政治功能，完善上下贯通、执行有力的组织体系，树立加强基层建设的鲜明导向，推动各级党组织全面进步、全面过硬。总结运用党积累的伟大斗争经验，教育引导党员、干部发扬斗争精神、掌握斗争策略、练就斗争本领，在决胜全面小康、决战脱贫攻坚、抗击疫情、防汛救灾、应对外部打压遏制等一线接受考验。新时代党的组织建设取得历史性成就，“广大基层党组织的战斗堡垒作用和共产党员的先锋模范作用充分彰显，党的政治优势和组织优势不断转化为制胜优势”。图为2023年1月6日，江西省上栗县纪委监委工作人员在鸡冠山乡接访。 人民图片 邓建萍/摄六是坚持构建自我净化、自我完善、自我革新、自我提高的制度规范体系，为推进伟大自我革命提供制度保障。全面从严治党，必须把制度建设贯穿始终。习近平总书记反复强调：“制度优势是一个政党、一个国家的最大优势”；“坚持用制度管权管事管人”，“把权力关进制度的笼子里”。党的十八大以来，以习近平同志为核心的党中央健全党和国家监督制度，以党内监督为主导，发挥巡视监督利剑作用和派驻监督探头作用，推进纪律检查体制、国家监察体制、审计统计监督体制改革，推动各项监督贯通协同，实现党内监督全覆盖、对公职人员监察全覆盖。坚持制度治党、依规治党，健全党的组织法规、领导法规、自身建设法规、监督保障法规。新时代党的制度建设取得历史性成就，“形成了比较完善的党内法规体系，构建起党统一领导、全面覆盖、权威高效的监督体系，营造了尊崇制度、遵守制度的良好氛围，推动各方面制度更加成熟定型，形成了中国共产党之治、中国之治的独特优势”。习近平总书记的重要论述，深刻阐明了新时代党的自我革命的政治方向、科学内涵、实践要求、方法路径，为我们在新的伟大征程上始终坚持自我革命、坚持不懈把全面从严治党向纵深推进指明了前进方向、明确了基本要求，必须长期坚持、全面贯彻。管党治党规律性认识的新高度百年栉风沐雨，从仅有50多名党员发展成为拥有9600多万名党员、领导着14亿多人口大国、具有重大全球影响力的世界第一大执政党，中国共产党管党治党、永葆生机活力的奥妙和规律，日益引起全世界有识之士的广泛关注和探究。“党的十八大以来，我们继承和发展马克思主义建党学说，总结运用党的百年奋斗历史经验，深入推进管党治党实践创新、理论创新、制度创新，对建设什么样的长期执政的马克思主义政党、怎样建设长期执政的马克思主义政党的规律性认识达到新的高度。”在这篇重要文章中，习近平总书记用“九个坚持”对这一规律性认识作出精辟概括。一是坚持党中央集中统一领导。中国特色社会主义最本质的特征是中国共产党领导，中国特色社会主义制度的最大优势是中国共产党领导，中国共产党是最高政治领导力量，坚持党中央集中统一领导是最高政治原则。习近平总书记明确要求，必须把全面从严治党作为重大而严肃的政治任务，在党中央集中统一领导下扎实有序推进，把坚持党的全面领导贯彻到管党治党全部工作之中，确保党牢牢把握反腐败斗争主动权，以党的永不变质确保红色江山永不变色。二是坚持党要管党、全面从严治党，以伟大自我革命引领伟大社会革命。伟大社会革命锻造和成就伟大的党，伟大自我革命保障和推动伟大的事业，党的自我革命永远在路上。习近平总书记明确要求，推动全面从严治党必须既发挥政治保障作用、又发挥政治引领作用，把全面从严治党战略方针贯穿中国特色社会主义事业全过程和党的建设各方面，不断增强党的政治领导力、思想引领力、群众组织力、社会号召力，推动伟大事业不断向前。三是坚持以党的政治建设为统领，保证全党在政治立场、政治方向、政治原则、政治道路上同党中央保持高度一致。政治问题，任何时候都是根本性的大问题。旗帜鲜明讲政治是马克思主义政党的根本要求，讲政治是我们党突出的特点和优势。习近平总书记明确要求，必须以坚定理想信念为根基，严肃政治生活，涵养政治生态，督促党员、干部把对党忠诚体现在贯彻党中央决策部署的具体行动上，确保党的理论和路线方针政策落地见效。四是坚持严的主基调不动摇，提高纪律建设的政治性、时代性、针对性。全面从严治党，必须严字当头、一严到底，严明纪律要求、整治歪风邪气、弘扬新风正气。习近平总书记明确要求，必须执行政治纪律，带动各项纪律全面从严、一严到底，坚持纪严于法、执纪执法贯通，深化运用“四种形态”政策策略，执纪必严、违纪必究，以严明的纪律确保全党目标一致、团结一致、步调一致。图为2022年10月31日，浙江省杭州市淳安县纪检监察干部在石林镇双西村走访农户，面对面听取群众意见建议，了解惠民政策落实、乡村干部工作作风等情况。 人民图片 毛勇锋/摄五是坚持发扬钉钉子精神加强作风建设，以优良党风带动社风民风向上向善。作风问题具有顽固性和反复性，形成优良作风不可能一劳永逸，克服不良作风也不可能一蹴而就，全面从严治党必须从人民群众反映强烈的作风问题抓起。习近平总书记明确要求，必须发扬党的优良作风，持之以恒落实中央八项规定精神，在常和长、严和实、深和细上下功夫，治“四风”树新风并举，坚决铲除腐败滋生的作风温床，坚决纠正形式主义、官僚主义问题，以好作风好形象创造新伟业。六是坚持以零容忍态度惩治腐败，坚定不移走中国特色反腐败之路。腐败是危害党的生命力和战斗力的最大毒瘤，当前反腐败斗争形势依然严峻复杂，遏制增量、清除存量的任务依然艰巨。习近平总书记明确要求，必须牢记全面从严治党永远在路上，严厉惩治这一手绝不能放松，坚持不敢腐、不能腐、不想腐一体推进，惩治震慑、制度约束、提高觉悟一体发力，以法治思维和法治方式惩治腐败，以系统施治、标本兼治理念管党治党，实现干部清正、政府清廉、政治清明。七是坚持纠正一切损害群众利益的腐败和不正之风，让人民群众感到公平正义就在身边。人民性是马克思主义的本质属性，为民造福是立党为公、执政为民的本质要求。习近平总书记明确要求，必须贯彻以人民为中心的发展思想，顺应群众所思所想所忧所盼，推动全面从严治党向基层延伸，解决群众反映强烈的突出问题，以全面从严治党实效筑牢党的执政根基。图为2023年1月18日，湖南省常宁市剪纸非遗传承人指导小朋友们练习剪“廉”字、“福”字，传承非遗艺术，弘扬廉洁清风，迎接新春佳节。 新华社发 周秀鱼春/摄八是坚持抓住“关键少数”以上率下，压紧压实全面从严治党政治责任。正人必先正己，正己才能正人。突出领导干部这个“关键少数”，抓住落实责任这个“牛鼻子”，体现了对管党治党规律的深刻把握。习近平总书记明确要求，必须落实领导干部管党治党责任，坚持抓领导、领导抓，从党中央做起、从高级干部严起，一级示范给一级看、一级带领着一级干，无私无畏、旗帜鲜明，敢于斗争、善于斗争，推动主体责任和监督责任一贯到底，巩固发展全党动手一起抓的良好局面。九是坚持完善党和国家监督制度，形成全面覆盖、常态长效的监督合力。权力不论大小，只要不受制约和监督，都可能被滥用。加强监督是落实全面从严治党、实现自我革命的重要路径和基础。习近平总书记明确要求，必须依靠强化党的自我监督和人民监督推进党的自我革命，构建以党内监督为主导、各类监督贯通协调的机制，强化对权力运行的制约和监督，把监督制度优势更好转化为治理效能。习近平总书记深刻总结的这“九个坚持”，丰富和发展了马克思主义建党学说，开辟了百年大党自我革命的新境界，为确保党在新时代坚持和发展中国特色社会主义的历史进程中，始终保持先进性和纯洁性，始终成为坚强领导核心 ，指明了前进方向、提供了根本遵循。一个饱经沧桑而初心不改的党，才能基业常青；一个铸就辉煌仍勇于自我革命的党，才能无坚不摧。新时代新征程，时刻保持解决大党独有难题的清醒和坚定，一刻不停推进全面从严治党，立志于中华民族千秋伟业的中国共产党一定能在自我革命中焕发蓬勃生机，团结带领人民战胜一切风险挑战，不断谱写新时代中国特色社会主义更加绚丽的华章！'}\n",
      "{'authors': None, 'title': '时代楷模：敦煌研究院文物保护利用群体', 'date': '2023-06-16', 'year': '2023', 'edition': '12', 'url': 'http://www.qstheory.cn/dukan/qs/2023-06/16/c_1129695716.htm', 'text': '时代楷模：敦煌研究院文物保护利用群体图为敦煌研究院文物保护利用群体代表在“时代楷模”发布仪式上登台。 新华社记者 沈伯韩/摄敦煌研究院文物保护利用群体大力弘扬和践行爱国奋斗奉献精神，几十年如一日在平凡岗位上埋头苦干、接续奋斗，充分彰显了为国为民奉献的家国情怀、为事业无怨无悔坚守的敬业品格、为文化传承发展拼搏奋斗的执着追求，以实际行动诠释了“坚守大漠、甘于奉献、勇于担当、开拓进取”的莫高精神。敦煌研究院文物保护利用群体是以常书鸿、段文杰、樊锦诗等为代表的几代莫高窟守护人。70多年来，他们扎根大漠，不计个人得失，舍小家顾大家，以强烈的使命担当、无私的奉献精神，精心保护和修复敦煌石窟珍贵文物，潜心研究和弘扬敦煌文化艺术，努力探索推进文化旅游合理开发，取得了令世人瞩目的巨大成就，受到党和政府以及社会各界的高度评价和赞誉。敦煌研究院名誉院长樊锦诗同志被授予“文物保护杰出贡献者”国家荣誉称号，“改革先锋”、“全国道德模范”、“最美奋斗者”等称号。2020年1月17日，中央宣传部授予敦煌研究院文物保护利用群体“时代楷模”称号。敦煌研究院文物保护利用群体几代人薪火相传，择一事终一生。从百废待兴、抢救文物到面向世界、科学保护；从制订法规、精心管理到探索“数字敦煌”、永久保存敦煌瑰宝，“敦煌在中国，敦煌学在国外”的局面得以彻底扭转，敦煌研究院成为国际敦煌学研究的重要基地和最大实体。2019年8月，习近平总书记在敦煌研究院考察时指出，“把莫高窟保护好，把敦煌文化传承好，是中华民族为世界文明进步应负的责任”。敦煌研究院文物保护利用群体70多年不间断的接续奋斗，使敦煌莫高窟的永久保存、永续利用成为可能，也铸就了一座永不褪色的精神丰碑。'}\n"
     ]
    }
   ],
   "source": [
    "# re-run them and add them to a new df\n",
    "\n",
    "missing_articles_df = pd.DataFrame(columns=[\"authors\", \"title\", \"date\", \"year\", \"edition\", \"url\", \"text\"])\n",
    "\n",
    "for link in missing_articles:\n",
    "    article_parser = QiuShiArticleParser(link)\n",
    "    article = QiuShiArticle(article_parser)\n",
    "    print(article.__dict__)\n",
    "\n",
    "    missing_articles_df.loc[len(missing_articles_df)] = [article.authors, article.title, article.date, article.year, article.edition, article.url, article.text]\n"
   ]
  },
  {
   "cell_type": "code",
   "execution_count": 26,
   "metadata": {},
   "outputs": [
    {
     "data": {
      "text/html": [
       "<div>\n",
       "<style scoped>\n",
       "    .dataframe tbody tr th:only-of-type {\n",
       "        vertical-align: middle;\n",
       "    }\n",
       "\n",
       "    .dataframe tbody tr th {\n",
       "        vertical-align: top;\n",
       "    }\n",
       "\n",
       "    .dataframe thead th {\n",
       "        text-align: right;\n",
       "    }\n",
       "</style>\n",
       "<table border=\"1\" class=\"dataframe\">\n",
       "  <thead>\n",
       "    <tr style=\"text-align: right;\">\n",
       "      <th></th>\n",
       "      <th>authors</th>\n",
       "      <th>title</th>\n",
       "      <th>date</th>\n",
       "      <th>year</th>\n",
       "      <th>edition</th>\n",
       "      <th>url</th>\n",
       "      <th>text</th>\n",
       "    </tr>\n",
       "  </thead>\n",
       "  <tbody>\n",
       "    <tr>\n",
       "      <th>0</th>\n",
       "      <td>[《求是》杂志编辑部]</td>\n",
       "      <td>把党的伟大自我革命进行到底</td>\n",
       "      <td>2023-01-31</td>\n",
       "      <td>2023</td>\n",
       "      <td>03</td>\n",
       "      <td>http://www.qstheory.cn/dukan/qs/2023-01/31/c_1...</td>\n",
       "      <td>把党的伟大自我革命进行到底《求是》杂志编辑部“要站在事关党长期执政、国家长治久安、人民幸福安...</td>\n",
       "    </tr>\n",
       "    <tr>\n",
       "      <th>1</th>\n",
       "      <td>None</td>\n",
       "      <td>时代楷模：敦煌研究院文物保护利用群体</td>\n",
       "      <td>2023-06-16</td>\n",
       "      <td>2023</td>\n",
       "      <td>12</td>\n",
       "      <td>http://www.qstheory.cn/dukan/qs/2023-06/16/c_1...</td>\n",
       "      <td>时代楷模：敦煌研究院文物保护利用群体图为敦煌研究院文物保护利用群体代表在“时代楷模”发布仪式...</td>\n",
       "    </tr>\n",
       "  </tbody>\n",
       "</table>\n",
       "</div>"
      ],
      "text/plain": [
       "       authors               title        date  year edition  \\\n",
       "0  [《求是》杂志编辑部]       把党的伟大自我革命进行到底  2023-01-31  2023      03   \n",
       "1         None  时代楷模：敦煌研究院文物保护利用群体  2023-06-16  2023      12   \n",
       "\n",
       "                                                 url  \\\n",
       "0  http://www.qstheory.cn/dukan/qs/2023-01/31/c_1...   \n",
       "1  http://www.qstheory.cn/dukan/qs/2023-06/16/c_1...   \n",
       "\n",
       "                                                text  \n",
       "0  把党的伟大自我革命进行到底《求是》杂志编辑部“要站在事关党长期执政、国家长治久安、人民幸福安...  \n",
       "1  时代楷模：敦煌研究院文物保护利用群体图为敦煌研究院文物保护利用群体代表在“时代楷模”发布仪式...  "
      ]
     },
     "execution_count": 26,
     "metadata": {},
     "output_type": "execute_result"
    }
   ],
   "source": [
    "missing_articles_df"
   ]
  },
  {
   "cell_type": "code",
   "execution_count": 27,
   "metadata": {},
   "outputs": [],
   "source": [
    "missing_articles_df.to_csv('missing_articles.csv', index=False)"
   ]
  },
  {
   "cell_type": "code",
   "execution_count": 28,
   "metadata": {},
   "outputs": [],
   "source": [
    "# merge the two CSV files\n",
    "with open('missing_articles.csv', 'r') as f1:\n",
    "    missing_articles = f1.read()\n",
    "\n",
    "with open('all_articles.csv', 'a') as f2:\n",
    "    f2.write('\\n')\n",
    "    f2.write(missing_articles)\n"
   ]
  },
  {
   "cell_type": "markdown",
   "metadata": {},
   "source": [
    "after this the file had a few issues, and I ended up going through and deleting the link-only entries that I had confirmed were invalid, and finalizing the addition of the new articles to the end. so it was not totally programatic, which is obviously less than ideal."
   ]
  },
  {
   "cell_type": "markdown",
   "metadata": {},
   "source": []
  }
 ],
 "metadata": {
  "kernelspec": {
   "display_name": "qiushi_venv",
   "language": "python",
   "name": "python3"
  },
  "language_info": {
   "codemirror_mode": {
    "name": "ipython",
    "version": 3
   },
   "file_extension": ".py",
   "mimetype": "text/x-python",
   "name": "python",
   "nbconvert_exporter": "python",
   "pygments_lexer": "ipython3",
   "version": "3.11.6"
  }
 },
 "nbformat": 4,
 "nbformat_minor": 2
}

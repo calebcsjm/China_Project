{
 "cells": [
  {
   "cell_type": "code",
   "execution_count": 2,
   "metadata": {},
   "outputs": [],
   "source": [
    "import pandas as pd"
   ]
  },
  {
   "cell_type": "code",
   "execution_count": 8,
   "metadata": {},
   "outputs": [
    {
     "name": "stdout",
     "output_type": "stream",
     "text": [
      "56245\n"
     ]
    }
   ],
   "source": [
    "articles = pd.read_csv('all_asx_articles_copy.csv')\n",
    "print(len(articles))"
   ]
  },
  {
   "cell_type": "code",
   "execution_count": 9,
   "metadata": {},
   "outputs": [
    {
     "data": {
      "text/plain": [
       "title        2\n",
       "authors    950\n",
       "date         0\n",
       "url          0\n",
       "text       413\n",
       "dtype: int64"
      ]
     },
     "execution_count": 9,
     "metadata": {},
     "output_type": "execute_result"
    }
   ],
   "source": [
    "articles.isna().sum()"
   ]
  },
  {
   "cell_type": "code",
   "execution_count": 10,
   "metadata": {},
   "outputs": [],
   "source": [
    "articles['text'] = articles['text'].fillna('missing')"
   ]
  },
  {
   "cell_type": "code",
   "execution_count": 11,
   "metadata": {},
   "outputs": [
    {
     "data": {
      "text/plain": [
       "title        2\n",
       "authors    950\n",
       "date         0\n",
       "url          0\n",
       "text         0\n",
       "dtype: int64"
      ]
     },
     "execution_count": 11,
     "metadata": {},
     "output_type": "execute_result"
    }
   ],
   "source": [
    "articles.isna().sum()"
   ]
  },
  {
   "cell_type": "code",
   "execution_count": 12,
   "metadata": {},
   "outputs": [],
   "source": [
    "missing_articles = articles[articles['text'] == 'missing']"
   ]
  },
  {
   "cell_type": "code",
   "execution_count": 13,
   "metadata": {},
   "outputs": [
    {
     "data": {
      "text/plain": [
       "413"
      ]
     },
     "execution_count": 13,
     "metadata": {},
     "output_type": "execute_result"
    }
   ],
   "source": [
    "len(missing_articles)"
   ]
  },
  {
   "cell_type": "code",
   "execution_count": 16,
   "metadata": {},
   "outputs": [
    {
     "data": {
      "text/plain": [
       "title       0\n",
       "authors    14\n",
       "date        0\n",
       "url         0\n",
       "text        0\n",
       "dtype: int64"
      ]
     },
     "execution_count": 16,
     "metadata": {},
     "output_type": "execute_result"
    }
   ],
   "source": [
    "missing_articles.isna().sum()"
   ]
  },
  {
   "cell_type": "code",
   "execution_count": 17,
   "metadata": {},
   "outputs": [
    {
     "data": {
      "text/html": [
       "<div>\n",
       "<style scoped>\n",
       "    .dataframe tbody tr th:only-of-type {\n",
       "        vertical-align: middle;\n",
       "    }\n",
       "\n",
       "    .dataframe tbody tr th {\n",
       "        vertical-align: top;\n",
       "    }\n",
       "\n",
       "    .dataframe thead th {\n",
       "        text-align: right;\n",
       "    }\n",
       "</style>\n",
       "<table border=\"1\" class=\"dataframe\">\n",
       "  <thead>\n",
       "    <tr style=\"text-align: right;\">\n",
       "      <th></th>\n",
       "      <th>title</th>\n",
       "      <th>authors</th>\n",
       "      <th>date</th>\n",
       "      <th>url</th>\n",
       "      <th>text</th>\n",
       "    </tr>\n",
       "  </thead>\n",
       "  <tbody>\n",
       "    <tr>\n",
       "      <th>337</th>\n",
       "      <td>降低“三育”成本</td>\n",
       "      <td>蔡昉</td>\n",
       "      <td>2022-01-10</td>\n",
       "      <td>https://www.aisixiang.com/data/130826.html</td>\n",
       "      <td>missing</td>\n",
       "    </tr>\n",
       "    <tr>\n",
       "      <th>372</th>\n",
       "      <td>“高水平均衡陷阱”是不成立的——“李约瑟之谜”再解</td>\n",
       "      <td>蔡昉</td>\n",
       "      <td>2015-07-01</td>\n",
       "      <td>https://www.aisixiang.com/data/89996.html</td>\n",
       "      <td>missing</td>\n",
       "    </tr>\n",
       "    <tr>\n",
       "      <th>659</th>\n",
       "      <td>推进结构调整应坚持以人为本</td>\n",
       "      <td>常修泽</td>\n",
       "      <td>2015-04-30</td>\n",
       "      <td>https://www.aisixiang.com/data/87342.html</td>\n",
       "      <td>missing</td>\n",
       "    </tr>\n",
       "    <tr>\n",
       "      <th>963</th>\n",
       "      <td>建议在中国中央电视台增设参政频道</td>\n",
       "      <td>陈剑</td>\n",
       "      <td>2015-04-08</td>\n",
       "      <td>https://www.aisixiang.com/data/86409.html</td>\n",
       "      <td>missing</td>\n",
       "    </tr>\n",
       "    <tr>\n",
       "      <th>1091</th>\n",
       "      <td>国资改革十一问</td>\n",
       "      <td>陈清泰</td>\n",
       "      <td>2015-04-30</td>\n",
       "      <td>https://www.aisixiang.com/data/87340.html</td>\n",
       "      <td>missing</td>\n",
       "    </tr>\n",
       "    <tr>\n",
       "      <th>1738</th>\n",
       "      <td>“十三五”应形成服务业主导的经济结构</td>\n",
       "      <td>迟福林</td>\n",
       "      <td>2015-06-12</td>\n",
       "      <td>https://www.aisixiang.com/data/89220.html</td>\n",
       "      <td>missing</td>\n",
       "    </tr>\n",
       "    <tr>\n",
       "      <th>1742</th>\n",
       "      <td>走向服务业大国的转型与改革</td>\n",
       "      <td>迟福林</td>\n",
       "      <td>2015-04-20</td>\n",
       "      <td>https://www.aisixiang.com/data/86889.html</td>\n",
       "      <td>missing</td>\n",
       "    </tr>\n",
       "    <tr>\n",
       "      <th>2249</th>\n",
       "      <td>习近平做大做强做优国有企业的理论逻辑</td>\n",
       "      <td>顾钰民</td>\n",
       "      <td>2020-04-12</td>\n",
       "      <td>https://www.aisixiang.com/data/120816.html</td>\n",
       "      <td>missing</td>\n",
       "    </tr>\n",
       "    <tr>\n",
       "      <th>2250</th>\n",
       "      <td>“三权分置” ：中国特色社会主义农村集体土地产权模式的创新</td>\n",
       "      <td>顾钰民</td>\n",
       "      <td>2020-04-19</td>\n",
       "      <td>https://www.aisixiang.com/data/120925.html</td>\n",
       "      <td>missing</td>\n",
       "    </tr>\n",
       "    <tr>\n",
       "      <th>2251</th>\n",
       "      <td>中国经济改革的两个基本理论问题——对张五常两个观点的反驳</td>\n",
       "      <td>顾钰民</td>\n",
       "      <td>2020-03-22</td>\n",
       "      <td>https://www.aisixiang.com/data/120549.html</td>\n",
       "      <td>missing</td>\n",
       "    </tr>\n",
       "  </tbody>\n",
       "</table>\n",
       "</div>"
      ],
      "text/plain": [
       "                              title authors        date  \\\n",
       "337                        降低“三育”成本      蔡昉  2022-01-10   \n",
       "372       “高水平均衡陷阱”是不成立的——“李约瑟之谜”再解      蔡昉  2015-07-01   \n",
       "659                   推进结构调整应坚持以人为本     常修泽  2015-04-30   \n",
       "963                建议在中国中央电视台增设参政频道      陈剑  2015-04-08   \n",
       "1091                        国资改革十一问     陈清泰  2015-04-30   \n",
       "1738             “十三五”应形成服务业主导的经济结构     迟福林  2015-06-12   \n",
       "1742                  走向服务业大国的转型与改革     迟福林  2015-04-20   \n",
       "2249             习近平做大做强做优国有企业的理论逻辑     顾钰民  2020-04-12   \n",
       "2250  “三权分置” ：中国特色社会主义农村集体土地产权模式的创新     顾钰民  2020-04-19   \n",
       "2251   中国经济改革的两个基本理论问题——对张五常两个观点的反驳     顾钰民  2020-03-22   \n",
       "\n",
       "                                             url     text  \n",
       "337   https://www.aisixiang.com/data/130826.html  missing  \n",
       "372    https://www.aisixiang.com/data/89996.html  missing  \n",
       "659    https://www.aisixiang.com/data/87342.html  missing  \n",
       "963    https://www.aisixiang.com/data/86409.html  missing  \n",
       "1091   https://www.aisixiang.com/data/87340.html  missing  \n",
       "1738   https://www.aisixiang.com/data/89220.html  missing  \n",
       "1742   https://www.aisixiang.com/data/86889.html  missing  \n",
       "2249  https://www.aisixiang.com/data/120816.html  missing  \n",
       "2250  https://www.aisixiang.com/data/120925.html  missing  \n",
       "2251  https://www.aisixiang.com/data/120549.html  missing  "
      ]
     },
     "execution_count": 17,
     "metadata": {},
     "output_type": "execute_result"
    }
   ],
   "source": [
    "missing_articles.head(10)"
   ]
  },
  {
   "cell_type": "markdown",
   "metadata": {},
   "source": [
    "Interesting... looks like some of the articles above don't actually have text. And then some others are weird and use `<br>` instead of`<p>` to do paragraphs... I'll assume it is failry idiosyncratic, so we can ignore the ones that were missed..."
   ]
  },
  {
   "cell_type": "code",
   "execution_count": null,
   "metadata": {},
   "outputs": [],
   "source": []
  }
 ],
 "metadata": {
  "kernelspec": {
   "display_name": "qiushi_venv",
   "language": "python",
   "name": "python3"
  },
  "language_info": {
   "codemirror_mode": {
    "name": "ipython",
    "version": 3
   },
   "file_extension": ".py",
   "mimetype": "text/x-python",
   "name": "python",
   "nbconvert_exporter": "python",
   "pygments_lexer": "ipython3",
   "version": "3.11.6"
  }
 },
 "nbformat": 4,
 "nbformat_minor": 2
}

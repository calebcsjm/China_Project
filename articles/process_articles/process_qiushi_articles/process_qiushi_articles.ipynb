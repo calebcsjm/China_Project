{
 "cells": [
  {
   "cell_type": "code",
   "execution_count": 1,
   "metadata": {},
   "outputs": [
    {
     "name": "stderr",
     "output_type": "stream",
     "text": [
      "[nltk_data] Downloading package punkt to\n",
      "[nltk_data]     /Users/calebharding/nltk_data...\n",
      "[nltk_data]   Package punkt is already up-to-date!\n"
     ]
    },
    {
     "name": "stdout",
     "output_type": "stream",
     "text": [
      "Validated articles: 1998\n"
     ]
    },
    {
     "data": {
      "text/html": [
       "<div>\n",
       "<style scoped>\n",
       "    .dataframe tbody tr th:only-of-type {\n",
       "        vertical-align: middle;\n",
       "    }\n",
       "\n",
       "    .dataframe tbody tr th {\n",
       "        vertical-align: top;\n",
       "    }\n",
       "\n",
       "    .dataframe thead th {\n",
       "        text-align: right;\n",
       "    }\n",
       "</style>\n",
       "<table border=\"1\" class=\"dataframe\">\n",
       "  <thead>\n",
       "    <tr style=\"text-align: right;\">\n",
       "      <th></th>\n",
       "      <th>authors</th>\n",
       "      <th>title</th>\n",
       "      <th>date</th>\n",
       "      <th>year</th>\n",
       "      <th>edition</th>\n",
       "      <th>url</th>\n",
       "      <th>text</th>\n",
       "      <th>quarter</th>\n",
       "      <th>year_quarter</th>\n",
       "    </tr>\n",
       "  </thead>\n",
       "  <tbody>\n",
       "    <tr>\n",
       "      <th>0</th>\n",
       "      <td>习近平</td>\n",
       "      <td>辩证唯物主义是中国共产党人的世界观和方法论</td>\n",
       "      <td>2018-12-31</td>\n",
       "      <td>2019</td>\n",
       "      <td>1.0</td>\n",
       "      <td>http://www.qstheory.cn/dukan/qs/2018-12/31/c_1...</td>\n",
       "      <td>辩证唯物主义是中国共产党人的世界观和方法论习近平2018年5月4日，纪念马克思诞辰200周年...</td>\n",
       "      <td>1</td>\n",
       "      <td>2019 Q1</td>\n",
       "    </tr>\n",
       "  </tbody>\n",
       "</table>\n",
       "</div>"
      ],
      "text/plain": [
       "  authors                  title        date  year  edition  \\\n",
       "0     习近平  辩证唯物主义是中国共产党人的世界观和方法论  2018-12-31  2019      1.0   \n",
       "\n",
       "                                                 url  \\\n",
       "0  http://www.qstheory.cn/dukan/qs/2018-12/31/c_1...   \n",
       "\n",
       "                                                text  quarter year_quarter  \n",
       "0  辩证唯物主义是中国共产党人的世界观和方法论习近平2018年5月4日，纪念马克思诞辰200周年...        1      2019 Q1  "
      ]
     },
     "execution_count": 1,
     "metadata": {},
     "output_type": "execute_result"
    }
   ],
   "source": [
    "import pandas as pd\n",
    "import sys\n",
    "sys.path.append('..')\n",
    "from processing_helper_functions import *\n",
    "\n",
    "articles = pd.read_csv('validated_qiushi_articles.csv')\n",
    "print(f\"Validated articles: {len(articles)}\")\n",
    "articles.head(1)"
   ]
  },
  {
   "cell_type": "code",
   "execution_count": 2,
   "metadata": {},
   "outputs": [
    {
     "data": {
      "text/html": [
       "<div>\n",
       "<style scoped>\n",
       "    .dataframe tbody tr th:only-of-type {\n",
       "        vertical-align: middle;\n",
       "    }\n",
       "\n",
       "    .dataframe tbody tr th {\n",
       "        vertical-align: top;\n",
       "    }\n",
       "\n",
       "    .dataframe thead th {\n",
       "        text-align: right;\n",
       "    }\n",
       "</style>\n",
       "<table border=\"1\" class=\"dataframe\">\n",
       "  <thead>\n",
       "    <tr style=\"text-align: right;\">\n",
       "      <th></th>\n",
       "      <th>authors</th>\n",
       "      <th>title</th>\n",
       "      <th>date</th>\n",
       "      <th>year</th>\n",
       "      <th>edition</th>\n",
       "      <th>url</th>\n",
       "      <th>text</th>\n",
       "      <th>quarter</th>\n",
       "      <th>year_quarter</th>\n",
       "      <th>cleaned_text</th>\n",
       "    </tr>\n",
       "  </thead>\n",
       "  <tbody>\n",
       "    <tr>\n",
       "      <th>0</th>\n",
       "      <td>习近平</td>\n",
       "      <td>辩证唯物主义是中国共产党人的世界观和方法论</td>\n",
       "      <td>2018-12-31</td>\n",
       "      <td>2019</td>\n",
       "      <td>1.0</td>\n",
       "      <td>http://www.qstheory.cn/dukan/qs/2018-12/31/c_1...</td>\n",
       "      <td>辩证唯物主义是中国共产党人的世界观和方法论习近平2018年5月4日，纪念马克思诞辰200周年...</td>\n",
       "      <td>1</td>\n",
       "      <td>2019 Q1</td>\n",
       "      <td>辩证唯物主义是中国共产党人的世界观和方法论习近平2018年5月4日纪念马克思诞辰200周年大...</td>\n",
       "    </tr>\n",
       "  </tbody>\n",
       "</table>\n",
       "</div>"
      ],
      "text/plain": [
       "  authors                  title        date  year  edition  \\\n",
       "0     习近平  辩证唯物主义是中国共产党人的世界观和方法论  2018-12-31  2019      1.0   \n",
       "\n",
       "                                                 url  \\\n",
       "0  http://www.qstheory.cn/dukan/qs/2018-12/31/c_1...   \n",
       "\n",
       "                                                text  quarter year_quarter  \\\n",
       "0  辩证唯物主义是中国共产党人的世界观和方法论习近平2018年5月4日，纪念马克思诞辰200周年...        1      2019 Q1   \n",
       "\n",
       "                                        cleaned_text  \n",
       "0  辩证唯物主义是中国共产党人的世界观和方法论习近平2018年5月4日纪念马克思诞辰200周年大...  "
      ]
     },
     "execution_count": 2,
     "metadata": {},
     "output_type": "execute_result"
    }
   ],
   "source": [
    "# remove punctuation\n",
    "articles['cleaned_text'] = articles['text'].map(remove_punctuation)\n",
    "articles.head(1)"
   ]
  },
  {
   "cell_type": "code",
   "execution_count": null,
   "metadata": {},
   "outputs": [
    {
     "name": "stderr",
     "output_type": "stream",
     "text": [
      "Building prefix dict from the default dictionary ...\n",
      "Dumping model to file cache /var/folders/r4/qqn8tv4d7g18t_5fsxt6y1340000gn/T/jieba.cache\n",
      "Loading model cost 0.295 seconds.\n",
      "Prefix dict has been built successfully.\n"
     ]
    },
    {
     "data": {
      "text/html": [
       "<div>\n",
       "<style scoped>\n",
       "    .dataframe tbody tr th:only-of-type {\n",
       "        vertical-align: middle;\n",
       "    }\n",
       "\n",
       "    .dataframe tbody tr th {\n",
       "        vertical-align: top;\n",
       "    }\n",
       "\n",
       "    .dataframe thead th {\n",
       "        text-align: right;\n",
       "    }\n",
       "</style>\n",
       "<table border=\"1\" class=\"dataframe\">\n",
       "  <thead>\n",
       "    <tr style=\"text-align: right;\">\n",
       "      <th></th>\n",
       "      <th>authors</th>\n",
       "      <th>title</th>\n",
       "      <th>date</th>\n",
       "      <th>year</th>\n",
       "      <th>edition</th>\n",
       "      <th>url</th>\n",
       "      <th>text</th>\n",
       "      <th>quarter</th>\n",
       "      <th>year_quarter</th>\n",
       "      <th>cleaned_text</th>\n",
       "      <th>cleaned_text_wspaces</th>\n",
       "    </tr>\n",
       "  </thead>\n",
       "  <tbody>\n",
       "    <tr>\n",
       "      <th>0</th>\n",
       "      <td>习近平</td>\n",
       "      <td>辩证唯物主义是中国共产党人的世界观和方法论</td>\n",
       "      <td>2018-12-31</td>\n",
       "      <td>2019</td>\n",
       "      <td>1.0</td>\n",
       "      <td>http://www.qstheory.cn/dukan/qs/2018-12/31/c_1...</td>\n",
       "      <td>辩证唯物主义是中国共产党人的世界观和方法论习近平2018年5月4日，纪念马克思诞辰200周年...</td>\n",
       "      <td>1</td>\n",
       "      <td>2019 Q1</td>\n",
       "      <td>辩证唯物主义是中国共产党人的世界观和方法论习近平2018年5月4日纪念马克思诞辰200周年大...</td>\n",
       "      <td>辩证唯物主义 是 中国共产党 人 的 世界观 和 方法论 习近平 2018 年 5 月 4 ...</td>\n",
       "    </tr>\n",
       "  </tbody>\n",
       "</table>\n",
       "</div>"
      ],
      "text/plain": [
       "  authors                  title        date  year  edition  \\\n",
       "0     习近平  辩证唯物主义是中国共产党人的世界观和方法论  2018-12-31  2019      1.0   \n",
       "\n",
       "                                                 url  \\\n",
       "0  http://www.qstheory.cn/dukan/qs/2018-12/31/c_1...   \n",
       "\n",
       "                                                text  quarter year_quarter  \\\n",
       "0  辩证唯物主义是中国共产党人的世界观和方法论习近平2018年5月4日，纪念马克思诞辰200周年...        1      2019 Q1   \n",
       "\n",
       "                                        cleaned_text  \\\n",
       "0  辩证唯物主义是中国共产党人的世界观和方法论习近平2018年5月4日纪念马克思诞辰200周年大...   \n",
       "\n",
       "                                cleaned_text_wspaces  \n",
       "0  辩证唯物主义 是 中国共产党 人 的 世界观 和 方法论 习近平 2018 年 5 月 4 ...  "
      ]
     },
     "execution_count": 3,
     "metadata": {},
     "output_type": "execute_result"
    }
   ],
   "source": [
    "# add spaces to the text, necessary for some analysis\n",
    "articles['cleaned_text_wspaces'] = articles[\"cleaned_text\"].map(lambda x: parse_chinese(x))\n",
    "articles.head(1)"
   ]
  },
  {
   "cell_type": "code",
   "execution_count": 4,
   "metadata": {},
   "outputs": [
    {
     "name": "stderr",
     "output_type": "stream",
     "text": [
      "[nltk_data] Downloading package punkt to\n",
      "[nltk_data]     /Users/calebharding/nltk_data...\n",
      "[nltk_data]   Package punkt is already up-to-date!\n"
     ]
    },
    {
     "data": {
      "text/plain": [
       "True"
      ]
     },
     "execution_count": 4,
     "metadata": {},
     "output_type": "execute_result"
    }
   ],
   "source": [
    "import nltk\n",
    "from nltk.tokenize import word_tokenize\n",
    "from nltk.util import ngrams\n",
    "nltk.download('punkt')"
   ]
  },
  {
   "cell_type": "code",
   "execution_count": 5,
   "metadata": {},
   "outputs": [],
   "source": [
    "def get_ngrams(text, n):\n",
    "    n_grams = ngrams(word_tokenize(text), n)\n",
    "    return [ ''.join(grams) for grams in n_grams]\n",
    "\n",
    "articles['unigram'] = articles['cleaned_text_wspaces'].map(lambda x: get_ngrams(x, 1))"
   ]
  },
  {
   "cell_type": "code",
   "execution_count": 6,
   "metadata": {},
   "outputs": [],
   "source": [
    "articles['bigram'] = articles['cleaned_text_wspaces'].map(lambda x: get_ngrams(x, 2))"
   ]
  },
  {
   "cell_type": "code",
   "execution_count": 7,
   "metadata": {},
   "outputs": [
    {
     "data": {
      "text/html": [
       "<div>\n",
       "<style scoped>\n",
       "    .dataframe tbody tr th:only-of-type {\n",
       "        vertical-align: middle;\n",
       "    }\n",
       "\n",
       "    .dataframe tbody tr th {\n",
       "        vertical-align: top;\n",
       "    }\n",
       "\n",
       "    .dataframe thead th {\n",
       "        text-align: right;\n",
       "    }\n",
       "</style>\n",
       "<table border=\"1\" class=\"dataframe\">\n",
       "  <thead>\n",
       "    <tr style=\"text-align: right;\">\n",
       "      <th></th>\n",
       "      <th>authors</th>\n",
       "      <th>title</th>\n",
       "      <th>date</th>\n",
       "      <th>year</th>\n",
       "      <th>edition</th>\n",
       "      <th>url</th>\n",
       "      <th>text</th>\n",
       "      <th>quarter</th>\n",
       "      <th>year_quarter</th>\n",
       "      <th>cleaned_text</th>\n",
       "      <th>cleaned_text_wspaces</th>\n",
       "      <th>unigram</th>\n",
       "      <th>bigram</th>\n",
       "    </tr>\n",
       "  </thead>\n",
       "  <tbody>\n",
       "    <tr>\n",
       "      <th>0</th>\n",
       "      <td>['习近平']</td>\n",
       "      <td>辩证唯物主义是中国共产党人的世界观和方法论</td>\n",
       "      <td>2018-12-31</td>\n",
       "      <td>2019</td>\n",
       "      <td>1.0</td>\n",
       "      <td>http://www.qstheory.cn/dukan/qs/2018-12/31/c_1...</td>\n",
       "      <td>辩证唯物主义是中国共产党人的世界观和方法论习近平2018年5月4日，纪念马克思诞辰200周年...</td>\n",
       "      <td>1</td>\n",
       "      <td>2019 Q1</td>\n",
       "      <td>辩证唯物主义是中国共产党人的世界观和方法论习近平2018年5月4日纪念马克思诞辰200周年大...</td>\n",
       "      <td>辩证唯物主义 是 中国共产党 人 的 世界观 和 方法论 习近平 2018 年 5 月 4 ...</td>\n",
       "      <td>[辩证唯物主义, 是, 中国共产党, 人, 的, 世界观, 和, 方法论, 习近平, 201...</td>\n",
       "      <td>[辩证唯物主义是, 是中国共产党, 中国共产党人, 人的, 的世界观, 世界观和, 和方法论...</td>\n",
       "    </tr>\n",
       "  </tbody>\n",
       "</table>\n",
       "</div>"
      ],
      "text/plain": [
       "   authors                  title        date  year  edition  \\\n",
       "0  ['习近平']  辩证唯物主义是中国共产党人的世界观和方法论  2018-12-31  2019      1.0   \n",
       "\n",
       "                                                 url  \\\n",
       "0  http://www.qstheory.cn/dukan/qs/2018-12/31/c_1...   \n",
       "\n",
       "                                                text  quarter year_quarter  \\\n",
       "0  辩证唯物主义是中国共产党人的世界观和方法论习近平2018年5月4日，纪念马克思诞辰200周年...        1      2019 Q1   \n",
       "\n",
       "                                        cleaned_text  \\\n",
       "0  辩证唯物主义是中国共产党人的世界观和方法论习近平2018年5月4日纪念马克思诞辰200周年大...   \n",
       "\n",
       "                                cleaned_text_wspaces  \\\n",
       "0  辩证唯物主义 是 中国共产党 人 的 世界观 和 方法论 习近平 2018 年 5 月 4 ...   \n",
       "\n",
       "                                             unigram  \\\n",
       "0  [辩证唯物主义, 是, 中国共产党, 人, 的, 世界观, 和, 方法论, 习近平, 201...   \n",
       "\n",
       "                                              bigram  \n",
       "0  [辩证唯物主义是, 是中国共产党, 中国共产党人, 人的, 的世界观, 世界观和, 和方法论...  "
      ]
     },
     "execution_count": 7,
     "metadata": {},
     "output_type": "execute_result"
    }
   ],
   "source": [
    "articles.head(1)"
   ]
  },
  {
   "cell_type": "code",
   "execution_count": 8,
   "metadata": {},
   "outputs": [
    {
     "data": {
      "text/html": [
       "<div>\n",
       "<style scoped>\n",
       "    .dataframe tbody tr th:only-of-type {\n",
       "        vertical-align: middle;\n",
       "    }\n",
       "\n",
       "    .dataframe tbody tr th {\n",
       "        vertical-align: top;\n",
       "    }\n",
       "\n",
       "    .dataframe thead th {\n",
       "        text-align: right;\n",
       "    }\n",
       "</style>\n",
       "<table border=\"1\" class=\"dataframe\">\n",
       "  <thead>\n",
       "    <tr style=\"text-align: right;\">\n",
       "      <th></th>\n",
       "      <th>authors</th>\n",
       "      <th>title</th>\n",
       "      <th>date</th>\n",
       "      <th>year</th>\n",
       "      <th>edition</th>\n",
       "      <th>url</th>\n",
       "      <th>text</th>\n",
       "      <th>quarter</th>\n",
       "      <th>year_quarter</th>\n",
       "      <th>cleaned_text</th>\n",
       "      <th>cleaned_text_wspaces</th>\n",
       "      <th>unigram</th>\n",
       "      <th>bigram</th>\n",
       "      <th>unigram_count</th>\n",
       "      <th>bigram_count</th>\n",
       "    </tr>\n",
       "  </thead>\n",
       "  <tbody>\n",
       "    <tr>\n",
       "      <th>0</th>\n",
       "      <td>['习近平']</td>\n",
       "      <td>辩证唯物主义是中国共产党人的世界观和方法论</td>\n",
       "      <td>2018-12-31</td>\n",
       "      <td>2019</td>\n",
       "      <td>1.0</td>\n",
       "      <td>http://www.qstheory.cn/dukan/qs/2018-12/31/c_1...</td>\n",
       "      <td>辩证唯物主义是中国共产党人的世界观和方法论习近平2018年5月4日，纪念马克思诞辰200周年...</td>\n",
       "      <td>1</td>\n",
       "      <td>2019 Q1</td>\n",
       "      <td>辩证唯物主义是中国共产党人的世界观和方法论习近平2018年5月4日纪念马克思诞辰200周年大...</td>\n",
       "      <td>辩证唯物主义 是 中国共产党 人 的 世界观 和 方法论 习近平 2018 年 5 月 4 ...</td>\n",
       "      <td>[辩证唯物主义, 是, 中国共产党, 人, 的, 世界观, 和, 方法论, 习近平, 201...</td>\n",
       "      <td>[辩证唯物主义是, 是中国共产党, 中国共产党人, 人的, 的世界观, 世界观和, 和方法论...</td>\n",
       "      <td>{'的': 139, '和': 54, '我们': 32, '矛盾': 32, '是': 2...</td>\n",
       "      <td>{'客观实际': 8, '的矛盾': 7, '矛盾的': 7, '世界观和': 6, '和方...</td>\n",
       "    </tr>\n",
       "  </tbody>\n",
       "</table>\n",
       "</div>"
      ],
      "text/plain": [
       "   authors                  title        date  year  edition  \\\n",
       "0  ['习近平']  辩证唯物主义是中国共产党人的世界观和方法论  2018-12-31  2019      1.0   \n",
       "\n",
       "                                                 url  \\\n",
       "0  http://www.qstheory.cn/dukan/qs/2018-12/31/c_1...   \n",
       "\n",
       "                                                text  quarter year_quarter  \\\n",
       "0  辩证唯物主义是中国共产党人的世界观和方法论习近平2018年5月4日，纪念马克思诞辰200周年...        1      2019 Q1   \n",
       "\n",
       "                                        cleaned_text  \\\n",
       "0  辩证唯物主义是中国共产党人的世界观和方法论习近平2018年5月4日纪念马克思诞辰200周年大...   \n",
       "\n",
       "                                cleaned_text_wspaces  \\\n",
       "0  辩证唯物主义 是 中国共产党 人 的 世界观 和 方法论 习近平 2018 年 5 月 4 ...   \n",
       "\n",
       "                                             unigram  \\\n",
       "0  [辩证唯物主义, 是, 中国共产党, 人, 的, 世界观, 和, 方法论, 习近平, 201...   \n",
       "\n",
       "                                              bigram  \\\n",
       "0  [辩证唯物主义是, 是中国共产党, 中国共产党人, 人的, 的世界观, 世界观和, 和方法论...   \n",
       "\n",
       "                                       unigram_count  \\\n",
       "0  {'的': 139, '和': 54, '我们': 32, '矛盾': 32, '是': 2...   \n",
       "\n",
       "                                        bigram_count  \n",
       "0  {'客观实际': 8, '的矛盾': 7, '矛盾的': 7, '世界观和': 6, '和方...  "
      ]
     },
     "execution_count": 8,
     "metadata": {},
     "output_type": "execute_result"
    }
   ],
   "source": [
    "# create unigram count dictionary\n",
    "def ngram_counts(ngram):\n",
    "    # create word count dictionary\n",
    "    word_count = {}\n",
    "\n",
    "    for word in ngram:\n",
    "        if word in word_count.keys():\n",
    "            cur_val = word_count[word]\n",
    "            cur_val += 1\n",
    "            word_count[word] = cur_val\n",
    "        else:\n",
    "            word_count[word] = 1\n",
    "\n",
    "    # sort the dictionary\n",
    "    word_count = {k: v for k, v in sorted(word_count.items(), key=lambda item: item[1], reverse=True)}\n",
    "\n",
    "    return word_count\n",
    "\n",
    "articles['unigram_count'] = articles[\"unigram\"].map(lambda x: ngram_counts(x))\n",
    "articles['bigram_count'] = articles[\"bigram\"].map(lambda x: ngram_counts(x))\n",
    "\n",
    "articles.head(1)"
   ]
  },
  {
   "cell_type": "code",
   "execution_count": 9,
   "metadata": {},
   "outputs": [],
   "source": [
    "articles.to_csv('processed_qiushi_articles.csv', index=False)"
   ]
  },
  {
   "cell_type": "code",
   "execution_count": null,
   "metadata": {},
   "outputs": [],
   "source": []
  }
 ],
 "metadata": {
  "kernelspec": {
   "display_name": "qiushi_venv",
   "language": "python",
   "name": "python3"
  },
  "language_info": {
   "codemirror_mode": {
    "name": "ipython",
    "version": 3
   },
   "file_extension": ".py",
   "mimetype": "text/x-python",
   "name": "python",
   "nbconvert_exporter": "python",
   "pygments_lexer": "ipython3",
   "version": "3.11.6"
  }
 },
 "nbformat": 4,
 "nbformat_minor": 2
}

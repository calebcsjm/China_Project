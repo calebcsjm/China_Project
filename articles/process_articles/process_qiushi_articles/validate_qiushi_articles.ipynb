{
 "cells": [
  {
   "cell_type": "code",
   "execution_count": 76,
   "metadata": {},
   "outputs": [],
   "source": [
    "import pandas as pd"
   ]
  },
  {
   "cell_type": "code",
   "execution_count": 77,
   "metadata": {},
   "outputs": [
    {
     "name": "stdout",
     "output_type": "stream",
     "text": [
      "Total number of articles scraped: 2181\n"
     ]
    }
   ],
   "source": [
    "articles = pd.read_csv('/Users/calebharding/Documents/BYU/2023-2024/China_Project/articles/scrape_articles/get_qiushi_articles/all_qiushi_articles.csv')\n",
    "print(f\"Total number of articles scraped: {len(articles)}\")"
   ]
  },
  {
   "cell_type": "code",
   "execution_count": 78,
   "metadata": {},
   "outputs": [
    {
     "data": {
      "text/plain": [
       "0"
      ]
     },
     "execution_count": 78,
     "metadata": {},
     "output_type": "execute_result"
    }
   ],
   "source": [
    "missing_year = articles[articles['year'].isnull()]\n",
    "# missing_year.to_csv('missing_year.csv')\n",
    "len(missing_year)"
   ]
  },
  {
   "cell_type": "code",
   "execution_count": 79,
   "metadata": {},
   "outputs": [
    {
     "name": "stdout",
     "output_type": "stream",
     "text": [
      "Number of articles after dropping missing years: 2181\n"
     ]
    }
   ],
   "source": [
    "def determine_edition_quarter(edition_number):\n",
    "    if edition_number in range(1,7):\n",
    "        return 1\n",
    "    elif edition_number in range(7,13):\n",
    "        return 2\n",
    "    elif edition_number in range(13, 19):\n",
    "        return 3\n",
    "    else:\n",
    "        return 4\n",
    "    \n",
    "def combine_year_quarter(row):\n",
    "    return str(row[\"year\"]) + \" Q\" + str(row[\"quarter\"])\n",
    "\n",
    "# drop articles without a year\n",
    "articles = articles.dropna(subset=[\"year\"])\n",
    "print(f\"Number of articles after dropping missing years: {len(articles)}\")\n",
    "    \n",
    "# add a column for the quarter\n",
    "articles[\"quarter\"] = articles['edition'].map(lambda x: determine_edition_quarter(x))\n",
    "\n",
    "# add a column for the year/quarter combo\n",
    "articles = articles.astype({\"year\": int})\n",
    "articles[\"year_quarter\"] = articles.apply(combine_year_quarter, axis=1)"
   ]
  },
  {
   "cell_type": "code",
   "execution_count": 80,
   "metadata": {},
   "outputs": [
    {
     "name": "stdout",
     "output_type": "stream",
     "text": [
      "Number of articles after dropping those with no text: 2058\n"
     ]
    }
   ],
   "source": [
    "# verify that the textless articles are what we think - statistical reports, not just\n",
    "# articles that failed to scrape\n",
    "textless_articles = articles[articles['text'].isnull()]\n",
    "textless_articles.to_csv('textless_articles.csv')\n",
    "\n",
    "articles.dropna(subset=['text'], inplace=True)\n",
    "print(f'Number of articles after dropping those with no text: {len(articles)}')"
   ]
  },
  {
   "cell_type": "code",
   "execution_count": 81,
   "metadata": {},
   "outputs": [
    {
     "name": "stdout",
     "output_type": "stream",
     "text": [
      "Number of articles after dropping duplicate links: 2042\n"
     ]
    }
   ],
   "source": [
    "# somehow some duplicates of Xi Jinping's speeches got in there... cause their website is dumb. They have duplicate links though\n",
    "\n",
    "# go through all the articles, add their link to a set, if the link is already in the set, drop it\n",
    "link_set = set()\n",
    "\n",
    "for index, row in articles.iterrows():\n",
    "    if row['url'] in link_set:\n",
    "        articles.drop(index, inplace=True)\n",
    "    else:\n",
    "        link_set.add(row['url'])\n",
    "\n",
    "print(f'Number of articles after dropping duplicate links: {len(articles)}')"
   ]
  },
  {
   "cell_type": "code",
   "execution_count": 82,
   "metadata": {},
   "outputs": [
    {
     "name": "stdout",
     "output_type": "stream",
     "text": [
      "Suspected top-level links: 16\n",
      "Top-level links: 13\n"
     ]
    }
   ],
   "source": [
    "# drop articles that are top-level articles with duplicate text contained - they have three+ articles\n",
    "# from the same edition copied inside of them\n",
    "suspected_toplevel = articles[articles.text.str.contains('编者按')]\n",
    "suspected_toplevel['url'].to_csv('suspected_toplevel.csv')\n",
    "toplevel_links = list(suspected_toplevel['url'])\n",
    "print(f'Suspected top-level links: {len(toplevel_links)}')\n",
    "\n",
    "# remove the few links that are actually legit (determined by looking at all 16)\n",
    "legit_links = ['http://www.qstheory.cn/dukan/qs/2019-01/16/c_1123987212.htm',\n",
    "               'http://www.qstheory.cn/dukan/qs/2019-01/16/c_1123987342.htm',\n",
    "               'http://www.qstheory.cn/dukan/qs/2019-07/01/c_1124690404.htm']\n",
    "for link in legit_links:\n",
    "    toplevel_links.remove(link)\n",
    "print(f'Top-level links: {len(toplevel_links)}')"
   ]
  },
  {
   "cell_type": "code",
   "execution_count": 83,
   "metadata": {},
   "outputs": [
    {
     "name": "stdout",
     "output_type": "stream",
     "text": [
      "Number of articles after dropping top-level entries: 2029\n"
     ]
    }
   ],
   "source": [
    "# drop the articles\n",
    "articles = articles[~articles['url'].isin(toplevel_links)]\n",
    "print(f'Number of articles after dropping top-level entries: {len(articles)}')"
   ]
  },
  {
   "cell_type": "code",
   "execution_count": 84,
   "metadata": {},
   "outputs": [
    {
     "name": "stdout",
     "output_type": "stream",
     "text": [
      "Number of articles after dropping 2024 entries: 1998\n"
     ]
    }
   ],
   "source": [
    "# for the sake of consistency, drop the articles that are from 2024, since there \n",
    "# isn't a complete quarter yet\n",
    "articles = articles[articles['year'] != 2024]\n",
    "print(f'Number of articles after dropping 2024 entries: {len(articles)}')"
   ]
  },
  {
   "cell_type": "code",
   "execution_count": 85,
   "metadata": {},
   "outputs": [],
   "source": [
    "# sort it by date\n",
    "articles.sort_values(by='date', inplace=True)"
   ]
  },
  {
   "cell_type": "code",
   "execution_count": 86,
   "metadata": {},
   "outputs": [
    {
     "data": {
      "text/html": [
       "<div>\n",
       "<style scoped>\n",
       "    .dataframe tbody tr th:only-of-type {\n",
       "        vertical-align: middle;\n",
       "    }\n",
       "\n",
       "    .dataframe tbody tr th {\n",
       "        vertical-align: top;\n",
       "    }\n",
       "\n",
       "    .dataframe thead th {\n",
       "        text-align: right;\n",
       "    }\n",
       "</style>\n",
       "<table border=\"1\" class=\"dataframe\">\n",
       "  <thead>\n",
       "    <tr style=\"text-align: right;\">\n",
       "      <th></th>\n",
       "      <th>authors</th>\n",
       "      <th>title</th>\n",
       "      <th>date</th>\n",
       "      <th>year</th>\n",
       "      <th>edition</th>\n",
       "      <th>url</th>\n",
       "      <th>text</th>\n",
       "      <th>quarter</th>\n",
       "      <th>year_quarter</th>\n",
       "    </tr>\n",
       "  </thead>\n",
       "  <tbody>\n",
       "    <tr>\n",
       "      <th>1790</th>\n",
       "      <td>['习近平']</td>\n",
       "      <td>辩证唯物主义是中国共产党人的世界观和方法论</td>\n",
       "      <td>2018-12-31</td>\n",
       "      <td>2019</td>\n",
       "      <td>1.0</td>\n",
       "      <td>http://www.qstheory.cn/dukan/qs/2018-12/31/c_1...</td>\n",
       "      <td>辩证唯物主义是中国共产党人的世界观和方法论习近平2018年5月4日，纪念马克思诞辰200周年...</td>\n",
       "      <td>1</td>\n",
       "      <td>2019 Q1</td>\n",
       "    </tr>\n",
       "    <tr>\n",
       "      <th>1799</th>\n",
       "      <td>['刘雅鸣', '陈聪', '李亚楠', '宋晓东']</td>\n",
       "      <td>兰考：会它千顷澄碧</td>\n",
       "      <td>2019-01-01</td>\n",
       "      <td>2019</td>\n",
       "      <td>1.0</td>\n",
       "      <td>http://www.qstheory.cn/dukan/qs/2019-01/01/c_1...</td>\n",
       "      <td>焦裕禄当年亲手栽下的幼桐已长成大树，人们亲切地叫它“焦桐”。 新华社记者 冯大鹏/摄兰考谷营...</td>\n",
       "      <td>1</td>\n",
       "      <td>2019 Q1</td>\n",
       "    </tr>\n",
       "    <tr>\n",
       "      <th>1804</th>\n",
       "      <td>['国家统计局']</td>\n",
       "      <td>经济社会发展统计：改革开放40年辉煌成就（经济篇）</td>\n",
       "      <td>2019-01-01</td>\n",
       "      <td>2019</td>\n",
       "      <td>1.0</td>\n",
       "      <td>http://www.qstheory.cn/dukan/qs/2019-01/01/c_1...</td>\n",
       "      <td>我国国民经济主要指标注：国内生产总值增速按可比价计算，2017年国内生产总值总量不等于各产业...</td>\n",
       "      <td>1</td>\n",
       "      <td>2019 Q1</td>\n",
       "    </tr>\n",
       "    <tr>\n",
       "      <th>1803</th>\n",
       "      <td>['《中直党建》评论员']</td>\n",
       "      <td>多敲警钟才能少敲丧钟</td>\n",
       "      <td>2019-01-01</td>\n",
       "      <td>2019</td>\n",
       "      <td>1.0</td>\n",
       "      <td>http://www.qstheory.cn/dukan/qs/2019-01/01/c_1...</td>\n",
       "      <td>中央和国家机关警示教育大会，对各部门开展党风廉政警示教育活动进行了部署。落实好会议精神，把警...</td>\n",
       "      <td>1</td>\n",
       "      <td>2019 Q1</td>\n",
       "    </tr>\n",
       "    <tr>\n",
       "      <th>1802</th>\n",
       "      <td>['李君']</td>\n",
       "      <td>学理论是党员领导干部的责任</td>\n",
       "      <td>2019-01-01</td>\n",
       "      <td>2019</td>\n",
       "      <td>1.0</td>\n",
       "      <td>http://www.qstheory.cn/dukan/qs/2019-01/01/c_1...</td>\n",
       "      <td>编辑同志：我是广西南宁的一名基层理论工作者，从事理论工作近20年了。在长期工作实践中，我深深...</td>\n",
       "      <td>1</td>\n",
       "      <td>2019 Q1</td>\n",
       "    </tr>\n",
       "  </tbody>\n",
       "</table>\n",
       "</div>"
      ],
      "text/plain": [
       "                          authors                      title        date  \\\n",
       "1790                      ['习近平']      辩证唯物主义是中国共产党人的世界观和方法论  2018-12-31   \n",
       "1799  ['刘雅鸣', '陈聪', '李亚楠', '宋晓东']                  兰考：会它千顷澄碧  2019-01-01   \n",
       "1804                    ['国家统计局']  经济社会发展统计：改革开放40年辉煌成就（经济篇）  2019-01-01   \n",
       "1803                ['《中直党建》评论员']                 多敲警钟才能少敲丧钟  2019-01-01   \n",
       "1802                       ['李君']              学理论是党员领导干部的责任  2019-01-01   \n",
       "\n",
       "      year  edition                                                url  \\\n",
       "1790  2019      1.0  http://www.qstheory.cn/dukan/qs/2018-12/31/c_1...   \n",
       "1799  2019      1.0  http://www.qstheory.cn/dukan/qs/2019-01/01/c_1...   \n",
       "1804  2019      1.0  http://www.qstheory.cn/dukan/qs/2019-01/01/c_1...   \n",
       "1803  2019      1.0  http://www.qstheory.cn/dukan/qs/2019-01/01/c_1...   \n",
       "1802  2019      1.0  http://www.qstheory.cn/dukan/qs/2019-01/01/c_1...   \n",
       "\n",
       "                                                   text  quarter year_quarter  \n",
       "1790  辩证唯物主义是中国共产党人的世界观和方法论习近平2018年5月4日，纪念马克思诞辰200周年...        1      2019 Q1  \n",
       "1799  焦裕禄当年亲手栽下的幼桐已长成大树，人们亲切地叫它“焦桐”。 新华社记者 冯大鹏/摄兰考谷营...        1      2019 Q1  \n",
       "1804  我国国民经济主要指标注：国内生产总值增速按可比价计算，2017年国内生产总值总量不等于各产业...        1      2019 Q1  \n",
       "1803  中央和国家机关警示教育大会，对各部门开展党风廉政警示教育活动进行了部署。落实好会议精神，把警...        1      2019 Q1  \n",
       "1802  编辑同志：我是广西南宁的一名基层理论工作者，从事理论工作近20年了。在长期工作实践中，我深深...        1      2019 Q1  "
      ]
     },
     "execution_count": 86,
     "metadata": {},
     "output_type": "execute_result"
    }
   ],
   "source": [
    "articles.head(5)"
   ]
  },
  {
   "cell_type": "code",
   "execution_count": 87,
   "metadata": {},
   "outputs": [
    {
     "data": {
      "text/plain": [
       "authors         289\n",
       "title             0\n",
       "date              0\n",
       "year              0\n",
       "edition           0\n",
       "url               0\n",
       "text              0\n",
       "quarter           0\n",
       "year_quarter      0\n",
       "dtype: int64"
      ]
     },
     "execution_count": 87,
     "metadata": {},
     "output_type": "execute_result"
    }
   ],
   "source": [
    "articles.isna().sum()"
   ]
  },
  {
   "cell_type": "code",
   "execution_count": 88,
   "metadata": {},
   "outputs": [],
   "source": [
    "# convert the authors to a string format so it matches the ASX format\n",
    "# when pulling from a CSV, pandas does not store the cell as a list, but as a string\n",
    "\n",
    "from ast import literal_eval\n",
    "\n",
    "# fill the missing values so they don't throw errors\n",
    "articles['authors'] = articles['authors'].fillna(\"\")\n",
    "\n",
    "from ast import literal_eval\n",
    "\n",
    "for index, row in articles.iterrows():\n",
    "    if row['authors'] != \"\":\n",
    "        author_list = literal_eval(row['authors'])\n",
    "        authors = \" \".join(author_list)\n",
    "        row['authors'] = authors\n",
    "\n",
    "        articles.loc[index] = row\n"
   ]
  },
  {
   "cell_type": "code",
   "execution_count": 90,
   "metadata": {},
   "outputs": [
    {
     "data": {
      "text/html": [
       "<div>\n",
       "<style scoped>\n",
       "    .dataframe tbody tr th:only-of-type {\n",
       "        vertical-align: middle;\n",
       "    }\n",
       "\n",
       "    .dataframe tbody tr th {\n",
       "        vertical-align: top;\n",
       "    }\n",
       "\n",
       "    .dataframe thead th {\n",
       "        text-align: right;\n",
       "    }\n",
       "</style>\n",
       "<table border=\"1\" class=\"dataframe\">\n",
       "  <thead>\n",
       "    <tr style=\"text-align: right;\">\n",
       "      <th></th>\n",
       "      <th>authors</th>\n",
       "      <th>title</th>\n",
       "      <th>date</th>\n",
       "      <th>year</th>\n",
       "      <th>edition</th>\n",
       "      <th>url</th>\n",
       "      <th>text</th>\n",
       "      <th>quarter</th>\n",
       "      <th>year_quarter</th>\n",
       "    </tr>\n",
       "  </thead>\n",
       "  <tbody>\n",
       "    <tr>\n",
       "      <th>1790</th>\n",
       "      <td>习近平</td>\n",
       "      <td>辩证唯物主义是中国共产党人的世界观和方法论</td>\n",
       "      <td>2018-12-31</td>\n",
       "      <td>2019</td>\n",
       "      <td>1.0</td>\n",
       "      <td>http://www.qstheory.cn/dukan/qs/2018-12/31/c_1...</td>\n",
       "      <td>辩证唯物主义是中国共产党人的世界观和方法论习近平2018年5月4日，纪念马克思诞辰200周年...</td>\n",
       "      <td>1</td>\n",
       "      <td>2019 Q1</td>\n",
       "    </tr>\n",
       "    <tr>\n",
       "      <th>1799</th>\n",
       "      <td>刘雅鸣 陈聪 李亚楠 宋晓东</td>\n",
       "      <td>兰考：会它千顷澄碧</td>\n",
       "      <td>2019-01-01</td>\n",
       "      <td>2019</td>\n",
       "      <td>1.0</td>\n",
       "      <td>http://www.qstheory.cn/dukan/qs/2019-01/01/c_1...</td>\n",
       "      <td>焦裕禄当年亲手栽下的幼桐已长成大树，人们亲切地叫它“焦桐”。 新华社记者 冯大鹏/摄兰考谷营...</td>\n",
       "      <td>1</td>\n",
       "      <td>2019 Q1</td>\n",
       "    </tr>\n",
       "    <tr>\n",
       "      <th>1804</th>\n",
       "      <td>国家统计局</td>\n",
       "      <td>经济社会发展统计：改革开放40年辉煌成就（经济篇）</td>\n",
       "      <td>2019-01-01</td>\n",
       "      <td>2019</td>\n",
       "      <td>1.0</td>\n",
       "      <td>http://www.qstheory.cn/dukan/qs/2019-01/01/c_1...</td>\n",
       "      <td>我国国民经济主要指标注：国内生产总值增速按可比价计算，2017年国内生产总值总量不等于各产业...</td>\n",
       "      <td>1</td>\n",
       "      <td>2019 Q1</td>\n",
       "    </tr>\n",
       "    <tr>\n",
       "      <th>1803</th>\n",
       "      <td>《中直党建》评论员</td>\n",
       "      <td>多敲警钟才能少敲丧钟</td>\n",
       "      <td>2019-01-01</td>\n",
       "      <td>2019</td>\n",
       "      <td>1.0</td>\n",
       "      <td>http://www.qstheory.cn/dukan/qs/2019-01/01/c_1...</td>\n",
       "      <td>中央和国家机关警示教育大会，对各部门开展党风廉政警示教育活动进行了部署。落实好会议精神，把警...</td>\n",
       "      <td>1</td>\n",
       "      <td>2019 Q1</td>\n",
       "    </tr>\n",
       "    <tr>\n",
       "      <th>1802</th>\n",
       "      <td>李君</td>\n",
       "      <td>学理论是党员领导干部的责任</td>\n",
       "      <td>2019-01-01</td>\n",
       "      <td>2019</td>\n",
       "      <td>1.0</td>\n",
       "      <td>http://www.qstheory.cn/dukan/qs/2019-01/01/c_1...</td>\n",
       "      <td>编辑同志：我是广西南宁的一名基层理论工作者，从事理论工作近20年了。在长期工作实践中，我深深...</td>\n",
       "      <td>1</td>\n",
       "      <td>2019 Q1</td>\n",
       "    </tr>\n",
       "  </tbody>\n",
       "</table>\n",
       "</div>"
      ],
      "text/plain": [
       "             authors                      title        date  year  edition  \\\n",
       "1790             习近平      辩证唯物主义是中国共产党人的世界观和方法论  2018-12-31  2019      1.0   \n",
       "1799  刘雅鸣 陈聪 李亚楠 宋晓东                  兰考：会它千顷澄碧  2019-01-01  2019      1.0   \n",
       "1804           国家统计局  经济社会发展统计：改革开放40年辉煌成就（经济篇）  2019-01-01  2019      1.0   \n",
       "1803       《中直党建》评论员                 多敲警钟才能少敲丧钟  2019-01-01  2019      1.0   \n",
       "1802              李君              学理论是党员领导干部的责任  2019-01-01  2019      1.0   \n",
       "\n",
       "                                                    url  \\\n",
       "1790  http://www.qstheory.cn/dukan/qs/2018-12/31/c_1...   \n",
       "1799  http://www.qstheory.cn/dukan/qs/2019-01/01/c_1...   \n",
       "1804  http://www.qstheory.cn/dukan/qs/2019-01/01/c_1...   \n",
       "1803  http://www.qstheory.cn/dukan/qs/2019-01/01/c_1...   \n",
       "1802  http://www.qstheory.cn/dukan/qs/2019-01/01/c_1...   \n",
       "\n",
       "                                                   text  quarter year_quarter  \n",
       "1790  辩证唯物主义是中国共产党人的世界观和方法论习近平2018年5月4日，纪念马克思诞辰200周年...        1      2019 Q1  \n",
       "1799  焦裕禄当年亲手栽下的幼桐已长成大树，人们亲切地叫它“焦桐”。 新华社记者 冯大鹏/摄兰考谷营...        1      2019 Q1  \n",
       "1804  我国国民经济主要指标注：国内生产总值增速按可比价计算，2017年国内生产总值总量不等于各产业...        1      2019 Q1  \n",
       "1803  中央和国家机关警示教育大会，对各部门开展党风廉政警示教育活动进行了部署。落实好会议精神，把警...        1      2019 Q1  \n",
       "1802  编辑同志：我是广西南宁的一名基层理论工作者，从事理论工作近20年了。在长期工作实践中，我深深...        1      2019 Q1  "
      ]
     },
     "execution_count": 90,
     "metadata": {},
     "output_type": "execute_result"
    }
   ],
   "source": [
    "articles.head(5)"
   ]
  },
  {
   "cell_type": "code",
   "execution_count": 92,
   "metadata": {},
   "outputs": [],
   "source": [
    "articles.to_csv('validated_qiushi_articles.csv', index=False)"
   ]
  },
  {
   "cell_type": "code",
   "execution_count": null,
   "metadata": {},
   "outputs": [],
   "source": []
  }
 ],
 "metadata": {
  "kernelspec": {
   "display_name": "qiushi_venv",
   "language": "python",
   "name": "python3"
  },
  "language_info": {
   "codemirror_mode": {
    "name": "ipython",
    "version": 3
   },
   "file_extension": ".py",
   "mimetype": "text/x-python",
   "name": "python",
   "nbconvert_exporter": "python",
   "pygments_lexer": "ipython3",
   "version": "3.11.6"
  }
 },
 "nbformat": 4,
 "nbformat_minor": 2
}

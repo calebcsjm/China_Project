{
 "cells": [
  {
   "cell_type": "code",
   "execution_count": 1,
   "metadata": {},
   "outputs": [],
   "source": [
    "import pandas as pd"
   ]
  },
  {
   "cell_type": "code",
   "execution_count": 2,
   "metadata": {},
   "outputs": [
    {
     "name": "stdout",
     "output_type": "stream",
     "text": [
      "Total number of articles scraped: 2181\n"
     ]
    }
   ],
   "source": [
    "articles = pd.read_csv('../get_articles/all_articles.csv')\n",
    "print(f\"Total number of articles scraped: {len(articles)}\")"
   ]
  },
  {
   "cell_type": "code",
   "execution_count": 3,
   "metadata": {},
   "outputs": [
    {
     "data": {
      "text/plain": [
       "0"
      ]
     },
     "execution_count": 3,
     "metadata": {},
     "output_type": "execute_result"
    }
   ],
   "source": [
    "missing_year = articles[articles['year'].isnull()]\n",
    "# missing_year.to_csv('missing_year.csv')\n",
    "len(missing_year)"
   ]
  },
  {
   "cell_type": "code",
   "execution_count": 4,
   "metadata": {},
   "outputs": [
    {
     "name": "stdout",
     "output_type": "stream",
     "text": [
      "Number of articles after dropping missing years: 2181\n"
     ]
    }
   ],
   "source": [
    "def determine_edition_quarter(edition_number):\n",
    "    if edition_number in range(1,7):\n",
    "        return 1\n",
    "    elif edition_number in range(7,13):\n",
    "        return 2\n",
    "    elif edition_number in range(13, 19):\n",
    "        return 3\n",
    "    else:\n",
    "        return 4\n",
    "    \n",
    "def combine_year_quarter(row):\n",
    "    return str(row[\"year\"]) + \" Q\" + str(row[\"quarter\"])\n",
    "\n",
    "# drop articles without a year\n",
    "articles = articles.dropna(subset=[\"year\"])\n",
    "print(f\"Number of articles after dropping missing years: {len(articles)}\")\n",
    "    \n",
    "# add a column for the quarter\n",
    "articles[\"quarter\"] = articles['edition'].map(lambda x: determine_edition_quarter(x))\n",
    "\n",
    "# add a column for the year/quarter combo\n",
    "articles = articles.astype({\"year\": int})\n",
    "articles[\"year_quarter\"] = articles.apply(combine_year_quarter, axis=1)"
   ]
  },
  {
   "cell_type": "code",
   "execution_count": 5,
   "metadata": {},
   "outputs": [
    {
     "name": "stdout",
     "output_type": "stream",
     "text": [
      "Number of articles after dropping those with no text: 2058\n"
     ]
    }
   ],
   "source": [
    "# verify that the textless articles are what we think - statistical reports, not just\n",
    "# articles that failed to scrape\n",
    "textless_articles = articles[articles['text'].isnull()]\n",
    "textless_articles.to_csv('textless_articles.csv')\n",
    "\n",
    "articles.dropna(subset=['text'], inplace=True)\n",
    "print(f'Number of articles after dropping those with no text: {len(articles)}')"
   ]
  },
  {
   "cell_type": "code",
   "execution_count": 6,
   "metadata": {},
   "outputs": [
    {
     "name": "stdout",
     "output_type": "stream",
     "text": [
      "Suspected top-level links: 16\n",
      "Top-level links: 13\n"
     ]
    }
   ],
   "source": [
    "# drop articles that are top-level articles with duplicate text contained - they have three+ articles\n",
    "# from the same edition copied inside of them\n",
    "suspected_toplevel = articles[articles.text.str.contains('编者按')]\n",
    "suspected_toplevel['url'].to_csv('suspected_toplevel.csv')\n",
    "toplevel_links = list(suspected_toplevel['url'])\n",
    "print(f'Suspected top-level links: {len(toplevel_links)}')\n",
    "\n",
    "# remove the few links that are actually legit (determined by looking at all 16)\n",
    "legit_links = ['http://www.qstheory.cn/dukan/qs/2019-01/16/c_1123987212.htm',\n",
    "               'http://www.qstheory.cn/dukan/qs/2019-01/16/c_1123987342.htm',\n",
    "               'http://www.qstheory.cn/dukan/qs/2019-07/01/c_1124690404.htm']\n",
    "for link in legit_links:\n",
    "    toplevel_links.remove(link)\n",
    "print(f'Top-level links: {len(toplevel_links)}')"
   ]
  },
  {
   "cell_type": "code",
   "execution_count": 7,
   "metadata": {},
   "outputs": [
    {
     "name": "stdout",
     "output_type": "stream",
     "text": [
      "Number of articles after dropping top-level entries: 2045\n"
     ]
    }
   ],
   "source": [
    "# drop the articles\n",
    "articles = articles[~articles['url'].isin(toplevel_links)]\n",
    "print(f'Number of articles after dropping top-level entries: {len(articles)}')"
   ]
  },
  {
   "cell_type": "code",
   "execution_count": 8,
   "metadata": {},
   "outputs": [
    {
     "name": "stdout",
     "output_type": "stream",
     "text": [
      "Number of articles after dropping 2024 entries: 2014\n"
     ]
    }
   ],
   "source": [
    "# for the sake of consistency, drop the articles that are from 2024, since there \n",
    "# isn't a complete quarter yet\n",
    "articles = articles[articles['year'] != 2024]\n",
    "print(f'Number of articles after dropping 2024 entries: {len(articles)}')"
   ]
  },
  {
   "cell_type": "code",
   "execution_count": 9,
   "metadata": {},
   "outputs": [
    {
     "name": "stdout",
     "output_type": "stream",
     "text": [
      "Number of articles after dropping duplicate links: 1998\n"
     ]
    }
   ],
   "source": [
    "# somehow some duplicates of Xi Jinping's speeches got in there... cause their website is dumb. They have duplicate links though\n",
    "\n",
    "# go through all the articles, add their link to a set, if the link is already in the set, drop it\n",
    "link_set = set()\n",
    "\n",
    "for index, row in articles.iterrows():\n",
    "    if row['url'] in link_set:\n",
    "        articles.drop(index, inplace=True)\n",
    "    else:\n",
    "        link_set.add(row['url'])\n",
    "\n",
    "print(f'Number of articles after dropping duplicate links: {len(articles)}')"
   ]
  },
  {
   "cell_type": "code",
   "execution_count": 10,
   "metadata": {},
   "outputs": [],
   "source": [
    "# sort it by date\n",
    "articles.sort_values(by='date', inplace=True)"
   ]
  },
  {
   "cell_type": "code",
   "execution_count": 11,
   "metadata": {},
   "outputs": [
    {
     "data": {
      "text/html": [
       "<div>\n",
       "<style scoped>\n",
       "    .dataframe tbody tr th:only-of-type {\n",
       "        vertical-align: middle;\n",
       "    }\n",
       "\n",
       "    .dataframe tbody tr th {\n",
       "        vertical-align: top;\n",
       "    }\n",
       "\n",
       "    .dataframe thead th {\n",
       "        text-align: right;\n",
       "    }\n",
       "</style>\n",
       "<table border=\"1\" class=\"dataframe\">\n",
       "  <thead>\n",
       "    <tr style=\"text-align: right;\">\n",
       "      <th></th>\n",
       "      <th>authors</th>\n",
       "      <th>title</th>\n",
       "      <th>date</th>\n",
       "      <th>year</th>\n",
       "      <th>edition</th>\n",
       "      <th>url</th>\n",
       "      <th>text</th>\n",
       "      <th>quarter</th>\n",
       "      <th>year_quarter</th>\n",
       "    </tr>\n",
       "  </thead>\n",
       "  <tbody>\n",
       "    <tr>\n",
       "      <th>1790</th>\n",
       "      <td>['习近平']</td>\n",
       "      <td>辩证唯物主义是中国共产党人的世界观和方法论</td>\n",
       "      <td>2018-12-31</td>\n",
       "      <td>2019</td>\n",
       "      <td>1.0</td>\n",
       "      <td>http://www.qstheory.cn/dukan/qs/2018-12/31/c_1...</td>\n",
       "      <td>辩证唯物主义是中国共产党人的世界观和方法论习近平2018年5月4日，纪念马克思诞辰200周年...</td>\n",
       "      <td>1</td>\n",
       "      <td>2019 Q1</td>\n",
       "    </tr>\n",
       "    <tr>\n",
       "      <th>1799</th>\n",
       "      <td>['刘雅鸣', '陈聪', '李亚楠', '宋晓东']</td>\n",
       "      <td>兰考：会它千顷澄碧</td>\n",
       "      <td>2019-01-01</td>\n",
       "      <td>2019</td>\n",
       "      <td>1.0</td>\n",
       "      <td>http://www.qstheory.cn/dukan/qs/2019-01/01/c_1...</td>\n",
       "      <td>焦裕禄当年亲手栽下的幼桐已长成大树，人们亲切地叫它“焦桐”。 新华社记者 冯大鹏/摄兰考谷营...</td>\n",
       "      <td>1</td>\n",
       "      <td>2019 Q1</td>\n",
       "    </tr>\n",
       "    <tr>\n",
       "      <th>1804</th>\n",
       "      <td>['国家统计局']</td>\n",
       "      <td>经济社会发展统计：改革开放40年辉煌成就（经济篇）</td>\n",
       "      <td>2019-01-01</td>\n",
       "      <td>2019</td>\n",
       "      <td>1.0</td>\n",
       "      <td>http://www.qstheory.cn/dukan/qs/2019-01/01/c_1...</td>\n",
       "      <td>我国国民经济主要指标注：国内生产总值增速按可比价计算，2017年国内生产总值总量不等于各产业...</td>\n",
       "      <td>1</td>\n",
       "      <td>2019 Q1</td>\n",
       "    </tr>\n",
       "    <tr>\n",
       "      <th>1803</th>\n",
       "      <td>['《中直党建》评论员']</td>\n",
       "      <td>多敲警钟才能少敲丧钟</td>\n",
       "      <td>2019-01-01</td>\n",
       "      <td>2019</td>\n",
       "      <td>1.0</td>\n",
       "      <td>http://www.qstheory.cn/dukan/qs/2019-01/01/c_1...</td>\n",
       "      <td>中央和国家机关警示教育大会，对各部门开展党风廉政警示教育活动进行了部署。落实好会议精神，把警...</td>\n",
       "      <td>1</td>\n",
       "      <td>2019 Q1</td>\n",
       "    </tr>\n",
       "    <tr>\n",
       "      <th>1802</th>\n",
       "      <td>['李君']</td>\n",
       "      <td>学理论是党员领导干部的责任</td>\n",
       "      <td>2019-01-01</td>\n",
       "      <td>2019</td>\n",
       "      <td>1.0</td>\n",
       "      <td>http://www.qstheory.cn/dukan/qs/2019-01/01/c_1...</td>\n",
       "      <td>编辑同志：我是广西南宁的一名基层理论工作者，从事理论工作近20年了。在长期工作实践中，我深深...</td>\n",
       "      <td>1</td>\n",
       "      <td>2019 Q1</td>\n",
       "    </tr>\n",
       "    <tr>\n",
       "      <th>...</th>\n",
       "      <td>...</td>\n",
       "      <td>...</td>\n",
       "      <td>...</td>\n",
       "      <td>...</td>\n",
       "      <td>...</td>\n",
       "      <td>...</td>\n",
       "      <td>...</td>\n",
       "      <td>...</td>\n",
       "      <td>...</td>\n",
       "    </tr>\n",
       "    <tr>\n",
       "      <th>489</th>\n",
       "      <td>['中共中央党史和文献研究院']</td>\n",
       "      <td>永远铭记毛泽东同志的丰功伟绩和崇高风范</td>\n",
       "      <td>2023-12-16</td>\n",
       "      <td>2023</td>\n",
       "      <td>24.0</td>\n",
       "      <td>http://www.qstheory.cn/dukan/qs/2023-12/16/c_1...</td>\n",
       "      <td>永远铭记毛泽东同志的丰功伟绩和崇高风范中共中央党史和文献研究院今年是中国共产党、中国人民解放...</td>\n",
       "      <td>4</td>\n",
       "      <td>2023 Q4</td>\n",
       "    </tr>\n",
       "    <tr>\n",
       "      <th>483</th>\n",
       "      <td>NaN</td>\n",
       "      <td>本期导读</td>\n",
       "      <td>2023-12-16</td>\n",
       "      <td>2023</td>\n",
       "      <td>24.0</td>\n",
       "      <td>http://www.qstheory.cn/dukan/qs/2023-12/16/c_1...</td>\n",
       "      <td>本期发表了习近平总书记的重要文章《在二十届中央机构编制委员会第一次会议上的讲话》。文章强调，...</td>\n",
       "      <td>4</td>\n",
       "      <td>2023 Q4</td>\n",
       "    </tr>\n",
       "    <tr>\n",
       "      <th>487</th>\n",
       "      <td>['中央机构编制委员会办公室']</td>\n",
       "      <td>扎实推进新时代新征程机构编制工作高质量发展</td>\n",
       "      <td>2023-12-16</td>\n",
       "      <td>2023</td>\n",
       "      <td>24.0</td>\n",
       "      <td>http://www.qstheory.cn/dukan/qs/2023-12/16/c_1...</td>\n",
       "      <td>扎实推进新时代新征程机构编制工作高质量发展中央机构编制委员会办公室习近平总书记在二十届中央机...</td>\n",
       "      <td>4</td>\n",
       "      <td>2023 Q4</td>\n",
       "    </tr>\n",
       "    <tr>\n",
       "      <th>493</th>\n",
       "      <td>['潘岳']</td>\n",
       "      <td>铸牢中华民族共同体意识</td>\n",
       "      <td>2023-12-16</td>\n",
       "      <td>2023</td>\n",
       "      <td>24.0</td>\n",
       "      <td>http://www.qstheory.cn/dukan/qs/2023-12/16/c_1...</td>\n",
       "      <td>铸牢中华民族共同体意识潘 岳党的十八大以来，习近平总书记对中国特色社会主义文化建设提出的一系...</td>\n",
       "      <td>4</td>\n",
       "      <td>2023 Q4</td>\n",
       "    </tr>\n",
       "    <tr>\n",
       "      <th>502</th>\n",
       "      <td>NaN</td>\n",
       "      <td>时代楷模：宝塔消防救援站</td>\n",
       "      <td>2023-12-16</td>\n",
       "      <td>2023</td>\n",
       "      <td>24.0</td>\n",
       "      <td>http://www.qstheory.cn/dukan/qs/2023-12/16/c_1...</td>\n",
       "      <td>时代楷模：宝塔消防救援站图为宝塔消防救援站“时代楷模”称号发布仪式现场。 应急管理部新闻宣传...</td>\n",
       "      <td>4</td>\n",
       "      <td>2023 Q4</td>\n",
       "    </tr>\n",
       "  </tbody>\n",
       "</table>\n",
       "<p>1998 rows × 9 columns</p>\n",
       "</div>"
      ],
      "text/plain": [
       "                          authors                      title        date  \\\n",
       "1790                      ['习近平']      辩证唯物主义是中国共产党人的世界观和方法论  2018-12-31   \n",
       "1799  ['刘雅鸣', '陈聪', '李亚楠', '宋晓东']                  兰考：会它千顷澄碧  2019-01-01   \n",
       "1804                    ['国家统计局']  经济社会发展统计：改革开放40年辉煌成就（经济篇）  2019-01-01   \n",
       "1803                ['《中直党建》评论员']                 多敲警钟才能少敲丧钟  2019-01-01   \n",
       "1802                       ['李君']              学理论是党员领导干部的责任  2019-01-01   \n",
       "...                           ...                        ...         ...   \n",
       "489              ['中共中央党史和文献研究院']        永远铭记毛泽东同志的丰功伟绩和崇高风范  2023-12-16   \n",
       "483                           NaN                       本期导读  2023-12-16   \n",
       "487              ['中央机构编制委员会办公室']      扎实推进新时代新征程机构编制工作高质量发展  2023-12-16   \n",
       "493                        ['潘岳']                铸牢中华民族共同体意识  2023-12-16   \n",
       "502                           NaN               时代楷模：宝塔消防救援站  2023-12-16   \n",
       "\n",
       "      year  edition                                                url  \\\n",
       "1790  2019      1.0  http://www.qstheory.cn/dukan/qs/2018-12/31/c_1...   \n",
       "1799  2019      1.0  http://www.qstheory.cn/dukan/qs/2019-01/01/c_1...   \n",
       "1804  2019      1.0  http://www.qstheory.cn/dukan/qs/2019-01/01/c_1...   \n",
       "1803  2019      1.0  http://www.qstheory.cn/dukan/qs/2019-01/01/c_1...   \n",
       "1802  2019      1.0  http://www.qstheory.cn/dukan/qs/2019-01/01/c_1...   \n",
       "...    ...      ...                                                ...   \n",
       "489   2023     24.0  http://www.qstheory.cn/dukan/qs/2023-12/16/c_1...   \n",
       "483   2023     24.0  http://www.qstheory.cn/dukan/qs/2023-12/16/c_1...   \n",
       "487   2023     24.0  http://www.qstheory.cn/dukan/qs/2023-12/16/c_1...   \n",
       "493   2023     24.0  http://www.qstheory.cn/dukan/qs/2023-12/16/c_1...   \n",
       "502   2023     24.0  http://www.qstheory.cn/dukan/qs/2023-12/16/c_1...   \n",
       "\n",
       "                                                   text  quarter year_quarter  \n",
       "1790  辩证唯物主义是中国共产党人的世界观和方法论习近平2018年5月4日，纪念马克思诞辰200周年...        1      2019 Q1  \n",
       "1799  焦裕禄当年亲手栽下的幼桐已长成大树，人们亲切地叫它“焦桐”。 新华社记者 冯大鹏/摄兰考谷营...        1      2019 Q1  \n",
       "1804  我国国民经济主要指标注：国内生产总值增速按可比价计算，2017年国内生产总值总量不等于各产业...        1      2019 Q1  \n",
       "1803  中央和国家机关警示教育大会，对各部门开展党风廉政警示教育活动进行了部署。落实好会议精神，把警...        1      2019 Q1  \n",
       "1802  编辑同志：我是广西南宁的一名基层理论工作者，从事理论工作近20年了。在长期工作实践中，我深深...        1      2019 Q1  \n",
       "...                                                 ...      ...          ...  \n",
       "489   永远铭记毛泽东同志的丰功伟绩和崇高风范中共中央党史和文献研究院今年是中国共产党、中国人民解放...        4      2023 Q4  \n",
       "483   本期发表了习近平总书记的重要文章《在二十届中央机构编制委员会第一次会议上的讲话》。文章强调，...        4      2023 Q4  \n",
       "487   扎实推进新时代新征程机构编制工作高质量发展中央机构编制委员会办公室习近平总书记在二十届中央机...        4      2023 Q4  \n",
       "493   铸牢中华民族共同体意识潘 岳党的十八大以来，习近平总书记对中国特色社会主义文化建设提出的一系...        4      2023 Q4  \n",
       "502   时代楷模：宝塔消防救援站图为宝塔消防救援站“时代楷模”称号发布仪式现场。 应急管理部新闻宣传...        4      2023 Q4  \n",
       "\n",
       "[1998 rows x 9 columns]"
      ]
     },
     "execution_count": 11,
     "metadata": {},
     "output_type": "execute_result"
    }
   ],
   "source": [
    "articles"
   ]
  },
  {
   "cell_type": "code",
   "execution_count": 12,
   "metadata": {},
   "outputs": [],
   "source": [
    "articles.to_csv('validated_articles.csv', index=False)"
   ]
  },
  {
   "cell_type": "code",
   "execution_count": null,
   "metadata": {},
   "outputs": [],
   "source": []
  }
 ],
 "metadata": {
  "kernelspec": {
   "display_name": "qiushi_venv",
   "language": "python",
   "name": "python3"
  },
  "language_info": {
   "codemirror_mode": {
    "name": "ipython",
    "version": 3
   },
   "file_extension": ".py",
   "mimetype": "text/x-python",
   "name": "python",
   "nbconvert_exporter": "python",
   "pygments_lexer": "ipython3",
   "version": "3.11.6"
  }
 },
 "nbformat": 4,
 "nbformat_minor": 2
}

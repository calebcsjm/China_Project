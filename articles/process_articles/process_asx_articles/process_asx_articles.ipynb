{
 "cells": [
  {
   "cell_type": "code",
   "execution_count": 1,
   "metadata": {},
   "outputs": [
    {
     "data": {
      "text/plain": [
       "56245"
      ]
     },
     "execution_count": 1,
     "metadata": {},
     "output_type": "execute_result"
    }
   ],
   "source": [
    "import pandas as pd\n",
    "\n",
    "df = pd.read_csv('../get_aisixiang_articles/all_asx_articles.csv')\n",
    "len(df)"
   ]
  },
  {
   "cell_type": "code",
   "execution_count": 10,
   "metadata": {},
   "outputs": [],
   "source": [
    "df['year'] = df['date'].apply(lambda x: x[0:4])\n",
    "\n",
    "def get_quarter(full_date):\n",
    "    year, month, date = full_date.split('-')\n",
    "    month = int(month)\n",
    "    if month <= 3:\n",
    "        return 1\n",
    "    elif month <= 6:\n",
    "        return 2\n",
    "    elif month <= 9:\n",
    "        return 3\n",
    "    else:\n",
    "        return 4\n",
    "    \n",
    "df['quarter'] = df['date'].apply(lambda x: get_quarter(x))\n",
    "\n",
    "def combine_year_quarter(row):\n",
    "    return str(row[\"year\"]) + \" Q\" + str(row[\"quarter\"])\n",
    "\n",
    "df['year_quarter'] = df.apply(combine_year_quarter, axis=1)"
   ]
  },
  {
   "cell_type": "code",
   "execution_count": 11,
   "metadata": {},
   "outputs": [
    {
     "data": {
      "text/html": [
       "<div>\n",
       "<style scoped>\n",
       "    .dataframe tbody tr th:only-of-type {\n",
       "        vertical-align: middle;\n",
       "    }\n",
       "\n",
       "    .dataframe tbody tr th {\n",
       "        vertical-align: top;\n",
       "    }\n",
       "\n",
       "    .dataframe thead th {\n",
       "        text-align: right;\n",
       "    }\n",
       "</style>\n",
       "<table border=\"1\" class=\"dataframe\">\n",
       "  <thead>\n",
       "    <tr style=\"text-align: right;\">\n",
       "      <th></th>\n",
       "      <th>title</th>\n",
       "      <th>authors</th>\n",
       "      <th>date</th>\n",
       "      <th>url</th>\n",
       "      <th>text</th>\n",
       "      <th>year</th>\n",
       "      <th>quarter</th>\n",
       "      <th>year_quarter</th>\n",
       "    </tr>\n",
       "  </thead>\n",
       "  <tbody>\n",
       "    <tr>\n",
       "      <th>0</th>\n",
       "      <td>计划生育制度变革与法治化</td>\n",
       "      <td>湛中乐 苏宇</td>\n",
       "      <td>2024-03-09</td>\n",
       "      <td>https://www.aisixiang.com/data/149731.html</td>\n",
       "      <td>【摘要】中国计划生育事业已经走过了从纯粹的政策主导到形式法治的历程，而实质法治进程亦已开始...</td>\n",
       "      <td>2024</td>\n",
       "      <td>1</td>\n",
       "      <td>2024 Q1</td>\n",
       "    </tr>\n",
       "    <tr>\n",
       "      <th>1</th>\n",
       "      <td>论学术自由：规范内涵、正当基础与法律保障</td>\n",
       "      <td>湛中乐 尹婷</td>\n",
       "      <td>2024-03-10</td>\n",
       "      <td>https://www.aisixiang.com/data/149762.html</td>\n",
       "      <td>摘要：作为法律概念的学术自由有不确定的特征，对学术自由是谁的自由和学术自由是什么样的自由一...</td>\n",
       "      <td>2024</td>\n",
       "      <td>1</td>\n",
       "      <td>2024 Q1</td>\n",
       "    </tr>\n",
       "    <tr>\n",
       "      <th>2</th>\n",
       "      <td>通过“校内法”保障学术自由——以1912—1937年的北京大学为研究对象</td>\n",
       "      <td>湛中乐 康骁</td>\n",
       "      <td>2024-03-11</td>\n",
       "      <td>https://www.aisixiang.com/data/149796.html</td>\n",
       "      <td>内容提要：北京大学在1912—1937年期间的发展史表明，学术自由的实现与保障同“校内法”...</td>\n",
       "      <td>2024</td>\n",
       "      <td>1</td>\n",
       "      <td>2024 Q1</td>\n",
       "    </tr>\n",
       "  </tbody>\n",
       "</table>\n",
       "</div>"
      ],
      "text/plain": [
       "                                  title authors        date  \\\n",
       "0                          计划生育制度变革与法治化  湛中乐 苏宇  2024-03-09   \n",
       "1                  论学术自由：规范内涵、正当基础与法律保障  湛中乐 尹婷  2024-03-10   \n",
       "2  通过“校内法”保障学术自由——以1912—1937年的北京大学为研究对象  湛中乐 康骁  2024-03-11   \n",
       "\n",
       "                                          url  \\\n",
       "0  https://www.aisixiang.com/data/149731.html   \n",
       "1  https://www.aisixiang.com/data/149762.html   \n",
       "2  https://www.aisixiang.com/data/149796.html   \n",
       "\n",
       "                                                text  year  quarter  \\\n",
       "0   【摘要】中国计划生育事业已经走过了从纯粹的政策主导到形式法治的历程，而实质法治进程亦已开始...  2024        1   \n",
       "1   摘要：作为法律概念的学术自由有不确定的特征，对学术自由是谁的自由和学术自由是什么样的自由一...  2024        1   \n",
       "2   内容提要：北京大学在1912—1937年期间的发展史表明，学术自由的实现与保障同“校内法”...  2024        1   \n",
       "\n",
       "  year_quarter  \n",
       "0      2024 Q1  \n",
       "1      2024 Q1  \n",
       "2      2024 Q1  "
      ]
     },
     "execution_count": 11,
     "metadata": {},
     "output_type": "execute_result"
    }
   ],
   "source": [
    "df.head(3)"
   ]
  },
  {
   "cell_type": "code",
   "execution_count": 12,
   "metadata": {},
   "outputs": [],
   "source": [
    "df.to_csv('processed_asx_articles.csv', index=False)"
   ]
  },
  {
   "cell_type": "code",
   "execution_count": 2,
   "metadata": {},
   "outputs": [],
   "source": [
    "import pandas as pd\n",
    "\n",
    "# create a subset for use in testing\n",
    "df = pd.read_csv('processed_asx_articles.csv')\n",
    "df = df.sample(100)\n",
    "df.to_csv('asx_sample.csv')"
   ]
  },
  {
   "cell_type": "code",
   "execution_count": null,
   "metadata": {},
   "outputs": [],
   "source": []
  }
 ],
 "metadata": {
  "kernelspec": {
   "display_name": "qiushi_venv",
   "language": "python",
   "name": "python3"
  },
  "language_info": {
   "codemirror_mode": {
    "name": "ipython",
    "version": 3
   },
   "file_extension": ".py",
   "mimetype": "text/x-python",
   "name": "python",
   "nbconvert_exporter": "python",
   "pygments_lexer": "ipython3",
   "version": "3.11.6"
  }
 },
 "nbformat": 4,
 "nbformat_minor": 2
}

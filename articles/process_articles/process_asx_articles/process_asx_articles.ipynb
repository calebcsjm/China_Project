{
 "cells": [
  {
   "cell_type": "code",
   "execution_count": 1,
   "metadata": {},
   "outputs": [
    {
     "name": "stdout",
     "output_type": "stream",
     "text": [
      "Validated articles: 13361\n"
     ]
    },
    {
     "data": {
      "text/html": [
       "<div>\n",
       "<style scoped>\n",
       "    .dataframe tbody tr th:only-of-type {\n",
       "        vertical-align: middle;\n",
       "    }\n",
       "\n",
       "    .dataframe tbody tr th {\n",
       "        vertical-align: top;\n",
       "    }\n",
       "\n",
       "    .dataframe thead th {\n",
       "        text-align: right;\n",
       "    }\n",
       "</style>\n",
       "<table border=\"1\" class=\"dataframe\">\n",
       "  <thead>\n",
       "    <tr style=\"text-align: right;\">\n",
       "      <th></th>\n",
       "      <th>title</th>\n",
       "      <th>authors</th>\n",
       "      <th>date</th>\n",
       "      <th>url</th>\n",
       "      <th>text</th>\n",
       "      <th>year</th>\n",
       "      <th>quarter</th>\n",
       "      <th>year_quarter</th>\n",
       "    </tr>\n",
       "  </thead>\n",
       "  <tbody>\n",
       "    <tr>\n",
       "      <th>0</th>\n",
       "      <td>告别国家法一元论</td>\n",
       "      <td>强世功</td>\n",
       "      <td>2019-01-01</td>\n",
       "      <td>https://www.aisixiang.com/data/114287.html</td>\n",
       "      <td>在1995年发表的《秋菊的困惑和三杠爷的悲剧》这篇法律社会学经典论文中，苏力在法学界率先采...</td>\n",
       "      <td>2019</td>\n",
       "      <td>1</td>\n",
       "      <td>2019 Q1</td>\n",
       "    </tr>\n",
       "  </tbody>\n",
       "</table>\n",
       "</div>"
      ],
      "text/plain": [
       "      title authors        date                                         url  \\\n",
       "0  告别国家法一元论     强世功  2019-01-01  https://www.aisixiang.com/data/114287.html   \n",
       "\n",
       "                                                text  year  quarter  \\\n",
       "0   在1995年发表的《秋菊的困惑和三杠爷的悲剧》这篇法律社会学经典论文中，苏力在法学界率先采...  2019        1   \n",
       "\n",
       "  year_quarter  \n",
       "0      2019 Q1  "
      ]
     },
     "execution_count": 1,
     "metadata": {},
     "output_type": "execute_result"
    }
   ],
   "source": [
    "import pandas as pd\n",
    "import sys\n",
    "sys.path.append('..')\n",
    "from processing_helper_functions import *\n",
    "\n",
    "articles = pd.read_csv('validated_asx_articles.csv')\n",
    "print(f\"Validated articles: {len(articles)}\")\n",
    "articles.head(1)"
   ]
  },
  {
   "cell_type": "code",
   "execution_count": 2,
   "metadata": {},
   "outputs": [
    {
     "data": {
      "text/html": [
       "<div>\n",
       "<style scoped>\n",
       "    .dataframe tbody tr th:only-of-type {\n",
       "        vertical-align: middle;\n",
       "    }\n",
       "\n",
       "    .dataframe tbody tr th {\n",
       "        vertical-align: top;\n",
       "    }\n",
       "\n",
       "    .dataframe thead th {\n",
       "        text-align: right;\n",
       "    }\n",
       "</style>\n",
       "<table border=\"1\" class=\"dataframe\">\n",
       "  <thead>\n",
       "    <tr style=\"text-align: right;\">\n",
       "      <th></th>\n",
       "      <th>title</th>\n",
       "      <th>authors</th>\n",
       "      <th>date</th>\n",
       "      <th>url</th>\n",
       "      <th>text</th>\n",
       "      <th>year</th>\n",
       "      <th>quarter</th>\n",
       "      <th>year_quarter</th>\n",
       "      <th>cleaned_text</th>\n",
       "    </tr>\n",
       "  </thead>\n",
       "  <tbody>\n",
       "    <tr>\n",
       "      <th>0</th>\n",
       "      <td>告别国家法一元论</td>\n",
       "      <td>强世功</td>\n",
       "      <td>2019-01-01</td>\n",
       "      <td>https://www.aisixiang.com/data/114287.html</td>\n",
       "      <td>在1995年发表的《秋菊的困惑和三杠爷的悲剧》这篇法律社会学经典论文中，苏力在法学界率先采...</td>\n",
       "      <td>2019</td>\n",
       "      <td>1</td>\n",
       "      <td>2019 Q1</td>\n",
       "      <td>在1995年发表的秋菊的困惑和三杠爷的悲剧这篇法律社会学经典论文中苏力在法学界率先采用了法律...</td>\n",
       "    </tr>\n",
       "  </tbody>\n",
       "</table>\n",
       "</div>"
      ],
      "text/plain": [
       "      title authors        date                                         url  \\\n",
       "0  告别国家法一元论     强世功  2019-01-01  https://www.aisixiang.com/data/114287.html   \n",
       "\n",
       "                                                text  year  quarter  \\\n",
       "0   在1995年发表的《秋菊的困惑和三杠爷的悲剧》这篇法律社会学经典论文中，苏力在法学界率先采...  2019        1   \n",
       "\n",
       "  year_quarter                                       cleaned_text  \n",
       "0      2019 Q1  在1995年发表的秋菊的困惑和三杠爷的悲剧这篇法律社会学经典论文中苏力在法学界率先采用了法律...  "
      ]
     },
     "execution_count": 2,
     "metadata": {},
     "output_type": "execute_result"
    }
   ],
   "source": [
    "# remove punctuation\n",
    "articles['cleaned_text'] = articles['text'].map(remove_punctuation)\n",
    "articles.head(1)"
   ]
  },
  {
   "cell_type": "code",
   "execution_count": 3,
   "metadata": {},
   "outputs": [
    {
     "name": "stderr",
     "output_type": "stream",
     "text": [
      "Building prefix dict from the default dictionary ...\n",
      "Loading model from cache /var/folders/r4/qqn8tv4d7g18t_5fsxt6y1340000gn/T/jieba.cache\n",
      "Loading model cost 0.309 seconds.\n",
      "Prefix dict has been built successfully.\n"
     ]
    },
    {
     "data": {
      "text/html": [
       "<div>\n",
       "<style scoped>\n",
       "    .dataframe tbody tr th:only-of-type {\n",
       "        vertical-align: middle;\n",
       "    }\n",
       "\n",
       "    .dataframe tbody tr th {\n",
       "        vertical-align: top;\n",
       "    }\n",
       "\n",
       "    .dataframe thead th {\n",
       "        text-align: right;\n",
       "    }\n",
       "</style>\n",
       "<table border=\"1\" class=\"dataframe\">\n",
       "  <thead>\n",
       "    <tr style=\"text-align: right;\">\n",
       "      <th></th>\n",
       "      <th>title</th>\n",
       "      <th>authors</th>\n",
       "      <th>date</th>\n",
       "      <th>url</th>\n",
       "      <th>text</th>\n",
       "      <th>year</th>\n",
       "      <th>quarter</th>\n",
       "      <th>year_quarter</th>\n",
       "      <th>cleaned_text</th>\n",
       "      <th>cleaned_text_wspaces</th>\n",
       "    </tr>\n",
       "  </thead>\n",
       "  <tbody>\n",
       "    <tr>\n",
       "      <th>0</th>\n",
       "      <td>告别国家法一元论</td>\n",
       "      <td>强世功</td>\n",
       "      <td>2019-01-01</td>\n",
       "      <td>https://www.aisixiang.com/data/114287.html</td>\n",
       "      <td>在1995年发表的《秋菊的困惑和三杠爷的悲剧》这篇法律社会学经典论文中，苏力在法学界率先采...</td>\n",
       "      <td>2019</td>\n",
       "      <td>1</td>\n",
       "      <td>2019 Q1</td>\n",
       "      <td>在1995年发表的秋菊的困惑和三杠爷的悲剧这篇法律社会学经典论文中苏力在法学界率先采用了法律...</td>\n",
       "      <td>在 1995 年 发表 的 秋菊 的 困惑 和 三杠 爷 的 悲剧 这篇 法律 社会学 经典...</td>\n",
       "    </tr>\n",
       "  </tbody>\n",
       "</table>\n",
       "</div>"
      ],
      "text/plain": [
       "      title authors        date                                         url  \\\n",
       "0  告别国家法一元论     强世功  2019-01-01  https://www.aisixiang.com/data/114287.html   \n",
       "\n",
       "                                                text  year  quarter  \\\n",
       "0   在1995年发表的《秋菊的困惑和三杠爷的悲剧》这篇法律社会学经典论文中，苏力在法学界率先采...  2019        1   \n",
       "\n",
       "  year_quarter                                       cleaned_text  \\\n",
       "0      2019 Q1  在1995年发表的秋菊的困惑和三杠爷的悲剧这篇法律社会学经典论文中苏力在法学界率先采用了法律...   \n",
       "\n",
       "                                cleaned_text_wspaces  \n",
       "0  在 1995 年 发表 的 秋菊 的 困惑 和 三杠 爷 的 悲剧 这篇 法律 社会学 经典...  "
      ]
     },
     "execution_count": 3,
     "metadata": {},
     "output_type": "execute_result"
    }
   ],
   "source": [
    "# add spaces to the text, necessary for some analysis\n",
    "articles['cleaned_text_wspaces'] = articles[\"cleaned_text\"].map(lambda x: parse_chinese(x))\n",
    "articles.head(1)"
   ]
  },
  {
   "cell_type": "code",
   "execution_count": 4,
   "metadata": {},
   "outputs": [],
   "source": [
    "articles.to_csv('processed_asx_articles.csv', index=False)"
   ]
  },
  {
   "cell_type": "code",
   "execution_count": null,
   "metadata": {},
   "outputs": [],
   "source": []
  }
 ],
 "metadata": {
  "kernelspec": {
   "display_name": "qiushi_venv",
   "language": "python",
   "name": "python3"
  },
  "language_info": {
   "codemirror_mode": {
    "name": "ipython",
    "version": 3
   },
   "file_extension": ".py",
   "mimetype": "text/x-python",
   "name": "python",
   "nbconvert_exporter": "python",
   "pygments_lexer": "ipython3",
   "version": "3.11.6"
  }
 },
 "nbformat": 4,
 "nbformat_minor": 2
}

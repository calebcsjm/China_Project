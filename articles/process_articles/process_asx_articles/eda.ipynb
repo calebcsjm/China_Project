{
 "cells": [
  {
   "cell_type": "code",
   "execution_count": 1,
   "metadata": {},
   "outputs": [],
   "source": [
    "import pandas as pd\n",
    "\n",
    "df = pd.read_csv('processed_asx_articles.csv')"
   ]
  },
  {
   "cell_type": "code",
   "execution_count": 2,
   "metadata": {},
   "outputs": [],
   "source": [
    "quarter_count = {}\n",
    "\n",
    "for quarter in df['year_quarter'].unique():\n",
    "    quarter_count[quarter] = len(df[df['year_quarter'] == quarter])"
   ]
  },
  {
   "cell_type": "code",
   "execution_count": 6,
   "metadata": {},
   "outputs": [
    {
     "data": {
      "text/plain": [
       "{'2001 Q2': 11,\n",
       " '2001 Q3': 3,\n",
       " '2001 Q4': 6,\n",
       " '2002 Q1': 6,\n",
       " '2002 Q2': 2,\n",
       " '2002 Q3': 4,\n",
       " '2002 Q4': 7,\n",
       " '2003 Q1': 7,\n",
       " '2003 Q2': 9,\n",
       " '2003 Q3': 15,\n",
       " '2003 Q4': 8,\n",
       " '2004 Q1': 3,\n",
       " '2004 Q2': 1,\n",
       " '2004 Q3': 5,\n",
       " '2004 Q4': 7,\n",
       " '2005 Q1': 2,\n",
       " '2005 Q2': 1,\n",
       " '2006 Q2': 2,\n",
       " '2006 Q3': 2,\n",
       " '2006 Q4': 4,\n",
       " '2007 Q1': 2,\n",
       " '2007 Q4': 3,\n",
       " '2008 Q1': 56,\n",
       " '2008 Q2': 718,\n",
       " '2008 Q3': 4394,\n",
       " '2008 Q4': 1233,\n",
       " '2009 Q1': 1069,\n",
       " '2009 Q2': 1132,\n",
       " '2009 Q3': 867,\n",
       " '2009 Q4': 218,\n",
       " '2010 Q1': 639,\n",
       " '2010 Q2': 781,\n",
       " '2010 Q3': 759,\n",
       " '2010 Q4': 978,\n",
       " '2011 Q1': 764,\n",
       " '2011 Q2': 820,\n",
       " '2011 Q3': 1235,\n",
       " '2011 Q4': 1595,\n",
       " '2012 Q1': 822,\n",
       " '2012 Q2': 896,\n",
       " '2012 Q3': 782,\n",
       " '2012 Q4': 753,\n",
       " '2013 Q1': 730,\n",
       " '2013 Q2': 1016,\n",
       " '2013 Q3': 934,\n",
       " '2013 Q4': 765,\n",
       " '2014 Q1': 712,\n",
       " '2014 Q2': 754,\n",
       " '2014 Q3': 922,\n",
       " '2014 Q4': 1285,\n",
       " '2015 Q1': 1844,\n",
       " '2015 Q2': 1976,\n",
       " '2015 Q3': 975,\n",
       " '2015 Q4': 1360,\n",
       " '2016 Q1': 978,\n",
       " '2016 Q2': 773,\n",
       " '2016 Q3': 369,\n",
       " '2016 Q4': 429,\n",
       " '2017 Q1': 483,\n",
       " '2017 Q2': 595,\n",
       " '2017 Q3': 799,\n",
       " '2017 Q4': 910,\n",
       " '2018 Q1': 600,\n",
       " '2018 Q2': 662,\n",
       " '2018 Q3': 724,\n",
       " '2018 Q4': 667,\n",
       " '2019 Q1': 560,\n",
       " '2019 Q2': 383,\n",
       " '2019 Q3': 595,\n",
       " '2019 Q4': 440,\n",
       " '2020 Q1': 395,\n",
       " '2020 Q2': 349,\n",
       " '2020 Q3': 331,\n",
       " '2020 Q4': 341,\n",
       " '2021 Q1': 1332,\n",
       " '2021 Q2': 723,\n",
       " '2021 Q3': 666,\n",
       " '2021 Q4': 662,\n",
       " '2022 Q1': 689,\n",
       " '2022 Q2': 1064,\n",
       " '2022 Q3': 438,\n",
       " '2022 Q4': 992,\n",
       " '2023 Q1': 607,\n",
       " '2023 Q2': 1164,\n",
       " '2023 Q3': 944,\n",
       " '2023 Q4': 817,\n",
       " '2024 Q1': 870}"
      ]
     },
     "execution_count": 6,
     "metadata": {},
     "output_type": "execute_result"
    }
   ],
   "source": [
    "quarter_count = dict(sorted(quarter_count.items()))\n",
    "\n",
    "quarter_count"
   ]
  },
  {
   "cell_type": "code",
   "execution_count": null,
   "metadata": {},
   "outputs": [],
   "source": [
    "# pick two quarters that don't have too many articles to practice doing multiprocessing on\n",
    "# 2001 Q2, 2003 Q3\n"
   ]
  }
 ],
 "metadata": {
  "kernelspec": {
   "display_name": "qiushi_venv",
   "language": "python",
   "name": "python3"
  },
  "language_info": {
   "codemirror_mode": {
    "name": "ipython",
    "version": 3
   },
   "file_extension": ".py",
   "mimetype": "text/x-python",
   "name": "python",
   "nbconvert_exporter": "python",
   "pygments_lexer": "ipython3",
   "version": "3.11.6"
  }
 },
 "nbformat": 4,
 "nbformat_minor": 2
}

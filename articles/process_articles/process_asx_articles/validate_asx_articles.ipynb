{
 "cells": [
  {
   "cell_type": "code",
   "execution_count": 24,
   "metadata": {},
   "outputs": [
    {
     "data": {
      "text/plain": [
       "56245"
      ]
     },
     "execution_count": 24,
     "metadata": {},
     "output_type": "execute_result"
    }
   ],
   "source": [
    "import pandas as pd\n",
    "\n",
    "articles = pd.read_csv('../../scrape_articles/get_aisixiang_articles/all_asx_articles.csv')\n",
    "len(articles)"
   ]
  },
  {
   "cell_type": "code",
   "execution_count": 25,
   "metadata": {},
   "outputs": [
    {
     "data": {
      "text/html": [
       "<div>\n",
       "<style scoped>\n",
       "    .dataframe tbody tr th:only-of-type {\n",
       "        vertical-align: middle;\n",
       "    }\n",
       "\n",
       "    .dataframe tbody tr th {\n",
       "        vertical-align: top;\n",
       "    }\n",
       "\n",
       "    .dataframe thead th {\n",
       "        text-align: right;\n",
       "    }\n",
       "</style>\n",
       "<table border=\"1\" class=\"dataframe\">\n",
       "  <thead>\n",
       "    <tr style=\"text-align: right;\">\n",
       "      <th></th>\n",
       "      <th>title</th>\n",
       "      <th>authors</th>\n",
       "      <th>date</th>\n",
       "      <th>url</th>\n",
       "      <th>text</th>\n",
       "    </tr>\n",
       "  </thead>\n",
       "  <tbody>\n",
       "    <tr>\n",
       "      <th>0</th>\n",
       "      <td>计划生育制度变革与法治化</td>\n",
       "      <td>湛中乐 苏宇</td>\n",
       "      <td>2024-03-09</td>\n",
       "      <td>https://www.aisixiang.com/data/149731.html</td>\n",
       "      <td>【摘要】中国计划生育事业已经走过了从纯粹的政策主导到形式法治的历程，而实质法治进程亦已开始...</td>\n",
       "    </tr>\n",
       "  </tbody>\n",
       "</table>\n",
       "</div>"
      ],
      "text/plain": [
       "          title authors        date  \\\n",
       "0  计划生育制度变革与法治化  湛中乐 苏宇  2024-03-09   \n",
       "\n",
       "                                          url  \\\n",
       "0  https://www.aisixiang.com/data/149731.html   \n",
       "\n",
       "                                                text  \n",
       "0   【摘要】中国计划生育事业已经走过了从纯粹的政策主导到形式法治的历程，而实质法治进程亦已开始...  "
      ]
     },
     "execution_count": 25,
     "metadata": {},
     "output_type": "execute_result"
    }
   ],
   "source": [
    "articles.head(1)"
   ]
  },
  {
   "cell_type": "code",
   "execution_count": 26,
   "metadata": {},
   "outputs": [
    {
     "data": {
      "text/plain": [
       "title        2\n",
       "authors    950\n",
       "date         0\n",
       "url          0\n",
       "text       413\n",
       "dtype: int64"
      ]
     },
     "execution_count": 26,
     "metadata": {},
     "output_type": "execute_result"
    }
   ],
   "source": [
    "articles.isna().sum()"
   ]
  },
  {
   "cell_type": "code",
   "execution_count": null,
   "metadata": {},
   "outputs": [],
   "source": []
  },
  {
   "cell_type": "code",
   "execution_count": 27,
   "metadata": {},
   "outputs": [
    {
     "data": {
      "text/plain": [
       "55832"
      ]
     },
     "execution_count": 27,
     "metadata": {},
     "output_type": "execute_result"
    }
   ],
   "source": [
    "# the number of articles missing text is a tiny fraction of the total, so it \n",
    "# seems reasonably random, or may simply be graphics\n",
    "articles = articles.dropna(subset=['text'])\n",
    "len(articles)"
   ]
  },
  {
   "cell_type": "code",
   "execution_count": 28,
   "metadata": {},
   "outputs": [
    {
     "data": {
      "text/plain": [
       "55412"
      ]
     },
     "execution_count": 28,
     "metadata": {},
     "output_type": "execute_result"
    }
   ],
   "source": [
    "# check to see if there are duplicate articles\n",
    "len(articles['url'].unique())"
   ]
  },
  {
   "cell_type": "code",
   "execution_count": 29,
   "metadata": {},
   "outputs": [
    {
     "name": "stdout",
     "output_type": "stream",
     "text": [
      "Number of articles after dropping duplicate links: 55412\n"
     ]
    }
   ],
   "source": [
    "# go through all the articles, add their link to a set, if the link is already in the set, drop it\n",
    "link_set = set()\n",
    "\n",
    "for index, row in articles.iterrows():\n",
    "    if row['url'] in link_set:\n",
    "        articles.drop(index, inplace=True)\n",
    "    else:\n",
    "        link_set.add(row['url'])\n",
    "\n",
    "print(f'Number of articles after dropping duplicate links: {len(articles)}')"
   ]
  },
  {
   "cell_type": "code",
   "execution_count": 30,
   "metadata": {},
   "outputs": [],
   "source": [
    "# sort it by date\n",
    "articles.sort_values(by='date', inplace=True)"
   ]
  },
  {
   "cell_type": "code",
   "execution_count": 31,
   "metadata": {},
   "outputs": [],
   "source": [
    "# create additional date information\n",
    "articles['year'] = articles['date'].apply(lambda x: int(x[0:4]))\n",
    "\n",
    "def get_quarter(full_date):\n",
    "    year, month, date = full_date.split('-')\n",
    "    month = int(month)\n",
    "    if month <= 3:\n",
    "        return 1\n",
    "    elif month <= 6:\n",
    "        return 2\n",
    "    elif month <= 9:\n",
    "        return 3\n",
    "    else:\n",
    "        return 4\n",
    "    \n",
    "articles['quarter'] = articles['date'].apply(lambda x: get_quarter(x))\n",
    "\n",
    "def combine_year_quarter(row):\n",
    "    return str(row[\"year\"]) + \" Q\" + str(row[\"quarter\"])\n",
    "\n",
    "articles['year_quarter'] = articles.apply(combine_year_quarter, axis=1)"
   ]
  },
  {
   "cell_type": "code",
   "execution_count": 32,
   "metadata": {},
   "outputs": [
    {
     "data": {
      "text/html": [
       "<div>\n",
       "<style scoped>\n",
       "    .dataframe tbody tr th:only-of-type {\n",
       "        vertical-align: middle;\n",
       "    }\n",
       "\n",
       "    .dataframe tbody tr th {\n",
       "        vertical-align: top;\n",
       "    }\n",
       "\n",
       "    .dataframe thead th {\n",
       "        text-align: right;\n",
       "    }\n",
       "</style>\n",
       "<table border=\"1\" class=\"dataframe\">\n",
       "  <thead>\n",
       "    <tr style=\"text-align: right;\">\n",
       "      <th></th>\n",
       "      <th>title</th>\n",
       "      <th>authors</th>\n",
       "      <th>date</th>\n",
       "      <th>url</th>\n",
       "      <th>text</th>\n",
       "      <th>year</th>\n",
       "      <th>quarter</th>\n",
       "      <th>year_quarter</th>\n",
       "    </tr>\n",
       "  </thead>\n",
       "  <tbody>\n",
       "    <tr>\n",
       "      <th>26638</th>\n",
       "      <td>耐心，自信心，爱心与压力</td>\n",
       "      <td>台湾问题</td>\n",
       "      <td>2001-04-01</td>\n",
       "      <td>https://www.aisixiang.com/data/1397.html</td>\n",
       "      <td>现在台湾新领导人面临内外交困之势，台湾问题解决的走向出现了一些新的迹象，值得人们用心思考...</td>\n",
       "      <td>2001</td>\n",
       "      <td>2</td>\n",
       "      <td>2001 Q2</td>\n",
       "    </tr>\n",
       "  </tbody>\n",
       "</table>\n",
       "</div>"
      ],
      "text/plain": [
       "              title authors        date  \\\n",
       "26638  耐心，自信心，爱心与压力    台湾问题  2001-04-01   \n",
       "\n",
       "                                            url  \\\n",
       "26638  https://www.aisixiang.com/data/1397.html   \n",
       "\n",
       "                                                    text  year  quarter  \\\n",
       "26638    现在台湾新领导人面临内外交困之势，台湾问题解决的走向出现了一些新的迹象，值得人们用心思考...  2001        2   \n",
       "\n",
       "      year_quarter  \n",
       "26638      2001 Q2  "
      ]
     },
     "execution_count": 32,
     "metadata": {},
     "output_type": "execute_result"
    }
   ],
   "source": [
    "articles.head(1)"
   ]
  },
  {
   "cell_type": "code",
   "execution_count": 33,
   "metadata": {},
   "outputs": [
    {
     "data": {
      "text/plain": [
       "13361"
      ]
     },
     "execution_count": 33,
     "metadata": {},
     "output_type": "execute_result"
    }
   ],
   "source": [
    "# limit it to 2019-2023, so we can compare to Qiushi\n",
    "articles = articles[(articles['year'] >= 2019) & (articles['year'] <= 2023)]\n",
    "len(articles)"
   ]
  },
  {
   "cell_type": "code",
   "execution_count": 22,
   "metadata": {},
   "outputs": [],
   "source": [
    "articles.to_csv('validated_asx_articles.csv', index=False)"
   ]
  },
  {
   "cell_type": "code",
   "execution_count": 23,
   "metadata": {},
   "outputs": [],
   "source": [
    "import pandas as pd\n",
    "\n",
    "# create a subset for use in testing\n",
    "articles = pd.read_csv('validated_asx_articles.csv')\n",
    "articles = articles.sample(100)\n",
    "articles.to_csv('asx_sample.csv')"
   ]
  },
  {
   "cell_type": "code",
   "execution_count": null,
   "metadata": {},
   "outputs": [],
   "source": []
  }
 ],
 "metadata": {
  "kernelspec": {
   "display_name": "qiushi_venv",
   "language": "python",
   "name": "python3"
  },
  "language_info": {
   "codemirror_mode": {
    "name": "ipython",
    "version": 3
   },
   "file_extension": ".py",
   "mimetype": "text/x-python",
   "name": "python",
   "nbconvert_exporter": "python",
   "pygments_lexer": "ipython3",
   "version": "3.11.6"
  }
 },
 "nbformat": 4,
 "nbformat_minor": 2
}

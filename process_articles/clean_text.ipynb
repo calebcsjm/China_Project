{
 "cells": [
  {
   "cell_type": "code",
   "execution_count": 14,
   "metadata": {},
   "outputs": [
    {
     "data": {
      "text/html": [
       "<div>\n",
       "<style scoped>\n",
       "    .dataframe tbody tr th:only-of-type {\n",
       "        vertical-align: middle;\n",
       "    }\n",
       "\n",
       "    .dataframe tbody tr th {\n",
       "        vertical-align: top;\n",
       "    }\n",
       "\n",
       "    .dataframe thead th {\n",
       "        text-align: right;\n",
       "    }\n",
       "</style>\n",
       "<table border=\"1\" class=\"dataframe\">\n",
       "  <thead>\n",
       "    <tr style=\"text-align: right;\">\n",
       "      <th></th>\n",
       "      <th>authors</th>\n",
       "      <th>title</th>\n",
       "      <th>date</th>\n",
       "      <th>year</th>\n",
       "      <th>edition</th>\n",
       "      <th>url</th>\n",
       "      <th>text</th>\n",
       "    </tr>\n",
       "  </thead>\n",
       "  <tbody>\n",
       "    <tr>\n",
       "      <th>0</th>\n",
       "      <td>NaN</td>\n",
       "      <td>本期导读</td>\n",
       "      <td>2024-01-01</td>\n",
       "      <td>2024.0</td>\n",
       "      <td>1.0</td>\n",
       "      <td>http://www.qstheory.cn/dukan/qs/2024-01/01/c_1...</td>\n",
       "      <td>本期发表了习近平总书记的重要文章《以美丽中国建设全面推进人与自然和谐共生的现代化》。文章强调...</td>\n",
       "    </tr>\n",
       "  </tbody>\n",
       "</table>\n",
       "</div>"
      ],
      "text/plain": [
       "  authors title        date    year  edition  \\\n",
       "0     NaN  本期导读  2024-01-01  2024.0      1.0   \n",
       "\n",
       "                                                 url  \\\n",
       "0  http://www.qstheory.cn/dukan/qs/2024-01/01/c_1...   \n",
       "\n",
       "                                                text  \n",
       "0  本期发表了习近平总书记的重要文章《以美丽中国建设全面推进人与自然和谐共生的现代化》。文章强调...  "
      ]
     },
     "execution_count": 14,
     "metadata": {},
     "output_type": "execute_result"
    }
   ],
   "source": [
    "import pandas as pd\n",
    "\n",
    "articles = pd.read_csv('../get_articles/all_articles.csv')\n",
    "\n",
    "articles.head(1)"
   ]
  },
  {
   "cell_type": "code",
   "execution_count": 15,
   "metadata": {},
   "outputs": [
    {
     "name": "stdout",
     "output_type": "stream",
     "text": [
      "Number of articles after dropping missing years: 2179\n"
     ]
    }
   ],
   "source": [
    "\n",
    "def determine_edition_quarter(edition_number):\n",
    "    if edition_number in range(1,7):\n",
    "        return 1\n",
    "    elif edition_number in range(7,13):\n",
    "        return 2\n",
    "    elif edition_number in range(13, 19):\n",
    "        return 3\n",
    "    else:\n",
    "        return 4\n",
    "    \n",
    "def combine_year_quarter(row):\n",
    "    return str(row[\"year\"]) + \" Q\" + str(row[\"quarter\"])\n",
    "\n",
    "# drop articles without a year\n",
    "articles = articles.dropna(subset=[\"year\"])\n",
    "print(f\"Number of articles after dropping missing years: {len(articles)}\")\n",
    "    \n",
    "# add a column for the quarter\n",
    "articles[\"quarter\"] = articles['edition'].map(lambda x: determine_edition_quarter(x))\n",
    "\n",
    "# add a column for the year/quarter combo\n",
    "articles = articles.astype({\"year\": int})\n",
    "articles[\"year_quarter\"] = articles.apply(combine_year_quarter, axis=1)"
   ]
  },
  {
   "cell_type": "code",
   "execution_count": 16,
   "metadata": {},
   "outputs": [
    {
     "data": {
      "text/html": [
       "<div>\n",
       "<style scoped>\n",
       "    .dataframe tbody tr th:only-of-type {\n",
       "        vertical-align: middle;\n",
       "    }\n",
       "\n",
       "    .dataframe tbody tr th {\n",
       "        vertical-align: top;\n",
       "    }\n",
       "\n",
       "    .dataframe thead th {\n",
       "        text-align: right;\n",
       "    }\n",
       "</style>\n",
       "<table border=\"1\" class=\"dataframe\">\n",
       "  <thead>\n",
       "    <tr style=\"text-align: right;\">\n",
       "      <th></th>\n",
       "      <th>authors</th>\n",
       "      <th>title</th>\n",
       "      <th>date</th>\n",
       "      <th>year</th>\n",
       "      <th>edition</th>\n",
       "      <th>url</th>\n",
       "      <th>text</th>\n",
       "      <th>quarter</th>\n",
       "      <th>year_quarter</th>\n",
       "    </tr>\n",
       "  </thead>\n",
       "  <tbody>\n",
       "    <tr>\n",
       "      <th>0</th>\n",
       "      <td>NaN</td>\n",
       "      <td>本期导读</td>\n",
       "      <td>2024-01-01</td>\n",
       "      <td>2024</td>\n",
       "      <td>1.0</td>\n",
       "      <td>http://www.qstheory.cn/dukan/qs/2024-01/01/c_1...</td>\n",
       "      <td>本期发表了习近平总书记的重要文章《以美丽中国建设全面推进人与自然和谐共生的现代化》。文章强调...</td>\n",
       "      <td>1</td>\n",
       "      <td>2024 Q1</td>\n",
       "    </tr>\n",
       "  </tbody>\n",
       "</table>\n",
       "</div>"
      ],
      "text/plain": [
       "  authors title        date  year  edition  \\\n",
       "0     NaN  本期导读  2024-01-01  2024      1.0   \n",
       "\n",
       "                                                 url  \\\n",
       "0  http://www.qstheory.cn/dukan/qs/2024-01/01/c_1...   \n",
       "\n",
       "                                                text  quarter year_quarter  \n",
       "0  本期发表了习近平总书记的重要文章《以美丽中国建设全面推进人与自然和谐共生的现代化》。文章强调...        1      2024 Q1  "
      ]
     },
     "execution_count": 16,
     "metadata": {},
     "output_type": "execute_result"
    }
   ],
   "source": [
    "articles.head(1)"
   ]
  },
  {
   "cell_type": "code",
   "execution_count": 17,
   "metadata": {},
   "outputs": [],
   "source": [
    "articles.to_csv(\"minimally_processed_articles.csv\")"
   ]
  },
  {
   "cell_type": "code",
   "execution_count": 3,
   "metadata": {},
   "outputs": [
    {
     "data": {
      "text/html": [
       "<div>\n",
       "<style scoped>\n",
       "    .dataframe tbody tr th:only-of-type {\n",
       "        vertical-align: middle;\n",
       "    }\n",
       "\n",
       "    .dataframe tbody tr th {\n",
       "        vertical-align: top;\n",
       "    }\n",
       "\n",
       "    .dataframe thead th {\n",
       "        text-align: right;\n",
       "    }\n",
       "</style>\n",
       "<table border=\"1\" class=\"dataframe\">\n",
       "  <thead>\n",
       "    <tr style=\"text-align: right;\">\n",
       "      <th></th>\n",
       "      <th>authors</th>\n",
       "      <th>title</th>\n",
       "      <th>date</th>\n",
       "      <th>year</th>\n",
       "      <th>edition</th>\n",
       "      <th>url</th>\n",
       "      <th>text</th>\n",
       "      <th>quarter</th>\n",
       "      <th>year_quarter</th>\n",
       "      <th>cleaned_text</th>\n",
       "    </tr>\n",
       "  </thead>\n",
       "  <tbody>\n",
       "    <tr>\n",
       "      <th>0</th>\n",
       "      <td>NaN</td>\n",
       "      <td>本期导读</td>\n",
       "      <td>2024-01-01</td>\n",
       "      <td>2024</td>\n",
       "      <td>1.0</td>\n",
       "      <td>http://www.qstheory.cn/dukan/qs/2024-01/01/c_1...</td>\n",
       "      <td>本期发表了习近平总书记的重要文章《以美丽中国建设全面推进人与自然和谐共生的现代化》。文章强调...</td>\n",
       "      <td>1</td>\n",
       "      <td>2024 Q1</td>\n",
       "      <td>本期发表了习近平总书记的重要文章以美丽中国建设全面推进人与自然和谐共生的现代化文章强调今后5...</td>\n",
       "    </tr>\n",
       "  </tbody>\n",
       "</table>\n",
       "</div>"
      ],
      "text/plain": [
       "  authors title        date  year  edition  \\\n",
       "0     NaN  本期导读  2024-01-01  2024      1.0   \n",
       "\n",
       "                                                 url  \\\n",
       "0  http://www.qstheory.cn/dukan/qs/2024-01/01/c_1...   \n",
       "\n",
       "                                                text  quarter year_quarter  \\\n",
       "0  本期发表了习近平总书记的重要文章《以美丽中国建设全面推进人与自然和谐共生的现代化》。文章强调...        1      2024 Q1   \n",
       "\n",
       "                                        cleaned_text  \n",
       "0  本期发表了习近平总书记的重要文章以美丽中国建设全面推进人与自然和谐共生的现代化文章强调今后5...  "
      ]
     },
     "execution_count": 3,
     "metadata": {},
     "output_type": "execute_result"
    }
   ],
   "source": [
    "# preprocessing\n",
    "import re\n",
    "import jieba \n",
    "\n",
    "def remove_punctuation(text):\n",
    "    try:\n",
    "        return re.sub('[，。：；‘“’”！？（） 【】「」/、｜《》]', \"\", text)\n",
    "    except:\n",
    "        return \"\"\n",
    "\n",
    "# remove punctuation\n",
    "articles['cleaned_text'] = articles['text'].map(remove_punctuation)\n",
    "articles.head(1)"
   ]
  },
  {
   "cell_type": "code",
   "execution_count": 4,
   "metadata": {},
   "outputs": [
    {
     "name": "stderr",
     "output_type": "stream",
     "text": [
      "Building prefix dict from the default dictionary ...\n",
      "Dumping model to file cache /var/folders/r4/qqn8tv4d7g18t_5fsxt6y1340000gn/T/jieba.cache\n",
      "Loading model cost 0.312 seconds.\n",
      "Prefix dict has been built successfully.\n"
     ]
    },
    {
     "data": {
      "text/html": [
       "<div>\n",
       "<style scoped>\n",
       "    .dataframe tbody tr th:only-of-type {\n",
       "        vertical-align: middle;\n",
       "    }\n",
       "\n",
       "    .dataframe tbody tr th {\n",
       "        vertical-align: top;\n",
       "    }\n",
       "\n",
       "    .dataframe thead th {\n",
       "        text-align: right;\n",
       "    }\n",
       "</style>\n",
       "<table border=\"1\" class=\"dataframe\">\n",
       "  <thead>\n",
       "    <tr style=\"text-align: right;\">\n",
       "      <th></th>\n",
       "      <th>authors</th>\n",
       "      <th>title</th>\n",
       "      <th>date</th>\n",
       "      <th>year</th>\n",
       "      <th>edition</th>\n",
       "      <th>url</th>\n",
       "      <th>text</th>\n",
       "      <th>quarter</th>\n",
       "      <th>year_quarter</th>\n",
       "      <th>cleaned_text</th>\n",
       "      <th>cleaned_text_wspaces</th>\n",
       "    </tr>\n",
       "  </thead>\n",
       "  <tbody>\n",
       "    <tr>\n",
       "      <th>0</th>\n",
       "      <td>NaN</td>\n",
       "      <td>本期导读</td>\n",
       "      <td>2024-01-01</td>\n",
       "      <td>2024</td>\n",
       "      <td>1.0</td>\n",
       "      <td>http://www.qstheory.cn/dukan/qs/2024-01/01/c_1...</td>\n",
       "      <td>本期发表了习近平总书记的重要文章《以美丽中国建设全面推进人与自然和谐共生的现代化》。文章强调...</td>\n",
       "      <td>1</td>\n",
       "      <td>2024 Q1</td>\n",
       "      <td>本期发表了习近平总书记的重要文章以美丽中国建设全面推进人与自然和谐共生的现代化文章强调今后5...</td>\n",
       "      <td>本期 发表 了 习近平 总书记 的 重要 文章 以 美丽 中国 建设 全面 推进 人与自然 ...</td>\n",
       "    </tr>\n",
       "  </tbody>\n",
       "</table>\n",
       "</div>"
      ],
      "text/plain": [
       "  authors title        date  year  edition  \\\n",
       "0     NaN  本期导读  2024-01-01  2024      1.0   \n",
       "\n",
       "                                                 url  \\\n",
       "0  http://www.qstheory.cn/dukan/qs/2024-01/01/c_1...   \n",
       "\n",
       "                                                text  quarter year_quarter  \\\n",
       "0  本期发表了习近平总书记的重要文章《以美丽中国建设全面推进人与自然和谐共生的现代化》。文章强调...        1      2024 Q1   \n",
       "\n",
       "                                        cleaned_text  \\\n",
       "0  本期发表了习近平总书记的重要文章以美丽中国建设全面推进人与自然和谐共生的现代化文章强调今后5...   \n",
       "\n",
       "                                cleaned_text_wspaces  \n",
       "0  本期 发表 了 习近平 总书记 的 重要 文章 以 美丽 中国 建设 全面 推进 人与自然 ...  "
      ]
     },
     "execution_count": 4,
     "metadata": {},
     "output_type": "execute_result"
    }
   ],
   "source": [
    "# parse the Chinese words to have spaces\n",
    "def parse_chinese(text):\n",
    "    seg_text = jieba.cut(text)\n",
    "    seg_list = [word for word in seg_text]\n",
    "    return \" \".join(seg_list)\n",
    "\n",
    "articles['cleaned_text_wspaces'] = articles[\"cleaned_text\"].map(lambda x: parse_chinese(x))\n",
    "\n",
    "articles.head(1)"
   ]
  },
  {
   "cell_type": "code",
   "execution_count": 5,
   "metadata": {},
   "outputs": [
    {
     "name": "stderr",
     "output_type": "stream",
     "text": [
      "[nltk_data] Downloading package punkt to\n",
      "[nltk_data]     /Users/calebharding/nltk_data...\n",
      "[nltk_data]   Package punkt is already up-to-date!\n"
     ]
    },
    {
     "data": {
      "text/plain": [
       "True"
      ]
     },
     "execution_count": 5,
     "metadata": {},
     "output_type": "execute_result"
    }
   ],
   "source": [
    "import nltk\n",
    "from nltk.tokenize import word_tokenize\n",
    "from nltk.util import ngrams\n",
    "nltk.download('punkt')"
   ]
  },
  {
   "cell_type": "code",
   "execution_count": 6,
   "metadata": {},
   "outputs": [],
   "source": [
    "def get_ngrams(text, n):\n",
    "    n_grams = ngrams(word_tokenize(text), n)\n",
    "    return [ ''.join(grams) for grams in n_grams]\n",
    "\n",
    "articles['unigram'] = articles['cleaned_text_wspaces'].map(lambda x: get_ngrams(x, 1))"
   ]
  },
  {
   "cell_type": "code",
   "execution_count": 7,
   "metadata": {},
   "outputs": [],
   "source": [
    "articles['bigram'] = articles['cleaned_text_wspaces'].map(lambda x: get_ngrams(x, 2))"
   ]
  },
  {
   "cell_type": "code",
   "execution_count": 8,
   "metadata": {},
   "outputs": [
    {
     "data": {
      "text/html": [
       "<div>\n",
       "<style scoped>\n",
       "    .dataframe tbody tr th:only-of-type {\n",
       "        vertical-align: middle;\n",
       "    }\n",
       "\n",
       "    .dataframe tbody tr th {\n",
       "        vertical-align: top;\n",
       "    }\n",
       "\n",
       "    .dataframe thead th {\n",
       "        text-align: right;\n",
       "    }\n",
       "</style>\n",
       "<table border=\"1\" class=\"dataframe\">\n",
       "  <thead>\n",
       "    <tr style=\"text-align: right;\">\n",
       "      <th></th>\n",
       "      <th>authors</th>\n",
       "      <th>title</th>\n",
       "      <th>date</th>\n",
       "      <th>year</th>\n",
       "      <th>edition</th>\n",
       "      <th>url</th>\n",
       "      <th>text</th>\n",
       "      <th>quarter</th>\n",
       "      <th>year_quarter</th>\n",
       "      <th>cleaned_text</th>\n",
       "      <th>cleaned_text_wspaces</th>\n",
       "      <th>unigram</th>\n",
       "      <th>bigram</th>\n",
       "    </tr>\n",
       "  </thead>\n",
       "  <tbody>\n",
       "    <tr>\n",
       "      <th>0</th>\n",
       "      <td>NaN</td>\n",
       "      <td>本期导读</td>\n",
       "      <td>2024-01-01</td>\n",
       "      <td>2024</td>\n",
       "      <td>1.0</td>\n",
       "      <td>http://www.qstheory.cn/dukan/qs/2024-01/01/c_1...</td>\n",
       "      <td>本期发表了习近平总书记的重要文章《以美丽中国建设全面推进人与自然和谐共生的现代化》。文章强调...</td>\n",
       "      <td>1</td>\n",
       "      <td>2024 Q1</td>\n",
       "      <td>本期发表了习近平总书记的重要文章以美丽中国建设全面推进人与自然和谐共生的现代化文章强调今后5...</td>\n",
       "      <td>本期 发表 了 习近平 总书记 的 重要 文章 以 美丽 中国 建设 全面 推进 人与自然 ...</td>\n",
       "      <td>[本期, 发表, 了, 习近平, 总书记, 的, 重要, 文章, 以, 美丽, 中国, 建设...</td>\n",
       "      <td>[本期发表, 发表了, 了习近平, 习近平总书记, 总书记的, 的重要, 重要文章, 文章以...</td>\n",
       "    </tr>\n",
       "  </tbody>\n",
       "</table>\n",
       "</div>"
      ],
      "text/plain": [
       "  authors title        date  year  edition  \\\n",
       "0     NaN  本期导读  2024-01-01  2024      1.0   \n",
       "\n",
       "                                                 url  \\\n",
       "0  http://www.qstheory.cn/dukan/qs/2024-01/01/c_1...   \n",
       "\n",
       "                                                text  quarter year_quarter  \\\n",
       "0  本期发表了习近平总书记的重要文章《以美丽中国建设全面推进人与自然和谐共生的现代化》。文章强调...        1      2024 Q1   \n",
       "\n",
       "                                        cleaned_text  \\\n",
       "0  本期发表了习近平总书记的重要文章以美丽中国建设全面推进人与自然和谐共生的现代化文章强调今后5...   \n",
       "\n",
       "                                cleaned_text_wspaces  \\\n",
       "0  本期 发表 了 习近平 总书记 的 重要 文章 以 美丽 中国 建设 全面 推进 人与自然 ...   \n",
       "\n",
       "                                             unigram  \\\n",
       "0  [本期, 发表, 了, 习近平, 总书记, 的, 重要, 文章, 以, 美丽, 中国, 建设...   \n",
       "\n",
       "                                              bigram  \n",
       "0  [本期发表, 发表了, 了习近平, 习近平总书记, 总书记的, 的重要, 重要文章, 文章以...  "
      ]
     },
     "execution_count": 8,
     "metadata": {},
     "output_type": "execute_result"
    }
   ],
   "source": [
    "articles.head(1)"
   ]
  },
  {
   "cell_type": "code",
   "execution_count": 9,
   "metadata": {},
   "outputs": [
    {
     "data": {
      "text/html": [
       "<div>\n",
       "<style scoped>\n",
       "    .dataframe tbody tr th:only-of-type {\n",
       "        vertical-align: middle;\n",
       "    }\n",
       "\n",
       "    .dataframe tbody tr th {\n",
       "        vertical-align: top;\n",
       "    }\n",
       "\n",
       "    .dataframe thead th {\n",
       "        text-align: right;\n",
       "    }\n",
       "</style>\n",
       "<table border=\"1\" class=\"dataframe\">\n",
       "  <thead>\n",
       "    <tr style=\"text-align: right;\">\n",
       "      <th></th>\n",
       "      <th>authors</th>\n",
       "      <th>title</th>\n",
       "      <th>date</th>\n",
       "      <th>year</th>\n",
       "      <th>edition</th>\n",
       "      <th>url</th>\n",
       "      <th>text</th>\n",
       "      <th>quarter</th>\n",
       "      <th>year_quarter</th>\n",
       "      <th>cleaned_text</th>\n",
       "      <th>cleaned_text_wspaces</th>\n",
       "      <th>unigram</th>\n",
       "      <th>bigram</th>\n",
       "      <th>unigram_count</th>\n",
       "      <th>bigram_count</th>\n",
       "    </tr>\n",
       "  </thead>\n",
       "  <tbody>\n",
       "    <tr>\n",
       "      <th>0</th>\n",
       "      <td>NaN</td>\n",
       "      <td>本期导读</td>\n",
       "      <td>2024-01-01</td>\n",
       "      <td>2024</td>\n",
       "      <td>1.0</td>\n",
       "      <td>http://www.qstheory.cn/dukan/qs/2024-01/01/c_1...</td>\n",
       "      <td>本期发表了习近平总书记的重要文章《以美丽中国建设全面推进人与自然和谐共生的现代化》。文章强调...</td>\n",
       "      <td>1</td>\n",
       "      <td>2024 Q1</td>\n",
       "      <td>本期发表了习近平总书记的重要文章以美丽中国建设全面推进人与自然和谐共生的现代化文章强调今后5...</td>\n",
       "      <td>本期 发表 了 习近平 总书记 的 重要 文章 以 美丽 中国 建设 全面 推进 人与自然 ...</td>\n",
       "      <td>[本期, 发表, 了, 习近平, 总书记, 的, 重要, 文章, 以, 美丽, 中国, 建设...</td>\n",
       "      <td>[本期发表, 发表了, 了习近平, 习近平总书记, 总书记的, 的重要, 重要文章, 文章以...</td>\n",
       "      <td>{'的': 24, '文章': 14, '建设': 11, '中国': 10, '美丽': ...</td>\n",
       "      <td>{'美丽中国': 9, '的文章': 9, '中国建设': 7, '习近平总书记': 4, ...</td>\n",
       "    </tr>\n",
       "  </tbody>\n",
       "</table>\n",
       "</div>"
      ],
      "text/plain": [
       "  authors title        date  year  edition  \\\n",
       "0     NaN  本期导读  2024-01-01  2024      1.0   \n",
       "\n",
       "                                                 url  \\\n",
       "0  http://www.qstheory.cn/dukan/qs/2024-01/01/c_1...   \n",
       "\n",
       "                                                text  quarter year_quarter  \\\n",
       "0  本期发表了习近平总书记的重要文章《以美丽中国建设全面推进人与自然和谐共生的现代化》。文章强调...        1      2024 Q1   \n",
       "\n",
       "                                        cleaned_text  \\\n",
       "0  本期发表了习近平总书记的重要文章以美丽中国建设全面推进人与自然和谐共生的现代化文章强调今后5...   \n",
       "\n",
       "                                cleaned_text_wspaces  \\\n",
       "0  本期 发表 了 习近平 总书记 的 重要 文章 以 美丽 中国 建设 全面 推进 人与自然 ...   \n",
       "\n",
       "                                             unigram  \\\n",
       "0  [本期, 发表, 了, 习近平, 总书记, 的, 重要, 文章, 以, 美丽, 中国, 建设...   \n",
       "\n",
       "                                              bigram  \\\n",
       "0  [本期发表, 发表了, 了习近平, 习近平总书记, 总书记的, 的重要, 重要文章, 文章以...   \n",
       "\n",
       "                                       unigram_count  \\\n",
       "0  {'的': 24, '文章': 14, '建设': 11, '中国': 10, '美丽': ...   \n",
       "\n",
       "                                        bigram_count  \n",
       "0  {'美丽中国': 9, '的文章': 9, '中国建设': 7, '习近平总书记': 4, ...  "
      ]
     },
     "execution_count": 9,
     "metadata": {},
     "output_type": "execute_result"
    }
   ],
   "source": [
    "# create unigram count dictionary\n",
    "def ngram_counts(ngram):\n",
    "    # create word count dictionary\n",
    "    word_count = {}\n",
    "\n",
    "    for word in ngram:\n",
    "        if word in word_count.keys():\n",
    "            cur_val = word_count[word]\n",
    "            cur_val += 1\n",
    "            word_count[word] = cur_val\n",
    "        else:\n",
    "            word_count[word] = 1\n",
    "\n",
    "    # sort the dictionary\n",
    "    word_count = {k: v for k, v in sorted(word_count.items(), key=lambda item: item[1], reverse=True)}\n",
    "\n",
    "    return word_count\n",
    "\n",
    "articles['unigram_count'] = articles[\"unigram\"].map(lambda x: ngram_counts(x))\n",
    "articles['bigram_count'] = articles[\"bigram\"].map(lambda x: ngram_counts(x))\n",
    "\n",
    "articles.head(1)"
   ]
  },
  {
   "cell_type": "code",
   "execution_count": 10,
   "metadata": {},
   "outputs": [],
   "source": [
    "articles.to_csv('processed_articles.csv', index=False)"
   ]
  },
  {
   "cell_type": "code",
   "execution_count": null,
   "metadata": {},
   "outputs": [],
   "source": []
  }
 ],
 "metadata": {
  "kernelspec": {
   "display_name": "qiushi_venv",
   "language": "python",
   "name": "python3"
  },
  "language_info": {
   "codemirror_mode": {
    "name": "ipython",
    "version": 3
   },
   "file_extension": ".py",
   "mimetype": "text/x-python",
   "name": "python",
   "nbconvert_exporter": "python",
   "pygments_lexer": "ipython3",
   "version": "3.11.6"
  }
 },
 "nbformat": 4,
 "nbformat_minor": 2
}

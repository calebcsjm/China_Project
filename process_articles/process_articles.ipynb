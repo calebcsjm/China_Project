{
 "cells": [
  {
   "cell_type": "code",
   "execution_count": 9,
   "metadata": {},
   "outputs": [
    {
     "name": "stdout",
     "output_type": "stream",
     "text": [
      "Validated articles: 2014\n"
     ]
    },
    {
     "data": {
      "text/html": [
       "<div>\n",
       "<style scoped>\n",
       "    .dataframe tbody tr th:only-of-type {\n",
       "        vertical-align: middle;\n",
       "    }\n",
       "\n",
       "    .dataframe tbody tr th {\n",
       "        vertical-align: top;\n",
       "    }\n",
       "\n",
       "    .dataframe thead th {\n",
       "        text-align: right;\n",
       "    }\n",
       "</style>\n",
       "<table border=\"1\" class=\"dataframe\">\n",
       "  <thead>\n",
       "    <tr style=\"text-align: right;\">\n",
       "      <th></th>\n",
       "      <th>authors</th>\n",
       "      <th>title</th>\n",
       "      <th>date</th>\n",
       "      <th>year</th>\n",
       "      <th>edition</th>\n",
       "      <th>url</th>\n",
       "      <th>text</th>\n",
       "      <th>quarter</th>\n",
       "      <th>year_quarter</th>\n",
       "    </tr>\n",
       "  </thead>\n",
       "  <tbody>\n",
       "    <tr>\n",
       "      <th>0</th>\n",
       "      <td>NaN</td>\n",
       "      <td>本期导读</td>\n",
       "      <td>2023-01-01</td>\n",
       "      <td>2023</td>\n",
       "      <td>1.0</td>\n",
       "      <td>http://www.qstheory.cn/dukan/qs/2023-01/01/c_1...</td>\n",
       "      <td>本期发表了习近平总书记的重要讲话《为实现党的二十大确定的目标任务而团结奋斗》。讲话强调，全面...</td>\n",
       "      <td>1</td>\n",
       "      <td>2023 Q1</td>\n",
       "    </tr>\n",
       "  </tbody>\n",
       "</table>\n",
       "</div>"
      ],
      "text/plain": [
       "  authors title        date  year  edition  \\\n",
       "0     NaN  本期导读  2023-01-01  2023      1.0   \n",
       "\n",
       "                                                 url  \\\n",
       "0  http://www.qstheory.cn/dukan/qs/2023-01/01/c_1...   \n",
       "\n",
       "                                                text  quarter year_quarter  \n",
       "0  本期发表了习近平总书记的重要讲话《为实现党的二十大确定的目标任务而团结奋斗》。讲话强调，全面...        1      2023 Q1  "
      ]
     },
     "execution_count": 9,
     "metadata": {},
     "output_type": "execute_result"
    }
   ],
   "source": [
    "import pandas as pd\n",
    "\n",
    "articles = pd.read_csv('validated_articles.csv')\n",
    "\n",
    "print(f\"Validated articles: {len(articles)}\")\n",
    "\n",
    "articles.head(1)"
   ]
  },
  {
   "cell_type": "code",
   "execution_count": 10,
   "metadata": {},
   "outputs": [
    {
     "data": {
      "text/html": [
       "<div>\n",
       "<style scoped>\n",
       "    .dataframe tbody tr th:only-of-type {\n",
       "        vertical-align: middle;\n",
       "    }\n",
       "\n",
       "    .dataframe tbody tr th {\n",
       "        vertical-align: top;\n",
       "    }\n",
       "\n",
       "    .dataframe thead th {\n",
       "        text-align: right;\n",
       "    }\n",
       "</style>\n",
       "<table border=\"1\" class=\"dataframe\">\n",
       "  <thead>\n",
       "    <tr style=\"text-align: right;\">\n",
       "      <th></th>\n",
       "      <th>authors</th>\n",
       "      <th>title</th>\n",
       "      <th>date</th>\n",
       "      <th>year</th>\n",
       "      <th>edition</th>\n",
       "      <th>url</th>\n",
       "      <th>text</th>\n",
       "      <th>quarter</th>\n",
       "      <th>year_quarter</th>\n",
       "      <th>cleaned_text</th>\n",
       "    </tr>\n",
       "  </thead>\n",
       "  <tbody>\n",
       "    <tr>\n",
       "      <th>0</th>\n",
       "      <td>NaN</td>\n",
       "      <td>本期导读</td>\n",
       "      <td>2023-01-01</td>\n",
       "      <td>2023</td>\n",
       "      <td>1.0</td>\n",
       "      <td>http://www.qstheory.cn/dukan/qs/2023-01/01/c_1...</td>\n",
       "      <td>本期发表了习近平总书记的重要讲话《为实现党的二十大确定的目标任务而团结奋斗》。讲话强调，全面...</td>\n",
       "      <td>1</td>\n",
       "      <td>2023 Q1</td>\n",
       "      <td>本期发表了习近平总书记的重要讲话为实现党的二十大确定的目标任务而团结奋斗讲话强调全面贯彻党的...</td>\n",
       "    </tr>\n",
       "  </tbody>\n",
       "</table>\n",
       "</div>"
      ],
      "text/plain": [
       "  authors title        date  year  edition  \\\n",
       "0     NaN  本期导读  2023-01-01  2023      1.0   \n",
       "\n",
       "                                                 url  \\\n",
       "0  http://www.qstheory.cn/dukan/qs/2023-01/01/c_1...   \n",
       "\n",
       "                                                text  quarter year_quarter  \\\n",
       "0  本期发表了习近平总书记的重要讲话《为实现党的二十大确定的目标任务而团结奋斗》。讲话强调，全面...        1      2023 Q1   \n",
       "\n",
       "                                        cleaned_text  \n",
       "0  本期发表了习近平总书记的重要讲话为实现党的二十大确定的目标任务而团结奋斗讲话强调全面贯彻党的...  "
      ]
     },
     "execution_count": 10,
     "metadata": {},
     "output_type": "execute_result"
    }
   ],
   "source": [
    "# preprocessing\n",
    "import re\n",
    "import jieba \n",
    "\n",
    "def remove_punctuation(text):\n",
    "    try:\n",
    "        return re.sub('[，。：；‘“’”！？（） 【】「」/、｜《》]', \"\", text)\n",
    "    except:\n",
    "        return \"\"\n",
    "\n",
    "# remove punctuation\n",
    "articles['cleaned_text'] = articles['text'].map(remove_punctuation)\n",
    "articles.head(1)"
   ]
  },
  {
   "cell_type": "code",
   "execution_count": 11,
   "metadata": {},
   "outputs": [
    {
     "name": "stderr",
     "output_type": "stream",
     "text": [
      "Building prefix dict from the default dictionary ...\n",
      "Loading model from cache /var/folders/r4/qqn8tv4d7g18t_5fsxt6y1340000gn/T/jieba.cache\n",
      "Loading model cost 0.321 seconds.\n",
      "Prefix dict has been built successfully.\n"
     ]
    },
    {
     "data": {
      "text/html": [
       "<div>\n",
       "<style scoped>\n",
       "    .dataframe tbody tr th:only-of-type {\n",
       "        vertical-align: middle;\n",
       "    }\n",
       "\n",
       "    .dataframe tbody tr th {\n",
       "        vertical-align: top;\n",
       "    }\n",
       "\n",
       "    .dataframe thead th {\n",
       "        text-align: right;\n",
       "    }\n",
       "</style>\n",
       "<table border=\"1\" class=\"dataframe\">\n",
       "  <thead>\n",
       "    <tr style=\"text-align: right;\">\n",
       "      <th></th>\n",
       "      <th>authors</th>\n",
       "      <th>title</th>\n",
       "      <th>date</th>\n",
       "      <th>year</th>\n",
       "      <th>edition</th>\n",
       "      <th>url</th>\n",
       "      <th>text</th>\n",
       "      <th>quarter</th>\n",
       "      <th>year_quarter</th>\n",
       "      <th>cleaned_text</th>\n",
       "      <th>cleaned_text_wspaces</th>\n",
       "    </tr>\n",
       "  </thead>\n",
       "  <tbody>\n",
       "    <tr>\n",
       "      <th>0</th>\n",
       "      <td>NaN</td>\n",
       "      <td>本期导读</td>\n",
       "      <td>2023-01-01</td>\n",
       "      <td>2023</td>\n",
       "      <td>1.0</td>\n",
       "      <td>http://www.qstheory.cn/dukan/qs/2023-01/01/c_1...</td>\n",
       "      <td>本期发表了习近平总书记的重要讲话《为实现党的二十大确定的目标任务而团结奋斗》。讲话强调，全面...</td>\n",
       "      <td>1</td>\n",
       "      <td>2023 Q1</td>\n",
       "      <td>本期发表了习近平总书记的重要讲话为实现党的二十大确定的目标任务而团结奋斗讲话强调全面贯彻党的...</td>\n",
       "      <td>本期 发表 了 习近平 总书记 的 重要讲话 为 实现 党 的 二十大 确定 的 目标 任务...</td>\n",
       "    </tr>\n",
       "  </tbody>\n",
       "</table>\n",
       "</div>"
      ],
      "text/plain": [
       "  authors title        date  year  edition  \\\n",
       "0     NaN  本期导读  2023-01-01  2023      1.0   \n",
       "\n",
       "                                                 url  \\\n",
       "0  http://www.qstheory.cn/dukan/qs/2023-01/01/c_1...   \n",
       "\n",
       "                                                text  quarter year_quarter  \\\n",
       "0  本期发表了习近平总书记的重要讲话《为实现党的二十大确定的目标任务而团结奋斗》。讲话强调，全面...        1      2023 Q1   \n",
       "\n",
       "                                        cleaned_text  \\\n",
       "0  本期发表了习近平总书记的重要讲话为实现党的二十大确定的目标任务而团结奋斗讲话强调全面贯彻党的...   \n",
       "\n",
       "                                cleaned_text_wspaces  \n",
       "0  本期 发表 了 习近平 总书记 的 重要讲话 为 实现 党 的 二十大 确定 的 目标 任务...  "
      ]
     },
     "execution_count": 11,
     "metadata": {},
     "output_type": "execute_result"
    }
   ],
   "source": [
    "# parse the Chinese words to have spaces\n",
    "def parse_chinese(text):\n",
    "    seg_text = jieba.cut(text)\n",
    "    seg_list = [word for word in seg_text]\n",
    "    return \" \".join(seg_list)\n",
    "\n",
    "articles['cleaned_text_wspaces'] = articles[\"cleaned_text\"].map(lambda x: parse_chinese(x))\n",
    "\n",
    "articles.head(1)"
   ]
  },
  {
   "cell_type": "code",
   "execution_count": 12,
   "metadata": {},
   "outputs": [
    {
     "name": "stderr",
     "output_type": "stream",
     "text": [
      "[nltk_data] Downloading package punkt to\n",
      "[nltk_data]     /Users/calebharding/nltk_data...\n",
      "[nltk_data]   Package punkt is already up-to-date!\n"
     ]
    },
    {
     "data": {
      "text/plain": [
       "True"
      ]
     },
     "execution_count": 12,
     "metadata": {},
     "output_type": "execute_result"
    }
   ],
   "source": [
    "import nltk\n",
    "from nltk.tokenize import word_tokenize\n",
    "from nltk.util import ngrams\n",
    "nltk.download('punkt')"
   ]
  },
  {
   "cell_type": "code",
   "execution_count": 13,
   "metadata": {},
   "outputs": [],
   "source": [
    "def get_ngrams(text, n):\n",
    "    n_grams = ngrams(word_tokenize(text), n)\n",
    "    return [ ''.join(grams) for grams in n_grams]\n",
    "\n",
    "articles['unigram'] = articles['cleaned_text_wspaces'].map(lambda x: get_ngrams(x, 1))"
   ]
  },
  {
   "cell_type": "code",
   "execution_count": 14,
   "metadata": {},
   "outputs": [],
   "source": [
    "articles['bigram'] = articles['cleaned_text_wspaces'].map(lambda x: get_ngrams(x, 2))"
   ]
  },
  {
   "cell_type": "code",
   "execution_count": 15,
   "metadata": {},
   "outputs": [
    {
     "data": {
      "text/html": [
       "<div>\n",
       "<style scoped>\n",
       "    .dataframe tbody tr th:only-of-type {\n",
       "        vertical-align: middle;\n",
       "    }\n",
       "\n",
       "    .dataframe tbody tr th {\n",
       "        vertical-align: top;\n",
       "    }\n",
       "\n",
       "    .dataframe thead th {\n",
       "        text-align: right;\n",
       "    }\n",
       "</style>\n",
       "<table border=\"1\" class=\"dataframe\">\n",
       "  <thead>\n",
       "    <tr style=\"text-align: right;\">\n",
       "      <th></th>\n",
       "      <th>authors</th>\n",
       "      <th>title</th>\n",
       "      <th>date</th>\n",
       "      <th>year</th>\n",
       "      <th>edition</th>\n",
       "      <th>url</th>\n",
       "      <th>text</th>\n",
       "      <th>quarter</th>\n",
       "      <th>year_quarter</th>\n",
       "      <th>cleaned_text</th>\n",
       "      <th>cleaned_text_wspaces</th>\n",
       "      <th>unigram</th>\n",
       "      <th>bigram</th>\n",
       "    </tr>\n",
       "  </thead>\n",
       "  <tbody>\n",
       "    <tr>\n",
       "      <th>0</th>\n",
       "      <td>NaN</td>\n",
       "      <td>本期导读</td>\n",
       "      <td>2023-01-01</td>\n",
       "      <td>2023</td>\n",
       "      <td>1.0</td>\n",
       "      <td>http://www.qstheory.cn/dukan/qs/2023-01/01/c_1...</td>\n",
       "      <td>本期发表了习近平总书记的重要讲话《为实现党的二十大确定的目标任务而团结奋斗》。讲话强调，全面...</td>\n",
       "      <td>1</td>\n",
       "      <td>2023 Q1</td>\n",
       "      <td>本期发表了习近平总书记的重要讲话为实现党的二十大确定的目标任务而团结奋斗讲话强调全面贯彻党的...</td>\n",
       "      <td>本期 发表 了 习近平 总书记 的 重要讲话 为 实现 党 的 二十大 确定 的 目标 任务...</td>\n",
       "      <td>[本期, 发表, 了, 习近平, 总书记, 的, 重要讲话, 为, 实现, 党, 的, 二十...</td>\n",
       "      <td>[本期发表, 发表了, 了习近平, 习近平总书记, 总书记的, 的重要讲话, 重要讲话为, ...</td>\n",
       "    </tr>\n",
       "  </tbody>\n",
       "</table>\n",
       "</div>"
      ],
      "text/plain": [
       "  authors title        date  year  edition  \\\n",
       "0     NaN  本期导读  2023-01-01  2023      1.0   \n",
       "\n",
       "                                                 url  \\\n",
       "0  http://www.qstheory.cn/dukan/qs/2023-01/01/c_1...   \n",
       "\n",
       "                                                text  quarter year_quarter  \\\n",
       "0  本期发表了习近平总书记的重要讲话《为实现党的二十大确定的目标任务而团结奋斗》。讲话强调，全面...        1      2023 Q1   \n",
       "\n",
       "                                        cleaned_text  \\\n",
       "0  本期发表了习近平总书记的重要讲话为实现党的二十大确定的目标任务而团结奋斗讲话强调全面贯彻党的...   \n",
       "\n",
       "                                cleaned_text_wspaces  \\\n",
       "0  本期 发表 了 习近平 总书记 的 重要讲话 为 实现 党 的 二十大 确定 的 目标 任务...   \n",
       "\n",
       "                                             unigram  \\\n",
       "0  [本期, 发表, 了, 习近平, 总书记, 的, 重要讲话, 为, 实现, 党, 的, 二十...   \n",
       "\n",
       "                                              bigram  \n",
       "0  [本期发表, 发表了, 了习近平, 习近平总书记, 总书记的, 的重要讲话, 重要讲话为, ...  "
      ]
     },
     "execution_count": 15,
     "metadata": {},
     "output_type": "execute_result"
    }
   ],
   "source": [
    "articles.head(1)"
   ]
  },
  {
   "cell_type": "code",
   "execution_count": 16,
   "metadata": {},
   "outputs": [
    {
     "data": {
      "text/html": [
       "<div>\n",
       "<style scoped>\n",
       "    .dataframe tbody tr th:only-of-type {\n",
       "        vertical-align: middle;\n",
       "    }\n",
       "\n",
       "    .dataframe tbody tr th {\n",
       "        vertical-align: top;\n",
       "    }\n",
       "\n",
       "    .dataframe thead th {\n",
       "        text-align: right;\n",
       "    }\n",
       "</style>\n",
       "<table border=\"1\" class=\"dataframe\">\n",
       "  <thead>\n",
       "    <tr style=\"text-align: right;\">\n",
       "      <th></th>\n",
       "      <th>authors</th>\n",
       "      <th>title</th>\n",
       "      <th>date</th>\n",
       "      <th>year</th>\n",
       "      <th>edition</th>\n",
       "      <th>url</th>\n",
       "      <th>text</th>\n",
       "      <th>quarter</th>\n",
       "      <th>year_quarter</th>\n",
       "      <th>cleaned_text</th>\n",
       "      <th>cleaned_text_wspaces</th>\n",
       "      <th>unigram</th>\n",
       "      <th>bigram</th>\n",
       "      <th>unigram_count</th>\n",
       "      <th>bigram_count</th>\n",
       "    </tr>\n",
       "  </thead>\n",
       "  <tbody>\n",
       "    <tr>\n",
       "      <th>0</th>\n",
       "      <td>NaN</td>\n",
       "      <td>本期导读</td>\n",
       "      <td>2023-01-01</td>\n",
       "      <td>2023</td>\n",
       "      <td>1.0</td>\n",
       "      <td>http://www.qstheory.cn/dukan/qs/2023-01/01/c_1...</td>\n",
       "      <td>本期发表了习近平总书记的重要讲话《为实现党的二十大确定的目标任务而团结奋斗》。讲话强调，全面...</td>\n",
       "      <td>1</td>\n",
       "      <td>2023 Q1</td>\n",
       "      <td>本期发表了习近平总书记的重要讲话为实现党的二十大确定的目标任务而团结奋斗讲话强调全面贯彻党的...</td>\n",
       "      <td>本期 发表 了 习近平 总书记 的 重要讲话 为 实现 党 的 二十大 确定 的 目标 任务...</td>\n",
       "      <td>[本期, 发表, 了, 习近平, 总书记, 的, 重要讲话, 为, 实现, 党, 的, 二十...</td>\n",
       "      <td>[本期发表, 发表了, 了习近平, 习近平总书记, 总书记的, 的重要讲话, 重要讲话为, ...</td>\n",
       "      <td>{'的': 31, '新': 12, '发展': 9, '党': 8, '文章': 8, '...</td>\n",
       "      <td>{'党的': 8, '的文章': 6, '的二十大': 5, '新的': 4, '文章阐释'...</td>\n",
       "    </tr>\n",
       "  </tbody>\n",
       "</table>\n",
       "</div>"
      ],
      "text/plain": [
       "  authors title        date  year  edition  \\\n",
       "0     NaN  本期导读  2023-01-01  2023      1.0   \n",
       "\n",
       "                                                 url  \\\n",
       "0  http://www.qstheory.cn/dukan/qs/2023-01/01/c_1...   \n",
       "\n",
       "                                                text  quarter year_quarter  \\\n",
       "0  本期发表了习近平总书记的重要讲话《为实现党的二十大确定的目标任务而团结奋斗》。讲话强调，全面...        1      2023 Q1   \n",
       "\n",
       "                                        cleaned_text  \\\n",
       "0  本期发表了习近平总书记的重要讲话为实现党的二十大确定的目标任务而团结奋斗讲话强调全面贯彻党的...   \n",
       "\n",
       "                                cleaned_text_wspaces  \\\n",
       "0  本期 发表 了 习近平 总书记 的 重要讲话 为 实现 党 的 二十大 确定 的 目标 任务...   \n",
       "\n",
       "                                             unigram  \\\n",
       "0  [本期, 发表, 了, 习近平, 总书记, 的, 重要讲话, 为, 实现, 党, 的, 二十...   \n",
       "\n",
       "                                              bigram  \\\n",
       "0  [本期发表, 发表了, 了习近平, 习近平总书记, 总书记的, 的重要讲话, 重要讲话为, ...   \n",
       "\n",
       "                                       unigram_count  \\\n",
       "0  {'的': 31, '新': 12, '发展': 9, '党': 8, '文章': 8, '...   \n",
       "\n",
       "                                        bigram_count  \n",
       "0  {'党的': 8, '的文章': 6, '的二十大': 5, '新的': 4, '文章阐释'...  "
      ]
     },
     "execution_count": 16,
     "metadata": {},
     "output_type": "execute_result"
    }
   ],
   "source": [
    "# create unigram count dictionary\n",
    "def ngram_counts(ngram):\n",
    "    # create word count dictionary\n",
    "    word_count = {}\n",
    "\n",
    "    for word in ngram:\n",
    "        if word in word_count.keys():\n",
    "            cur_val = word_count[word]\n",
    "            cur_val += 1\n",
    "            word_count[word] = cur_val\n",
    "        else:\n",
    "            word_count[word] = 1\n",
    "\n",
    "    # sort the dictionary\n",
    "    word_count = {k: v for k, v in sorted(word_count.items(), key=lambda item: item[1], reverse=True)}\n",
    "\n",
    "    return word_count\n",
    "\n",
    "articles['unigram_count'] = articles[\"unigram\"].map(lambda x: ngram_counts(x))\n",
    "articles['bigram_count'] = articles[\"bigram\"].map(lambda x: ngram_counts(x))\n",
    "\n",
    "articles.head(1)"
   ]
  },
  {
   "cell_type": "code",
   "execution_count": 17,
   "metadata": {},
   "outputs": [],
   "source": [
    "articles.to_csv('processed_articles.csv', index=False)"
   ]
  },
  {
   "cell_type": "code",
   "execution_count": null,
   "metadata": {},
   "outputs": [],
   "source": []
  }
 ],
 "metadata": {
  "kernelspec": {
   "display_name": "qiushi_venv",
   "language": "python",
   "name": "python3"
  },
  "language_info": {
   "codemirror_mode": {
    "name": "ipython",
    "version": 3
   },
   "file_extension": ".py",
   "mimetype": "text/x-python",
   "name": "python",
   "nbconvert_exporter": "python",
   "pygments_lexer": "ipython3",
   "version": "3.11.6"
  }
 },
 "nbformat": 4,
 "nbformat_minor": 2
}

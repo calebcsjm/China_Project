{
 "cells": [
  {
   "cell_type": "code",
   "execution_count": 8,
   "metadata": {},
   "outputs": [],
   "source": [
    "import pandas as pd"
   ]
  },
  {
   "cell_type": "code",
   "execution_count": 9,
   "metadata": {},
   "outputs": [
    {
     "name": "stdout",
     "output_type": "stream",
     "text": [
      "Total number of articles scraped: 2181\n"
     ]
    }
   ],
   "source": [
    "articles = pd.read_csv('../get_articles/all_articles.csv')\n",
    "print(f\"Total number of articles scraped: {len(articles)}\")"
   ]
  },
  {
   "cell_type": "code",
   "execution_count": 10,
   "metadata": {},
   "outputs": [
    {
     "data": {
      "text/plain": [
       "0"
      ]
     },
     "execution_count": 10,
     "metadata": {},
     "output_type": "execute_result"
    }
   ],
   "source": [
    "missing_year = articles[articles['year'].isnull()]\n",
    "# missing_year.to_csv('missing_year.csv')\n",
    "len(missing_year)"
   ]
  },
  {
   "cell_type": "code",
   "execution_count": 11,
   "metadata": {},
   "outputs": [
    {
     "name": "stdout",
     "output_type": "stream",
     "text": [
      "Number of articles after dropping missing years: 2181\n"
     ]
    }
   ],
   "source": [
    "def determine_edition_quarter(edition_number):\n",
    "    if edition_number in range(1,7):\n",
    "        return 1\n",
    "    elif edition_number in range(7,13):\n",
    "        return 2\n",
    "    elif edition_number in range(13, 19):\n",
    "        return 3\n",
    "    else:\n",
    "        return 4\n",
    "    \n",
    "def combine_year_quarter(row):\n",
    "    return str(row[\"year\"]) + \" Q\" + str(row[\"quarter\"])\n",
    "\n",
    "# drop articles without a year\n",
    "articles = articles.dropna(subset=[\"year\"])\n",
    "print(f\"Number of articles after dropping missing years: {len(articles)}\")\n",
    "    \n",
    "# add a column for the quarter\n",
    "articles[\"quarter\"] = articles['edition'].map(lambda x: determine_edition_quarter(x))\n",
    "\n",
    "# add a column for the year/quarter combo\n",
    "articles = articles.astype({\"year\": int})\n",
    "articles[\"year_quarter\"] = articles.apply(combine_year_quarter, axis=1)"
   ]
  },
  {
   "cell_type": "code",
   "execution_count": 12,
   "metadata": {},
   "outputs": [
    {
     "name": "stdout",
     "output_type": "stream",
     "text": [
      "Number of articles after dropping those with no text: 2058\n"
     ]
    }
   ],
   "source": [
    "# verify that the textless articles are what we think - statistical reports, not just\n",
    "# articles that failed to scrape\n",
    "textless_articles = articles[articles['text'].isnull()]\n",
    "textless_articles.to_csv('textless_articles.csv')\n",
    "\n",
    "articles.dropna(subset=['text'], inplace=True)\n",
    "print(f'Number of articles after dropping those with no text: {len(articles)}')"
   ]
  },
  {
   "cell_type": "code",
   "execution_count": 13,
   "metadata": {},
   "outputs": [
    {
     "name": "stdout",
     "output_type": "stream",
     "text": [
      "Suspected top-level links: 16\n",
      "Top-level links: 13\n"
     ]
    }
   ],
   "source": [
    "# drop articles that are top-level articles with duplicate text contained - they have three+ articles\n",
    "# from the same edition copied inside of them\n",
    "suspected_toplevel = articles[articles.text.str.contains('编者按')]\n",
    "suspected_toplevel['url'].to_csv('suspected_toplevel.csv')\n",
    "toplevel_links = list(suspected_toplevel['url'])\n",
    "print(f'Suspected top-level links: {len(toplevel_links)}')\n",
    "\n",
    "# remove the few links that are actually legit (determined by looking at all 16)\n",
    "legit_links = ['http://www.qstheory.cn/dukan/qs/2019-01/16/c_1123987212.htm',\n",
    "               'http://www.qstheory.cn/dukan/qs/2019-01/16/c_1123987342.htm',\n",
    "               'http://www.qstheory.cn/dukan/qs/2019-07/01/c_1124690404.htm']\n",
    "for link in legit_links:\n",
    "    toplevel_links.remove(link)\n",
    "print(f'Top-level links: {len(toplevel_links)}')"
   ]
  },
  {
   "cell_type": "code",
   "execution_count": 14,
   "metadata": {},
   "outputs": [
    {
     "name": "stdout",
     "output_type": "stream",
     "text": [
      "Number of articles after dropping top-level entries: 2045\n"
     ]
    }
   ],
   "source": [
    "# drop the articles\n",
    "articles = articles[~articles['url'].isin(toplevel_links)]\n",
    "print(f'Number of articles after dropping top-level entries: {len(articles)}')"
   ]
  },
  {
   "cell_type": "code",
   "execution_count": 15,
   "metadata": {},
   "outputs": [
    {
     "name": "stdout",
     "output_type": "stream",
     "text": [
      "Number of articles after dropping 2024 entries: 2014\n"
     ]
    }
   ],
   "source": [
    "# for the sake of consistency, drop the articles that are from 2024, since there \n",
    "# isn't a complete quarter yet\n",
    "articles = articles[articles['year'] != 2024]\n",
    "print(f'Number of articles after dropping 2024 entries: {len(articles)}')"
   ]
  },
  {
   "cell_type": "code",
   "execution_count": 16,
   "metadata": {},
   "outputs": [],
   "source": [
    "articles.to_csv('validated_articles.csv', index=False)"
   ]
  },
  {
   "cell_type": "code",
   "execution_count": null,
   "metadata": {},
   "outputs": [],
   "source": []
  }
 ],
 "metadata": {
  "kernelspec": {
   "display_name": "qiushi_venv",
   "language": "python",
   "name": "python3"
  },
  "language_info": {
   "codemirror_mode": {
    "name": "ipython",
    "version": 3
   },
   "file_extension": ".py",
   "mimetype": "text/x-python",
   "name": "python",
   "nbconvert_exporter": "python",
   "pygments_lexer": "ipython3",
   "version": "3.11.6"
  }
 },
 "nbformat": 4,
 "nbformat_minor": 2
}

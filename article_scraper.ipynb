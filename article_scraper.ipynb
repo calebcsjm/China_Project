{
 "cells": [
  {
   "cell_type": "code",
   "execution_count": 42,
   "metadata": {},
   "outputs": [],
   "source": [
    "'''given a url, scrape the article information'''\n",
    "\n",
    "from newspaper import Article\n",
    "from urllib.request import urlopen\n",
    "from bs4 import BeautifulSoup\n",
    "import json\n",
    "import openai\n",
    "\n",
    "def process_complicated_author(author):\n",
    "\n",
    "    with open('./openai_auth.json', 'r') as json_file:\n",
    "        json_load = json.load(json_file)\n",
    "\n",
    "    openai.api_key = json_load[\"api_key\"]\n",
    "\n",
    "    prompt = f\"\"\"\n",
    "    Please give me the names of the authors included in this text, and remove any unnecessary spaces within names. Please give me the names, seperated by a space, and nothing else. For example, if the text was \"求是》杂志记者 何雯雯 新县融媒体中心记者 韩 燕\", I would want you to tell me \"何雯雯 韩燕\". The text is: {author}\n",
    "    \"\"\"\n",
    "\n",
    "    response = openai.chat.completions.create(\n",
    "        model=\"gpt-3.5-turbo-1106\",\n",
    "        messages=[{\n",
    "            \"role\":\"user\",\n",
    "            \"content\":prompt\n",
    "        }]\n",
    "    )\n",
    "\n",
    "    return response.choices[0].message.content\n",
    "\n",
    "class QiuShiArticleParser:\n",
    "    def __init__(self, url):\n",
    "        # get the beautiful soup version\n",
    "        self.url = url\n",
    "        try:\n",
    "            page = urlopen(url)\n",
    "            html = page.read().decode(\"utf-8\")\n",
    "            self.soup = BeautifulSoup(html, \"html.parser\")\n",
    "\n",
    "            # get the newspaper article version\n",
    "            self.article = Article(url, language='zh')\n",
    "            self.article.download()\n",
    "            self.article.parse()\n",
    "        except:\n",
    "            print(f\"Article with URL: {url} failed to parse\")\n",
    "            self.soup = None\n",
    "            self.article = None\n",
    "\n",
    "    def get_authors(self):\n",
    "        if self.soup == None:\n",
    "            return None\n",
    "        span_els = self.soup.find_all(\"span\", class_=\"appellation\")\n",
    "        try:\n",
    "            # author is the second appel element\n",
    "            author_el = span_els[1].text.strip()\n",
    "            # remove the \"Author:\" piece\n",
    "            author = author_el.split(\"：\")[1]\n",
    "\n",
    "            # see if it needs additional processing\n",
    "            # no spaces, should be good to go. Or if None, return\n",
    "            if author == None:\n",
    "                return [author]\n",
    "            elif \" \" not in author:\n",
    "                return [author]\n",
    "            # spaces, but length three - a 2 char name with a space\n",
    "            elif len(author) == 3:\n",
    "                return [author[0] + author[2]]\n",
    "            # something more complicated is going on - could be multiple authors, could have additional info \n",
    "            else:\n",
    "                print(\"Calling ChatGPT...\")\n",
    "                try:\n",
    "                    author = process_complicated_author(author)\n",
    "                    print(f\"Author returned by ChatGPT: {author}\")\n",
    "                    # split the result in case there is more than one author\n",
    "                    return author.split(\" \")\n",
    "                except:\n",
    "                    print(\"ChatGPT call failed\")\n",
    "                return \"CHATGPT\" + author\n",
    "\n",
    "        except:\n",
    "            return None\n",
    "    \n",
    "    def get_title(self):\n",
    "        if self.soup == None:\n",
    "            return None\n",
    "        return self.soup.find('h1').text.strip()\n",
    "    \n",
    "    def get_year_edition(self):\n",
    "        if self.soup == None:\n",
    "            return None, None\n",
    "        \n",
    "        span_els = self.soup.find_all(\"span\", class_=\"appellation\")\n",
    "        # year/edition is the first appel element\n",
    "        ye_text = span_els[0].text.strip()\n",
    "        # get the last piece with the date\n",
    "        cleaned_ye_text = ye_text[-7:]\n",
    "\n",
    "        year = cleaned_ye_text[:4]\n",
    "        edition = cleaned_ye_text[-2:]\n",
    "\n",
    "        return year, edition\n",
    "    \n",
    "    def get_date(self):\n",
    "        if self.soup == None:\n",
    "            return None\n",
    "\n",
    "        date_el = self.soup.find(\"span\", class_=\"pubtime\").text.strip()\n",
    "        # remove the time piece\n",
    "        date = date_el.split(\" \")[0]\n",
    "        return date\n",
    "    \n",
    "    def get_url(self):\n",
    "        return self.url\n",
    "    \n",
    "    def get_text(self):\n",
    "        if self.article == None:\n",
    "            return None\n",
    "\n",
    "        return self.article.text.replace('\\n', \"\")\n",
    "    \n",
    "class QiuShiArticle:\n",
    "    def __init__(self, article_parser):\n",
    "        self.authors = article_parser.get_authors()\n",
    "        self.title = article_parser.get_title()\n",
    "        self.date = article_parser.get_date()\n",
    "        self.year, self.edition = article_parser.get_year_edition()\n",
    "        self.url = article_parser.get_url()\n",
    "\n",
    "        try:\n",
    "            self.text = article_parser.get_text()\n",
    "        except:\n",
    "            self.text = None\n",
    "        \n",
    "\n",
    "    def toJson(self):\n",
    "        return self.__dict__"
   ]
  },
  {
   "cell_type": "code",
   "execution_count": 30,
   "metadata": {},
   "outputs": [
    {
     "data": {
      "text/html": [
       "<div>\n",
       "<style scoped>\n",
       "    .dataframe tbody tr th:only-of-type {\n",
       "        vertical-align: middle;\n",
       "    }\n",
       "\n",
       "    .dataframe tbody tr th {\n",
       "        vertical-align: top;\n",
       "    }\n",
       "\n",
       "    .dataframe thead th {\n",
       "        text-align: right;\n",
       "    }\n",
       "</style>\n",
       "<table border=\"1\" class=\"dataframe\">\n",
       "  <thead>\n",
       "    <tr style=\"text-align: right;\">\n",
       "      <th></th>\n",
       "      <th>year_name</th>\n",
       "      <th>edition_name</th>\n",
       "      <th>link</th>\n",
       "    </tr>\n",
       "  </thead>\n",
       "  <tbody>\n",
       "    <tr>\n",
       "      <th>0</th>\n",
       "      <td>《求是》2024年</td>\n",
       "      <td>2024年第1期《求是》目录</td>\n",
       "      <td>http://www.qstheory.cn/dukan/qs/2024-01/01/c_1...</td>\n",
       "    </tr>\n",
       "    <tr>\n",
       "      <th>1</th>\n",
       "      <td>《求是》2024年</td>\n",
       "      <td>2024年第1期《求是》目录</td>\n",
       "      <td>http://www.qstheory.cn/dukan/qs/2023-12/31/c_1...</td>\n",
       "    </tr>\n",
       "    <tr>\n",
       "      <th>2</th>\n",
       "      <td>《求是》2024年</td>\n",
       "      <td>2024年第1期《求是》目录</td>\n",
       "      <td>http://www.qstheory.cn/dukan/qs/2023-12/31/c_1...</td>\n",
       "    </tr>\n",
       "    <tr>\n",
       "      <th>3</th>\n",
       "      <td>《求是》2024年</td>\n",
       "      <td>2024年第1期《求是》目录</td>\n",
       "      <td>http://www.qstheory.cn/dukan/qs/2024-01/01/c_1...</td>\n",
       "    </tr>\n",
       "    <tr>\n",
       "      <th>4</th>\n",
       "      <td>《求是》2024年</td>\n",
       "      <td>2024年第1期《求是》目录</td>\n",
       "      <td>http://www.qstheory.cn/dukan/qs/2024-01/01/c_1...</td>\n",
       "    </tr>\n",
       "  </tbody>\n",
       "</table>\n",
       "</div>"
      ],
      "text/plain": [
       "   year_name    edition_name  \\\n",
       "0  《求是》2024年  2024年第1期《求是》目录   \n",
       "1  《求是》2024年  2024年第1期《求是》目录   \n",
       "2  《求是》2024年  2024年第1期《求是》目录   \n",
       "3  《求是》2024年  2024年第1期《求是》目录   \n",
       "4  《求是》2024年  2024年第1期《求是》目录   \n",
       "\n",
       "                                                link  \n",
       "0  http://www.qstheory.cn/dukan/qs/2024-01/01/c_1...  \n",
       "1  http://www.qstheory.cn/dukan/qs/2023-12/31/c_1...  \n",
       "2  http://www.qstheory.cn/dukan/qs/2023-12/31/c_1...  \n",
       "3  http://www.qstheory.cn/dukan/qs/2024-01/01/c_1...  \n",
       "4  http://www.qstheory.cn/dukan/qs/2024-01/01/c_1...  "
      ]
     },
     "execution_count": 30,
     "metadata": {},
     "output_type": "execute_result"
    }
   ],
   "source": [
    "import pandas as pd\n",
    "links_df = pd.read_csv('./links.csv')\n",
    "links_df.head()"
   ]
  },
  {
   "cell_type": "code",
   "execution_count": 31,
   "metadata": {},
   "outputs": [
    {
     "data": {
      "text/html": [
       "<div>\n",
       "<style scoped>\n",
       "    .dataframe tbody tr th:only-of-type {\n",
       "        vertical-align: middle;\n",
       "    }\n",
       "\n",
       "    .dataframe tbody tr th {\n",
       "        vertical-align: top;\n",
       "    }\n",
       "\n",
       "    .dataframe thead th {\n",
       "        text-align: right;\n",
       "    }\n",
       "</style>\n",
       "<table border=\"1\" class=\"dataframe\">\n",
       "  <thead>\n",
       "    <tr style=\"text-align: right;\">\n",
       "      <th></th>\n",
       "      <th>link</th>\n",
       "    </tr>\n",
       "  </thead>\n",
       "  <tbody>\n",
       "    <tr>\n",
       "      <th>583</th>\n",
       "      <td>http://www.qstheory.cn/dukan/qs/2022-03/01/c_1...</td>\n",
       "    </tr>\n",
       "    <tr>\n",
       "      <th>1388</th>\n",
       "      <td>http://www.qstheory.cn/dukan/qs/2020-01/01/c_1...</td>\n",
       "    </tr>\n",
       "    <tr>\n",
       "      <th>908</th>\n",
       "      <td>http://www.qstheory.cn/dukan/qs/2022-11/01/c_1...</td>\n",
       "    </tr>\n",
       "    <tr>\n",
       "      <th>1681</th>\n",
       "      <td>http://www.qstheory.cn/dukan/qs/2020-09/16/c_1...</td>\n",
       "    </tr>\n",
       "    <tr>\n",
       "      <th>1790</th>\n",
       "      <td>http://www.qstheory.cn/dukan/qs/2020-12/16/c_1...</td>\n",
       "    </tr>\n",
       "  </tbody>\n",
       "</table>\n",
       "</div>"
      ],
      "text/plain": [
       "                                                   link\n",
       "583   http://www.qstheory.cn/dukan/qs/2022-03/01/c_1...\n",
       "1388  http://www.qstheory.cn/dukan/qs/2020-01/01/c_1...\n",
       "908   http://www.qstheory.cn/dukan/qs/2022-11/01/c_1...\n",
       "1681  http://www.qstheory.cn/dukan/qs/2020-09/16/c_1...\n",
       "1790  http://www.qstheory.cn/dukan/qs/2020-12/16/c_1..."
      ]
     },
     "execution_count": 31,
     "metadata": {},
     "output_type": "execute_result"
    }
   ],
   "source": [
    "links_df = links_df.drop(columns=[\"year_name\", \"edition_name\"]).sample(100)\n",
    "links_df.head()"
   ]
  },
  {
   "cell_type": "code",
   "execution_count": 43,
   "metadata": {},
   "outputs": [],
   "source": [
    "sample_articles_df = pd.DataFrame(columns=[\"authors\", \"title\", \"date\", \"year\", \"edition\", \"url\", \"text\"])"
   ]
  },
  {
   "cell_type": "code",
   "execution_count": 44,
   "metadata": {},
   "outputs": [],
   "source": [
    "from tqdm import tqdm"
   ]
  },
  {
   "cell_type": "code",
   "execution_count": 46,
   "metadata": {},
   "outputs": [
    {
     "name": "stderr",
     "output_type": "stream",
     "text": [
      "  0%|          | 0/100 [00:00<?, ?it/s]"
     ]
    },
    {
     "name": "stderr",
     "output_type": "stream",
     "text": [
      " 23%|██▎       | 23/100 [00:29<01:36,  1.26s/it]"
     ]
    },
    {
     "name": "stdout",
     "output_type": "stream",
     "text": [
      "Calling ChatGPT...\n"
     ]
    },
    {
     "name": "stderr",
     "output_type": "stream",
     "text": [
      " 24%|██▍       | 24/100 [00:30<01:40,  1.32s/it]"
     ]
    },
    {
     "name": "stdout",
     "output_type": "stream",
     "text": [
      "Author returned by ChatGPT: 侯亚景 李贵文\n"
     ]
    },
    {
     "name": "stderr",
     "output_type": "stream",
     "text": [
      " 32%|███▏      | 32/100 [00:40<01:29,  1.31s/it]"
     ]
    },
    {
     "name": "stdout",
     "output_type": "stream",
     "text": [
      "Calling ChatGPT...\n"
     ]
    },
    {
     "name": "stderr",
     "output_type": "stream",
     "text": [
      " 33%|███▎      | 33/100 [00:42<01:42,  1.52s/it]"
     ]
    },
    {
     "name": "stdout",
     "output_type": "stream",
     "text": [
      "Author returned by ChatGPT: 中央港澳工作领导小组办公室 国务院港澳事务办公室\n"
     ]
    },
    {
     "name": "stderr",
     "output_type": "stream",
     "text": [
      " 41%|████      | 41/100 [00:53<01:17,  1.31s/it]"
     ]
    },
    {
     "name": "stdout",
     "output_type": "stream",
     "text": [
      "Calling ChatGPT...\n"
     ]
    },
    {
     "name": "stderr",
     "output_type": "stream",
     "text": [
      " 42%|████▏     | 42/100 [00:55<01:41,  1.74s/it]"
     ]
    },
    {
     "name": "stdout",
     "output_type": "stream",
     "text": [
      "Author returned by ChatGPT: 周昭成 龙丹梅\n"
     ]
    },
    {
     "name": "stderr",
     "output_type": "stream",
     "text": [
      " 50%|█████     | 50/100 [01:07<01:14,  1.50s/it]"
     ]
    },
    {
     "name": "stdout",
     "output_type": "stream",
     "text": [
      "Calling ChatGPT...\n"
     ]
    },
    {
     "name": "stderr",
     "output_type": "stream",
     "text": [
      " 51%|█████     | 51/100 [01:08<01:20,  1.64s/it]"
     ]
    },
    {
     "name": "stdout",
     "output_type": "stream",
     "text": [
      "Author returned by ChatGPT: 王寅 韩辰\n"
     ]
    },
    {
     "name": "stderr",
     "output_type": "stream",
     "text": [
      " 58%|█████▊    | 58/100 [01:16<00:44,  1.06s/it]"
     ]
    },
    {
     "name": "stdout",
     "output_type": "stream",
     "text": [
      "Article with URL: http://www.qstheory.cn/dukan/qs/2019-04/16/c_1124364204.htm failed to parse\n"
     ]
    },
    {
     "name": "stderr",
     "output_type": "stream",
     "text": [
      " 63%|██████▎   | 63/100 [01:22<00:39,  1.07s/it]"
     ]
    },
    {
     "name": "stdout",
     "output_type": "stream",
     "text": [
      "Calling ChatGPT...\n"
     ]
    },
    {
     "name": "stderr",
     "output_type": "stream",
     "text": [
      " 64%|██████▍   | 64/100 [01:25<00:54,  1.51s/it]"
     ]
    },
    {
     "name": "stdout",
     "output_type": "stream",
     "text": [
      "Author returned by ChatGPT: 尹霞\n"
     ]
    },
    {
     "name": "stderr",
     "output_type": "stream",
     "text": [
      " 83%|████████▎ | 83/100 [01:50<00:19,  1.18s/it]"
     ]
    },
    {
     "name": "stdout",
     "output_type": "stream",
     "text": [
      "Calling ChatGPT...\n"
     ]
    },
    {
     "name": "stderr",
     "output_type": "stream",
     "text": [
      " 84%|████████▍ | 84/100 [01:51<00:19,  1.19s/it]"
     ]
    },
    {
     "name": "stdout",
     "output_type": "stream",
     "text": [
      "Author returned by ChatGPT: 刘名美\n"
     ]
    },
    {
     "name": "stderr",
     "output_type": "stream",
     "text": [
      " 89%|████████▉ | 89/100 [01:57<00:12,  1.11s/it]"
     ]
    },
    {
     "name": "stdout",
     "output_type": "stream",
     "text": [
      "Calling ChatGPT...\n"
     ]
    },
    {
     "name": "stderr",
     "output_type": "stream",
     "text": [
      " 90%|█████████ | 90/100 [01:58<00:12,  1.25s/it]"
     ]
    },
    {
     "name": "stdout",
     "output_type": "stream",
     "text": [
      "Author returned by ChatGPT: 李孝纯 晏培娟\n"
     ]
    },
    {
     "name": "stderr",
     "output_type": "stream",
     "text": [
      " 98%|█████████▊| 98/100 [02:08<00:02,  1.20s/it]"
     ]
    },
    {
     "name": "stdout",
     "output_type": "stream",
     "text": [
      "Calling ChatGPT...\n"
     ]
    },
    {
     "name": "stderr",
     "output_type": "stream",
     "text": [
      " 99%|█████████▉| 99/100 [02:10<00:01,  1.31s/it]"
     ]
    },
    {
     "name": "stdout",
     "output_type": "stream",
     "text": [
      "Author returned by ChatGPT: 杨学军 方向\n"
     ]
    },
    {
     "name": "stderr",
     "output_type": "stream",
     "text": [
      "100%|██████████| 100/100 [02:11<00:00,  1.31s/it]\n"
     ]
    }
   ],
   "source": [
    "for link in tqdm(links_df[\"link\"]):\n",
    "    article_parser = QiuShiArticleParser(link)\n",
    "    article = QiuShiArticle(article_parser)\n",
    "\n",
    "    sample_articles_df.loc[len(sample_articles_df)] = [article.authors, article.title, article.date, article.year, article.edition, article.url, article.text]\n"
   ]
  },
  {
   "cell_type": "code",
   "execution_count": 47,
   "metadata": {},
   "outputs": [
    {
     "data": {
      "text/plain": [
       "100"
      ]
     },
     "execution_count": 47,
     "metadata": {},
     "output_type": "execute_result"
    }
   ],
   "source": [
    "len(sample_articles_df)"
   ]
  },
  {
   "cell_type": "code",
   "execution_count": 48,
   "metadata": {},
   "outputs": [
    {
     "data": {
      "text/html": [
       "<div>\n",
       "<style scoped>\n",
       "    .dataframe tbody tr th:only-of-type {\n",
       "        vertical-align: middle;\n",
       "    }\n",
       "\n",
       "    .dataframe tbody tr th {\n",
       "        vertical-align: top;\n",
       "    }\n",
       "\n",
       "    .dataframe thead th {\n",
       "        text-align: right;\n",
       "    }\n",
       "</style>\n",
       "<table border=\"1\" class=\"dataframe\">\n",
       "  <thead>\n",
       "    <tr style=\"text-align: right;\">\n",
       "      <th></th>\n",
       "      <th>authors</th>\n",
       "      <th>title</th>\n",
       "      <th>date</th>\n",
       "      <th>year</th>\n",
       "      <th>edition</th>\n",
       "      <th>url</th>\n",
       "      <th>text</th>\n",
       "    </tr>\n",
       "  </thead>\n",
       "  <tbody>\n",
       "    <tr>\n",
       "      <th>0</th>\n",
       "      <td>[新华社记者]</td>\n",
       "      <td>改革开放启新局</td>\n",
       "      <td>2022-03-01</td>\n",
       "      <td>2022</td>\n",
       "      <td>05</td>\n",
       "      <td>http://www.qstheory.cn/dukan/qs/2022-03/01/c_1...</td>\n",
       "      <td>改革开放启新局新华社记者改革开放是我们党的一次伟大觉醒，是决定当代中国前途命运的关键一招，是...</td>\n",
       "    </tr>\n",
       "    <tr>\n",
       "      <th>1</th>\n",
       "      <td>[王玉强]</td>\n",
       "      <td>重温《论共产党员的修养》</td>\n",
       "      <td>2020-01-01</td>\n",
       "      <td>2020</td>\n",
       "      <td>01</td>\n",
       "      <td>http://www.qstheory.cn/dukan/qs/2020-01/01/c_1...</td>\n",
       "      <td>1939年7月，刘少奇在延安发表《论共产党员的修养》（以下简称《修养》）演讲。这部名篇丰富了...</td>\n",
       "    </tr>\n",
       "    <tr>\n",
       "      <th>2</th>\n",
       "      <td>None</td>\n",
       "      <td>中国共产党第二十次全国代表大会关于十九届中央委员会报告的决议</td>\n",
       "      <td>2022-11-01</td>\n",
       "      <td>2022</td>\n",
       "      <td>21</td>\n",
       "      <td>http://www.qstheory.cn/dukan/qs/2022-11/01/c_1...</td>\n",
       "      <td>中国共产党第二十次全国代表大会关于十九届中央委员会报告的决议（2022年10月22日中国共产...</td>\n",
       "    </tr>\n",
       "    <tr>\n",
       "      <th>3</th>\n",
       "      <td>[谢伏瞻]</td>\n",
       "      <td>抗疫彰显中华优秀传统文化的强大力量</td>\n",
       "      <td>2020-09-16</td>\n",
       "      <td>2020</td>\n",
       "      <td>18</td>\n",
       "      <td>http://www.qstheory.cn/dukan/qs/2020-09/16/c_1...</td>\n",
       "      <td>在全国抗击新冠肺炎疫情表彰大会上，习近平总书记指出：“抗疫斗争伟大实践再次证明，社会主义核心...</td>\n",
       "    </tr>\n",
       "    <tr>\n",
       "      <th>4</th>\n",
       "      <td>[新华社记者]</td>\n",
       "      <td>赤胆忠魂写初心</td>\n",
       "      <td>2020-12-16</td>\n",
       "      <td>2020</td>\n",
       "      <td>24</td>\n",
       "      <td>http://www.qstheory.cn/dukan/qs/2020-12/16/c_1...</td>\n",
       "      <td>赤胆忠魂写初心新华社记者旌旗猎猎，战鼓催征。党的十八大以来，中国共产党带领亿万中华儿女向绝对...</td>\n",
       "    </tr>\n",
       "  </tbody>\n",
       "</table>\n",
       "</div>"
      ],
      "text/plain": [
       "   authors                           title        date  year edition  \\\n",
       "0  [新华社记者]                         改革开放启新局  2022-03-01  2022      05   \n",
       "1    [王玉强]                    重温《论共产党员的修养》  2020-01-01  2020      01   \n",
       "2     None  中国共产党第二十次全国代表大会关于十九届中央委员会报告的决议  2022-11-01  2022      21   \n",
       "3    [谢伏瞻]               抗疫彰显中华优秀传统文化的强大力量  2020-09-16  2020      18   \n",
       "4  [新华社记者]                         赤胆忠魂写初心  2020-12-16  2020      24   \n",
       "\n",
       "                                                 url  \\\n",
       "0  http://www.qstheory.cn/dukan/qs/2022-03/01/c_1...   \n",
       "1  http://www.qstheory.cn/dukan/qs/2020-01/01/c_1...   \n",
       "2  http://www.qstheory.cn/dukan/qs/2022-11/01/c_1...   \n",
       "3  http://www.qstheory.cn/dukan/qs/2020-09/16/c_1...   \n",
       "4  http://www.qstheory.cn/dukan/qs/2020-12/16/c_1...   \n",
       "\n",
       "                                                text  \n",
       "0  改革开放启新局新华社记者改革开放是我们党的一次伟大觉醒，是决定当代中国前途命运的关键一招，是...  \n",
       "1  1939年7月，刘少奇在延安发表《论共产党员的修养》（以下简称《修养》）演讲。这部名篇丰富了...  \n",
       "2  中国共产党第二十次全国代表大会关于十九届中央委员会报告的决议（2022年10月22日中国共产...  \n",
       "3  在全国抗击新冠肺炎疫情表彰大会上，习近平总书记指出：“抗疫斗争伟大实践再次证明，社会主义核心...  \n",
       "4  赤胆忠魂写初心新华社记者旌旗猎猎，战鼓催征。党的十八大以来，中国共产党带领亿万中华儿女向绝对...  "
      ]
     },
     "execution_count": 48,
     "metadata": {},
     "output_type": "execute_result"
    }
   ],
   "source": [
    "sample_articles_df.head()"
   ]
  },
  {
   "cell_type": "code",
   "execution_count": 49,
   "metadata": {},
   "outputs": [],
   "source": [
    "sample_articles_df.to_csv(\"sample_articles.csv\", index=False)"
   ]
  },
  {
   "cell_type": "code",
   "execution_count": null,
   "metadata": {},
   "outputs": [],
   "source": []
  }
 ],
 "metadata": {
  "kernelspec": {
   "display_name": "qiushi_venv",
   "language": "python",
   "name": "python3"
  },
  "language_info": {
   "codemirror_mode": {
    "name": "ipython",
    "version": 3
   },
   "file_extension": ".py",
   "mimetype": "text/x-python",
   "name": "python",
   "nbconvert_exporter": "python",
   "pygments_lexer": "ipython3",
   "version": "3.11.6"
  }
 },
 "nbformat": 4,
 "nbformat_minor": 2
}
